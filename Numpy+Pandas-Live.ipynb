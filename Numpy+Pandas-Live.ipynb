{
 "cells": [
  {
   "cell_type": "markdown",
   "id": "a5ed4d64",
   "metadata": {},
   "source": [
    "## Numpy and Pandas major syntaxes walkthrough\n",
    "\n",
    "### Agenda:\n",
    "\n",
    "**Numpy:**\n",
    "1. Numpy overview\n",
    "2. Array creation (ex., np.ones(),linspace,arange)\n",
    "3. Array manipulation-binary operations, matrix multiplication\n",
    "4. Array iteration\n",
    "5. Indexing, slicing, reshaping\n",
    "6. Searching, Sorting\n",
    "7. Statistical functions\n",
    "8. np.nan\n",
    "\n",
    "**Pandas:**\n",
    "1. loc,iloc, sorting by a column\n",
    "2. Missing values functions - fillna,isnull(),dropna\n",
    "3. Slicing with multiple conditions\n",
    "4. Performing binary operations with the columns of the data frame\n",
    "5. Typecasting a series of the dataframe - astype(),to_numeric()\n",
    "6. A brief idea on statistical functions- mean, median, mode with describe function\n",
    "7. comparing two series/array-like objects using .all() any()\n",
    "8. descriptive stats- row or column-wise function application\n",
    "9. nlargest()/ nsmallest()"
   ]
  },
  {
   "cell_type": "markdown",
   "id": "dc670ae3",
   "metadata": {},
   "source": [
    "## <u>Numpy</u>\n",
    "\n",
    "Using NumPy, a developer can perform the following operations −\n",
    "\n",
    "Mathematical and logical operations on arrays.\n",
    "Fourier transforms and routines for shape manipulation.\n",
    "Operations related to linear algebra. NumPy has in-built functions for linear algebra and random number generation.\n",
    "NumPy – A Replacement for MatLab\n",
    "\n",
    "NumPy is often used along with packages like SciPy (Scientific Python) and Matplotlib (plotting library). This combination is widely used as a replacement for MatLab, a popular platform for technical computing. However, Python alternative to MatLab is now seen as a more modern and complete programming language.\n",
    "\n",
    "It is open-source, which is an added advantage of NumPy."
   ]
  },
  {
   "cell_type": "code",
   "execution_count": null,
   "id": "bf77a032",
   "metadata": {},
   "outputs": [],
   "source": [
    "list1 = ['Sam', 21, 34.4, 'First class']"
   ]
  },
  {
   "cell_type": "markdown",
   "id": "b8edb25d",
   "metadata": {},
   "source": [
    "### Array creation"
   ]
  },
  {
   "cell_type": "code",
   "execution_count": 25,
   "id": "3fdf679b",
   "metadata": {},
   "outputs": [
    {
     "data": {
      "text/plain": [
       "array([1, 2, 3])"
      ]
     },
     "execution_count": 25,
     "metadata": {},
     "output_type": "execute_result"
    }
   ],
   "source": [
    "import numpy as np \n",
    "\n",
    "# creating one-dimensional array\n",
    "arr = np.array([1,2,3])\n",
    "arr"
   ]
  },
  {
   "cell_type": "code",
   "execution_count": 32,
   "id": "be8dbf15",
   "metadata": {},
   "outputs": [
    {
     "data": {
      "text/plain": [
       "(2, 3)"
      ]
     },
     "execution_count": 32,
     "metadata": {},
     "output_type": "execute_result"
    }
   ],
   "source": [
    "# more than one dimensions\n",
    "arr = np.array([[1,2,3], [4,5,6]])\n",
    "arr.shape"
   ]
  },
  {
   "cell_type": "code",
   "execution_count": 39,
   "id": "44559866",
   "metadata": {},
   "outputs": [
    {
     "name": "stdout",
     "output_type": "stream",
     "text": [
      "[[1 2 3 4 5]]\n"
     ]
    }
   ],
   "source": [
    "# minimum dimensions\n",
    "a = np.array([1, 2, 3,4,5], ndmin = 2) \n",
    "print(a)"
   ]
  },
  {
   "cell_type": "code",
   "execution_count": 35,
   "id": "fc11e1c6",
   "metadata": {},
   "outputs": [
    {
     "data": {
      "text/plain": [
       "1"
      ]
     },
     "execution_count": 35,
     "metadata": {},
     "output_type": "execute_result"
    }
   ],
   "source": [
    "a.ndim"
   ]
  },
  {
   "cell_type": "code",
   "execution_count": 30,
   "id": "bcc3fcd8",
   "metadata": {},
   "outputs": [
    {
     "name": "stdout",
     "output_type": "stream",
     "text": [
      "[[0. 0. 0.]\n",
      " [0. 0. 0.]]\n",
      "[[1. 1.]\n",
      " [1. 1.]]\n"
     ]
    }
   ],
   "source": [
    "# np zeroes\n",
    "arr = np.zeros((2,3))\n",
    "print(arr)\n",
    "\n",
    "# np ones\n",
    "arr = np.ones((2,2))\n",
    "print(arr)"
   ]
  },
  {
   "cell_type": "code",
   "execution_count": 42,
   "id": "359c864d",
   "metadata": {},
   "outputs": [
    {
     "data": {
      "text/plain": [
       "array([ 1,  3,  5,  7,  9, 11, 13])"
      ]
     },
     "execution_count": 42,
     "metadata": {},
     "output_type": "execute_result"
    }
   ],
   "source": [
    "# np.arange()\n",
    "np.arange(1, 15, 2)"
   ]
  },
  {
   "cell_type": "code",
   "execution_count": 43,
   "id": "de1516c2",
   "metadata": {},
   "outputs": [
    {
     "name": "stdout",
     "output_type": "stream",
     "text": [
      "int32\n"
     ]
    }
   ],
   "source": [
    "# using array-scalar type\n",
    "dt = np.dtype(np.int32) \n",
    "print(dt)"
   ]
  },
  {
   "cell_type": "code",
   "execution_count": 45,
   "id": "59a4d6d9",
   "metadata": {},
   "outputs": [
    {
     "name": "stdout",
     "output_type": "stream",
     "text": [
      "int32\n"
     ]
    }
   ],
   "source": [
    "#int8, int16, int32, int64 can be replaced by equivalent string 'i1', 'i2','i4', etc.\n",
    "dt = np.dtype('i4')\n",
    "print(dt)"
   ]
  },
  {
   "cell_type": "code",
   "execution_count": null,
   "id": "b5446b72",
   "metadata": {},
   "outputs": [],
   "source": [
    "# using endian notation\n",
    "dt = np.dtype('>i4') \n",
    "print(dt)"
   ]
  },
  {
   "cell_type": "code",
   "execution_count": null,
   "id": "05151909",
   "metadata": {},
   "outputs": [],
   "source": [
    "# first create structured data type \n",
    "import numpy as np \n",
    "dt = np.dtype([('age',np.int8)]) \n",
    "print(dt)"
   ]
  },
  {
   "cell_type": "code",
   "execution_count": 44,
   "id": "0579ff6f",
   "metadata": {},
   "outputs": [
    {
     "name": "stdout",
     "output_type": "stream",
     "text": [
      "[(10,) (20,) (30,)]\n"
     ]
    }
   ],
   "source": [
    "# now apply it to ndarray object \n",
    "dt = np.dtype([('age',np.int8)]) \n",
    "a = np.array([(10,),(20,),(30,)], dtype = dt) \n",
    "print(a)"
   ]
  },
  {
   "cell_type": "code",
   "execution_count": 53,
   "id": "5e77263f",
   "metadata": {},
   "outputs": [
    {
     "data": {
      "text/plain": [
       "array([[3, 4, 4],\n",
       "       [4, 3, 3],\n",
       "       [3, 4, 3]])"
      ]
     },
     "execution_count": 53,
     "metadata": {},
     "output_type": "execute_result"
    }
   ],
   "source": [
    "# random.randint\n",
    "np.random.randint(3, 5, size=(3,3))"
   ]
  },
  {
   "cell_type": "markdown",
   "id": "5167613b",
   "metadata": {},
   "source": [
    "### linspace\n",
    "\n",
    "NUMPY LINSPACE CREATES SEQUENCES OF EVENLY SPACED VALUES WITHIN AN INTERVAL"
   ]
  },
  {
   "cell_type": "code",
   "execution_count": 60,
   "id": "a2589d9e",
   "metadata": {},
   "outputs": [
    {
     "data": {
      "text/plain": [
       "array([  1,  20,  40,  60,  80, 100], dtype=int32)"
      ]
     },
     "execution_count": 60,
     "metadata": {},
     "output_type": "execute_result"
    }
   ],
   "source": [
    "# linspace\n",
    "np.linspace(1, 100, num=6, dtype=np.int32)"
   ]
  },
  {
   "cell_type": "markdown",
   "id": "2e470b04",
   "metadata": {},
   "source": [
    "### ndarray.shape"
   ]
  },
  {
   "cell_type": "code",
   "execution_count": 68,
   "id": "25224978",
   "metadata": {},
   "outputs": [
    {
     "name": "stdout",
     "output_type": "stream",
     "text": [
      "[[3 4 5]\n",
      " [1 2 3]]\n"
     ]
    },
    {
     "data": {
      "text/plain": [
       "(2, 3)"
      ]
     },
     "execution_count": 68,
     "metadata": {},
     "output_type": "execute_result"
    }
   ],
   "source": [
    "# np.array.shape\n",
    "arr = np.array([[3,4,5], [1,2,3]])\n",
    "print(arr)\n",
    "arr.shape"
   ]
  },
  {
   "cell_type": "code",
   "execution_count": 69,
   "id": "7c30a374",
   "metadata": {},
   "outputs": [
    {
     "name": "stdout",
     "output_type": "stream",
     "text": [
      "[[[3 4 5]]\n",
      "\n",
      " [[1 2 3]]]\n"
     ]
    },
    {
     "data": {
      "text/plain": [
       "(2, 1, 3)"
      ]
     },
     "execution_count": 69,
     "metadata": {},
     "output_type": "execute_result"
    }
   ],
   "source": [
    "arr = np.array([[[3,4,5]], [[1,2,3]]])\n",
    "print(arr)\n",
    "arr.shape"
   ]
  },
  {
   "cell_type": "code",
   "execution_count": 77,
   "id": "78a0ba56",
   "metadata": {},
   "outputs": [
    {
     "name": "stdout",
     "output_type": "stream",
     "text": [
      "[[1 2 3]\n",
      " [4 5 6]]\n"
     ]
    },
    {
     "data": {
      "text/plain": [
       "array([[1, 2],\n",
       "       [3, 4],\n",
       "       [5, 6]])"
      ]
     },
     "execution_count": 77,
     "metadata": {},
     "output_type": "execute_result"
    }
   ],
   "source": [
    "# this resizes the ndarray\n",
    "a = np.array([[1,2,3],[4,5,6]])\n",
    "print(a)\n",
    "a.resize(3,2)\n",
    "a"
   ]
  },
  {
   "cell_type": "markdown",
   "id": "d7f572d6",
   "metadata": {},
   "source": [
    "### ndarray.ndim"
   ]
  },
  {
   "cell_type": "code",
   "execution_count": null,
   "id": "2859343e",
   "metadata": {},
   "outputs": [],
   "source": [
    "# an array of evenly spaced numbers\n",
    "a = np.arange(24) \n",
    "print(a)"
   ]
  },
  {
   "cell_type": "code",
   "execution_count": 82,
   "id": "4c382abf",
   "metadata": {},
   "outputs": [
    {
     "name": "stdout",
     "output_type": "stream",
     "text": [
      "[ 0  1  2  3  4  5  6  7  8  9 10 11 12 13 14 15 16 17 18 19 20 21 22 23]\n",
      "1\n",
      "[[[ 0  1  2  3  4  5]\n",
      "  [ 6  7  8  9 10 11]]\n",
      "\n",
      " [[12 13 14 15 16 17]\n",
      "  [18 19 20 21 22 23]]]\n"
     ]
    }
   ],
   "source": [
    "# this is one dimensional array\n",
    "a = np.arange(24) \n",
    "print(a)\n",
    "print(a.ndim)  \n",
    "\n",
    "# now reshape it \n",
    "b = a.reshape(2,2,6) \n",
    "print(b) \n",
    "\n",
    "# b is having three dimensions"
   ]
  },
  {
   "cell_type": "markdown",
   "id": "f54052d6",
   "metadata": {},
   "source": [
    "### numpy.itemsize"
   ]
  },
  {
   "cell_type": "code",
   "execution_count": 83,
   "id": "0933f748",
   "metadata": {},
   "outputs": [
    {
     "name": "stdout",
     "output_type": "stream",
     "text": [
      "1\n"
     ]
    }
   ],
   "source": [
    "# dtype of array is int8 (1 byte)\n",
    "x = np.array([1,2,3,4,5], dtype = np.int8)\n",
    "print(x.itemsize)"
   ]
  },
  {
   "cell_type": "code",
   "execution_count": 84,
   "id": "bfb76a3b",
   "metadata": {},
   "outputs": [
    {
     "name": "stdout",
     "output_type": "stream",
     "text": [
      "[1. 2. 3. 4. 5.]\n",
      "4\n"
     ]
    }
   ],
   "source": [
    "# dtype of array is now float32 (4 bytes) \n",
    "import numpy as np \n",
    "x = np.array([1,2,3,4,5], dtype = np.float32) \n",
    "print(x)\n",
    "print(x.itemsize)"
   ]
  },
  {
   "cell_type": "code",
   "execution_count": null,
   "id": "1b09f7ad",
   "metadata": {},
   "outputs": [],
   "source": []
  },
  {
   "cell_type": "markdown",
   "id": "86ac3c5f",
   "metadata": {},
   "source": [
    "### NumPy – Array Creation Routines"
   ]
  },
  {
   "cell_type": "code",
   "execution_count": 93,
   "id": "b9418f67",
   "metadata": {},
   "outputs": [
    {
     "name": "stdout",
     "output_type": "stream",
     "text": [
      "[[0 9 0]\n",
      " [0 0 0]]\n"
     ]
    }
   ],
   "source": [
    "x = np.empty([2,3], dtype = int) \n",
    "print(x)"
   ]
  },
  {
   "cell_type": "code",
   "execution_count": 99,
   "id": "456faebb",
   "metadata": {},
   "outputs": [
    {
     "name": "stdout",
     "output_type": "stream",
     "text": [
      "[[0 0 0 0]]\n"
     ]
    }
   ],
   "source": [
    "y = np.empty([1,4], dtype = int)\n",
    "print(y)"
   ]
  },
  {
   "cell_type": "code",
   "execution_count": 100,
   "id": "d4496fc1",
   "metadata": {},
   "outputs": [
    {
     "name": "stdout",
     "output_type": "stream",
     "text": [
      "[1. 1. 1. 1. 1.]\n"
     ]
    }
   ],
   "source": [
    "# array of five ones. Default dtype is float\n",
    "x = np.ones(5) \n",
    "print(x)"
   ]
  },
  {
   "cell_type": "markdown",
   "id": "5879d0c9",
   "metadata": {},
   "source": [
    "### NumPy – Indexing & Slicing"
   ]
  },
  {
   "cell_type": "code",
   "execution_count": 117,
   "id": "ff8c64d6",
   "metadata": {},
   "outputs": [
    {
     "name": "stdout",
     "output_type": "stream",
     "text": [
      "[0 1 2 3 4 5 6 7 8 9]\n",
      "[2 3 4 5 6 7]\n",
      "5\n"
     ]
    }
   ],
   "source": [
    "a = np.arange(10) \n",
    "print(a)\n",
    "print (a[slice(2,8)])\n",
    "print(a[5])"
   ]
  },
  {
   "cell_type": "code",
   "execution_count": 108,
   "id": "6a713fa5",
   "metadata": {},
   "outputs": [
    {
     "name": "stdout",
     "output_type": "stream",
     "text": [
      "[2 3 4 5 6]\n"
     ]
    }
   ],
   "source": [
    "a = np.arange(10) \n",
    "b = a[2:7] \n",
    "print(b)"
   ]
  },
  {
   "cell_type": "code",
   "execution_count": 115,
   "id": "b9db7193",
   "metadata": {},
   "outputs": [
    {
     "name": "stdout",
     "output_type": "stream",
     "text": [
      "5\n"
     ]
    }
   ],
   "source": [
    "# slice single item \n",
    "a = np.arange(10) \n",
    "b = a[5] \n",
    "print(b)"
   ]
  },
  {
   "cell_type": "code",
   "execution_count": 111,
   "id": "a229aea3",
   "metadata": {},
   "outputs": [
    {
     "name": "stdout",
     "output_type": "stream",
     "text": [
      "[2 3 4 5 6 7 8 9]\n"
     ]
    }
   ],
   "source": [
    "# slice items starting from index\n",
    "a = np.arange(10) \n",
    "print(a[2:])"
   ]
  },
  {
   "cell_type": "code",
   "execution_count": null,
   "id": "b7f75c32",
   "metadata": {},
   "outputs": [],
   "source": [
    "# slice items between indexes \n",
    "import numpy as np \n",
    "a = np.arange(10) \n",
    "print (a[2:5])"
   ]
  },
  {
   "cell_type": "markdown",
   "id": "53776d30",
   "metadata": {},
   "source": [
    "### NumPy – Advanced Indexing"
   ]
  },
  {
   "cell_type": "code",
   "execution_count": 113,
   "id": "c2898737",
   "metadata": {},
   "outputs": [
    {
     "name": "stdout",
     "output_type": "stream",
     "text": [
      "Our array is:\n",
      "[[ 0  1  2]\n",
      " [ 3  4  5]\n",
      " [ 6  7  8]\n",
      " [ 9 10 11]]\n",
      "\n",
      "\n",
      "The items greater than 5 are:\n",
      "[ 6  7  8  9 10 11]\n"
     ]
    }
   ],
   "source": [
    "x = np.array([[ 0,  1,  2],[ 3,  4,  5],[ 6,  7,  8],[ 9, 10, 11]]) \n",
    "print ('Our array is:') \n",
    "print (x)\n",
    "print ('\\n')  \n",
    "\n",
    "# Now we will print the items greater than 5 \n",
    "print ('The items greater than 5 are:')\n",
    "print (x[x > 5])\n"
   ]
  },
  {
   "cell_type": "markdown",
   "id": "cfdd875f",
   "metadata": {},
   "source": [
    "### NumPy – Broadcasting"
   ]
  },
  {
   "cell_type": "code",
   "execution_count": 120,
   "id": "ca96e31f",
   "metadata": {},
   "outputs": [
    {
     "name": "stdout",
     "output_type": "stream",
     "text": [
      "[  5  40  90 160]\n"
     ]
    }
   ],
   "source": [
    "a = np.array([1,2,3,4]) \n",
    "b = np.array([5,20,30,40]) \n",
    "c = a * b \n",
    "print(c)"
   ]
  },
  {
   "cell_type": "markdown",
   "id": "873c7c5b",
   "metadata": {},
   "source": [
    "### Array Iteration"
   ]
  },
  {
   "cell_type": "code",
   "execution_count": 121,
   "id": "e67e90a0",
   "metadata": {},
   "outputs": [
    {
     "name": "stdout",
     "output_type": "stream",
     "text": [
      "2\n",
      "1\n",
      "4\n"
     ]
    }
   ],
   "source": [
    "arr1 = np.array([2, 1, 4])\n",
    "for x in arr1:\n",
    "    print(x)"
   ]
  },
  {
   "cell_type": "code",
   "execution_count": 127,
   "id": "8bb87d47",
   "metadata": {},
   "outputs": [
    {
     "name": "stdout",
     "output_type": "stream",
     "text": [
      "[[4 3]\n",
      " [1 4]]\n",
      "[[7 6]\n",
      " [3 2]]\n"
     ]
    }
   ],
   "source": [
    "arr = np.array([[[4, 3], [1, 4]], [[7, 6], [3, 2]]])\n",
    "for x in arr:\n",
    "    print(x)"
   ]
  },
  {
   "cell_type": "code",
   "execution_count": 122,
   "id": "14442035",
   "metadata": {},
   "outputs": [
    {
     "name": "stdout",
     "output_type": "stream",
     "text": [
      "4\n",
      "3\n",
      "1\n",
      "4\n",
      "7\n",
      "6\n",
      "3\n",
      "2\n"
     ]
    }
   ],
   "source": [
    "# using nditer \n",
    "arr = np.array([[[4, 3], [1, 4]], [[7, 6], [3, 2]]])\n",
    "for x in np.nditer(arr):\n",
    "    print(x)"
   ]
  },
  {
   "cell_type": "code",
   "execution_count": 132,
   "id": "11dfee7f",
   "metadata": {},
   "outputs": [
    {
     "name": "stdout",
     "output_type": "stream",
     "text": [
      "4\n",
      "3\n",
      "1\n",
      "4\n",
      "7\n",
      "6\n",
      "3\n",
      "2\n"
     ]
    }
   ],
   "source": [
    "arr = np.array([[[4, 3], [1, 4]], [[7, 6], [3, 2]]])\n",
    "for x in np.nditer(arr):\n",
    "    print(x)"
   ]
  },
  {
   "cell_type": "code",
   "execution_count": 138,
   "id": "83ddede1",
   "metadata": {},
   "outputs": [
    {
     "name": "stdout",
     "output_type": "stream",
     "text": [
      "[[ 8 16 44 14 77]\n",
      " [22 30 41 44 16]]\n",
      " \n",
      "[[ 8 44 77]\n",
      " [22 41 16]]\n",
      "8\n",
      "44\n",
      "77\n",
      "22\n",
      "41\n",
      "16\n"
     ]
    }
   ],
   "source": [
    "arr =  np.array([[8, 16, 44, 14, 77],[22, 30, 41, 44, 16]])\n",
    "print(arr)\n",
    "print(\" \")\n",
    "print(arr[:, ::2])\n",
    "for x in np.nditer(arr[:, ::2]):\n",
    "    print(x)"
   ]
  },
  {
   "cell_type": "code",
   "execution_count": null,
   "id": "1460e91d",
   "metadata": {},
   "outputs": [],
   "source": []
  },
  {
   "cell_type": "markdown",
   "id": "cfcf81a6",
   "metadata": {},
   "source": [
    "### NumPy – Statistical Functions\n",
    "\n",
    "NumPy has quite a few useful statistical functions for finding minimum, maximum, percentile standard deviation and variance, etc. from the given elements in the array. The functions are explained as follows −\n",
    "\n",
    "numpy.amin() and numpy.amax()numpy.amin() and numpy.amax()\n",
    "\n",
    "These functions return the minimum and the maximum from the elements in the given array along the specified axis."
   ]
  },
  {
   "cell_type": "code",
   "execution_count": 140,
   "id": "aea357fa",
   "metadata": {},
   "outputs": [
    {
     "name": "stdout",
     "output_type": "stream",
     "text": [
      "Our array is:\n",
      "[[3 7 5]\n",
      " [8 4 3]\n",
      " [2 4 9]]\n",
      "\n",
      "\n",
      "Applying amin() function:\n",
      "2\n",
      "\n",
      "\n",
      "Applying amin() function again:\n",
      "[2 4 3]\n",
      "\n",
      "\n",
      "Applying amax() function:\n",
      "9\n",
      "\n",
      "\n",
      "Applying amax() function again:\n",
      "[8 7 9]\n"
     ]
    }
   ],
   "source": [
    "a = np.array([[3,7,5],[8,4,3],[2,4,9]]) \n",
    "print('Our array is:') \n",
    "print(a)  \n",
    "print('\\n')  \n",
    "print('Applying amin() function:') \n",
    "print(np.amin(a)) \n",
    "print('\\n')  \n",
    "print('Applying amin() function again:') \n",
    "print(np.amin(a,0)) \n",
    "print('\\n')  \n",
    "print('Applying amax() function:') \n",
    "print(np.amax(a)) \n",
    "print('\\n')\n",
    "print('Applying amax() function again:') \n",
    "print(np.amax(a, axis = 0))"
   ]
  },
  {
   "cell_type": "markdown",
   "id": "234aaf7a",
   "metadata": {},
   "source": [
    "### Matrix Arithmetics under NumPy"
   ]
  },
  {
   "cell_type": "code",
   "execution_count": 141,
   "id": "bc05db34",
   "metadata": {},
   "outputs": [
    {
     "data": {
      "text/plain": [
       "array([8, 9, 3])"
      ]
     },
     "execution_count": 141,
     "metadata": {},
     "output_type": "execute_result"
    }
   ],
   "source": [
    "x = np.array([1, 5, 2])\n",
    "y = np.array([7, 4, 1])\n",
    "x + y"
   ]
  },
  {
   "cell_type": "code",
   "execution_count": 142,
   "id": "688f5f17",
   "metadata": {},
   "outputs": [
    {
     "data": {
      "text/plain": [
       "array([-6,  1,  1])"
      ]
     },
     "execution_count": 142,
     "metadata": {},
     "output_type": "execute_result"
    }
   ],
   "source": [
    "x-y"
   ]
  },
  {
   "cell_type": "code",
   "execution_count": 143,
   "id": "b21286ba",
   "metadata": {},
   "outputs": [
    {
     "data": {
      "text/plain": [
       "array([0.14285714, 1.25      , 2.        ])"
      ]
     },
     "execution_count": 143,
     "metadata": {},
     "output_type": "execute_result"
    }
   ],
   "source": [
    "x/y"
   ]
  },
  {
   "cell_type": "code",
   "execution_count": 144,
   "id": "0a06c72d",
   "metadata": {},
   "outputs": [
    {
     "data": {
      "text/plain": [
       "array([1, 1, 0])"
      ]
     },
     "execution_count": 144,
     "metadata": {},
     "output_type": "execute_result"
    }
   ],
   "source": [
    "x%y"
   ]
  },
  {
   "cell_type": "code",
   "execution_count": 147,
   "id": "c77cc5b2",
   "metadata": {},
   "outputs": [
    {
     "data": {
      "text/plain": [
       "36"
      ]
     },
     "execution_count": 147,
     "metadata": {},
     "output_type": "execute_result"
    }
   ],
   "source": [
    "# dot or scalar product\n",
    "x = np.array([1, 2, 3])\n",
    "y = np.array([-7, 8, 9])\n",
    "np.dot(x, y)"
   ]
  },
  {
   "cell_type": "code",
   "execution_count": 148,
   "id": "34eb6531",
   "metadata": {},
   "outputs": [
    {
     "name": "stdout",
     "output_type": "stream",
     "text": [
      "[[17  1]\n",
      " [28  1]]\n"
     ]
    }
   ],
   "source": [
    "# matrix product\n",
    "x = np.array( ((2,3), (3, 5)) )\n",
    "y = np.matrix( ((1,2), (5, -1)) )\n",
    "print(np.dot(x,y))"
   ]
  },
  {
   "cell_type": "markdown",
   "id": "094c1933",
   "metadata": {},
   "source": [
    "### NumPy Searching Function"
   ]
  },
  {
   "cell_type": "markdown",
   "id": "2279d406",
   "metadata": {},
   "source": [
    "***np.argmax()***\n",
    "This function returns the index of the maximum value in the array list. The search can be specific to a particular axis or the entire array."
   ]
  },
  {
   "cell_type": "code",
   "execution_count": 149,
   "id": "7fef5406",
   "metadata": {},
   "outputs": [
    {
     "name": "stdout",
     "output_type": "stream",
     "text": [
      "3\n"
     ]
    }
   ],
   "source": [
    "import numpy as np\n",
    "arr=np.array([[74,23],[56,98]])\n",
    "print(np.argmax(arr))"
   ]
  },
  {
   "cell_type": "markdown",
   "id": "cb26b307",
   "metadata": {},
   "source": [
    "***np.nanargmax()***\n",
    "This function returns the index of the maximum value element after ignoring ‘Not a Number’ (NaN) values present in the list."
   ]
  },
  {
   "cell_type": "code",
   "execution_count": 150,
   "id": "1ea56739",
   "metadata": {},
   "outputs": [
    {
     "name": "stdout",
     "output_type": "stream",
     "text": [
      "4\n"
     ]
    }
   ],
   "source": [
    "import numpy as np\n",
    "arr=np.array([[74,np.nan,59],[56,98,np.nan]])\n",
    "print(np.nanargmax(arr))"
   ]
  },
  {
   "cell_type": "markdown",
   "id": "4677ee05",
   "metadata": {},
   "source": [
    "***np.argmin()***\n",
    "This function returns the index of the minimum value in the array list. The search can be specific to a particular axis or the entire array."
   ]
  },
  {
   "cell_type": "code",
   "execution_count": 151,
   "id": "8e1facb5",
   "metadata": {},
   "outputs": [
    {
     "name": "stdout",
     "output_type": "stream",
     "text": [
      "2\n"
     ]
    }
   ],
   "source": [
    "import numpy as np\n",
    "arr=np.array([[74,59],[56,98]])\n",
    "print(np.argmin(arr))"
   ]
  },
  {
   "cell_type": "markdown",
   "id": "d3f7acac",
   "metadata": {},
   "source": [
    "***np.nanargmin()***\n",
    "This function returns the index of the minimum value element after ignoring ‘Not a Number’ (NaN) values present in the list."
   ]
  },
  {
   "cell_type": "code",
   "execution_count": 152,
   "id": "3813a07e",
   "metadata": {},
   "outputs": [
    {
     "name": "stdout",
     "output_type": "stream",
     "text": [
      "3\n"
     ]
    }
   ],
   "source": [
    "import numpy as np\n",
    "arr=np.array([[74,np.nan,59],[56,98,np.nan]])\n",
    "print(np.nanargmin(arr))"
   ]
  },
  {
   "cell_type": "markdown",
   "id": "6f5daa4b",
   "metadata": {},
   "source": [
    "***np.extract()***\n",
    "This function returns the array values that satisfy a particular condition"
   ]
  },
  {
   "cell_type": "code",
   "execution_count": 153,
   "id": "a3070c56",
   "metadata": {},
   "outputs": [
    {
     "name": "stdout",
     "output_type": "stream",
     "text": [
      "[74 98]\n"
     ]
    }
   ],
   "source": [
    "import numpy as np\n",
    "arr=np.array([[74,33],[59,98]])\n",
    "a=np.mod(arr,2) ==0\n",
    "print(np.extract(a,arr))"
   ]
  },
  {
   "cell_type": "markdown",
   "id": "44896939",
   "metadata": {},
   "source": [
    "***np.nonzero()***\n",
    "This function search returns values that are non-zero."
   ]
  },
  {
   "cell_type": "code",
   "execution_count": 154,
   "id": "29a298e1",
   "metadata": {},
   "outputs": [
    {
     "name": "stdout",
     "output_type": "stream",
     "text": [
      "(array([1, 2, 4]),)\n"
     ]
    }
   ],
   "source": [
    "arr=np.array([0,56,89,0,23])\n",
    "print(np.nonzero(arr))"
   ]
  },
  {
   "cell_type": "markdown",
   "id": "3a968f8c",
   "metadata": {},
   "source": [
    "### NumPy Sorting Function"
   ]
  },
  {
   "cell_type": "markdown",
   "id": "f609ca16",
   "metadata": {},
   "source": [
    "***np.sort()***\n",
    "This function returns an array in sorted format."
   ]
  },
  {
   "cell_type": "code",
   "execution_count": 156,
   "id": "1b052e07",
   "metadata": {},
   "outputs": [
    {
     "name": "stdout",
     "output_type": "stream",
     "text": [
      "[[ 1 16 28 47 53 87]]\n"
     ]
    }
   ],
   "source": [
    "arr = np.array([[16,1,47,53,87,28]])\n",
    "print(np.sort(arr))"
   ]
  },
  {
   "cell_type": "markdown",
   "id": "3c428a97",
   "metadata": {},
   "source": [
    "***np.argsort()***\n",
    "This function returns the indices of the sorted array. We can perform this along a particular axis."
   ]
  },
  {
   "cell_type": "code",
   "execution_count": 157,
   "id": "99396e8e",
   "metadata": {},
   "outputs": [
    {
     "name": "stdout",
     "output_type": "stream",
     "text": [
      "[[1 0 5 2 3 4]]\n"
     ]
    }
   ],
   "source": [
    "arr = np.array([[16,1,47,53,87,28]])\n",
    "print(np.argsort(arr))"
   ]
  },
  {
   "cell_type": "markdown",
   "id": "21b2f90b",
   "metadata": {},
   "source": [
    "***np.lexsort()***\n",
    "This function returns the indices of array elements indirectly sorted by using a key sequence.We can consider the last key as the primary one."
   ]
  },
  {
   "cell_type": "code",
   "execution_count": 158,
   "id": "563a1bd7",
   "metadata": {},
   "outputs": [
    {
     "name": "stdout",
     "output_type": "stream",
     "text": [
      "[[1 0 5 2 3 4]]\n"
     ]
    }
   ],
   "source": [
    "arr1 =np.array([[16,1,47,53,87,28]])\n",
    "arr2 =np.array([[56,90,44,32,77,45]])\n",
    "#sort by arr1 and then arr2\n",
    "print(np.lexsort((arr2,arr1)))"
   ]
  },
  {
   "cell_type": "markdown",
   "id": "1145de13",
   "metadata": {},
   "source": [
    "### Numpy MCQs"
   ]
  },
  {
   "cell_type": "markdown",
   "id": "c5e6a768",
   "metadata": {},
   "source": [
    "### 1. Observe the following code and identify what will be the outcome?\n",
    "\n",
    "import numpy as np \n",
    "\n",
    "x = np.array([[0, 1],\n",
    "       [2, 3]])\n",
    "       \n",
    "np.transpose(x)\n",
    "\n",
    "A. array([[0, 2],\n",
    "       [1, 3]])\n",
    "       \n",
    "B. array([[0, 1],\n",
    "       [2, 3]])\n",
    "       \n",
    "C. array([[2, 3],\n",
    "       [0, 1]])\n",
    "       \n",
    "D. None of the mentioned above"
   ]
  },
  {
   "cell_type": "code",
   "execution_count": 159,
   "id": "050b93c7",
   "metadata": {},
   "outputs": [
    {
     "data": {
      "text/plain": [
       "array([[0, 2],\n",
       "       [1, 3]])"
      ]
     },
     "execution_count": 159,
     "metadata": {},
     "output_type": "execute_result"
    }
   ],
   "source": [
    "import numpy as np \n",
    "\n",
    "x = np.array([[0, 1],\n",
    "       [2, 3]])\n",
    "       \n",
    "np.transpose(x)"
   ]
  },
  {
   "cell_type": "markdown",
   "id": "ad51aec4",
   "metadata": {},
   "source": [
    "### 2. What will be printed? \n",
    "\n",
    " import numpy as np\n",
    " \n",
    " a = np.array([1,2,3,5,8])\n",
    " \n",
    " b = np.array([0,3,4,2,1])\n",
    " \n",
    " c = a + b\n",
    " \n",
    " c = c*a\n",
    " \n",
    " print (c[2])\n",
    " \n",
    "A. 7\n",
    "\n",
    "B. 12\n",
    "\n",
    "C. 10\n",
    "\n",
    "D. 21"
   ]
  },
  {
   "cell_type": "code",
   "execution_count": null,
   "id": "4f30f254",
   "metadata": {},
   "outputs": [],
   "source": []
  },
  {
   "cell_type": "markdown",
   "id": "2ea6f99e",
   "metadata": {},
   "source": [
    "### 3. What will be output for the following code? \n",
    "\n",
    " import numpy as np\n",
    " \n",
    " ary = np.array([1,2,3,5,8])\n",
    " \n",
    " ary = ary + 1\n",
    " \n",
    " print (ary[1])\n",
    " \n",
    "\n",
    " A. 0\n",
    " \n",
    " B. 1\n",
    " \n",
    " C. 2\n",
    " \n",
    " D. 3"
   ]
  },
  {
   "cell_type": "code",
   "execution_count": null,
   "id": "88a0c5b9",
   "metadata": {},
   "outputs": [],
   "source": []
  },
  {
   "cell_type": "markdown",
   "id": "cc2289a7",
   "metadata": {},
   "source": [
    "### 4.  NumPy is often used along with packages like?\n",
    "\n",
    " A. Node.js\n",
    " \n",
    " B. Matplotlib\n",
    " \n",
    " C. SciPy\n",
    " \n",
    " D. Both B and C"
   ]
  },
  {
   "cell_type": "code",
   "execution_count": null,
   "id": "30edd9f0",
   "metadata": {},
   "outputs": [],
   "source": []
  },
  {
   "cell_type": "markdown",
   "id": "461bad13",
   "metadata": {},
   "source": [
    "### 5. How to convert numpy array to list?\n",
    "\n",
    " A. array.list()\n",
    " \n",
    " B. array.list\n",
    " \n",
    " C. list.array()\n",
    " \n",
    " D. list(array)"
   ]
  },
  {
   "cell_type": "code",
   "execution_count": null,
   "id": "4b471475",
   "metadata": {},
   "outputs": [],
   "source": []
  },
  {
   "cell_type": "markdown",
   "id": "1d51960a",
   "metadata": {},
   "source": [
    "### 6. What is zero() function in numpy use to?\n",
    "\n",
    " A. make a matrix with first column 0\n",
    "    \n",
    " B. make a matrix with all elements 0\n",
    "\n",
    " C. make a matrix with diagonal elements 0\n",
    "    \n",
    " D. All of the above"
   ]
  },
  {
   "cell_type": "code",
   "execution_count": null,
   "id": "73c43478",
   "metadata": {},
   "outputs": [],
   "source": []
  },
  {
   "cell_type": "markdown",
   "id": "a54289c2",
   "metadata": {},
   "source": [
    "## <u>Pandas</u>\n",
    "\n",
    "Pandas is a Python library used for working with data sets.\n",
    "\n",
    "It has functions for analyzing, cleaning, exploring, and manipulating data.\n",
    "\n",
    "The name \"Pandas\" has a reference to both \"Panel Data\", and \"Python Data Analysis\" and was created by Wes McKinney in 2008.\n",
    "\n",
    "Pandas allows us to analyze big data and make conclusions based on statistical theories.\n",
    "\n",
    "Pandas can clean messy data sets, and make them readable and relevant.\n",
    "\n",
    "Relevant data is very important in data science."
   ]
  },
  {
   "cell_type": "code",
   "execution_count": null,
   "id": "a9a42f4d",
   "metadata": {},
   "outputs": [],
   "source": [
    "import pandas as pd"
   ]
  },
  {
   "cell_type": "code",
   "execution_count": null,
   "id": "4e4eb266",
   "metadata": {},
   "outputs": [],
   "source": []
  },
  {
   "cell_type": "code",
   "execution_count": 210,
   "id": "a37dbf90",
   "metadata": {},
   "outputs": [
    {
     "data": {
      "text/html": [
       "<div>\n",
       "<style scoped>\n",
       "    .dataframe tbody tr th:only-of-type {\n",
       "        vertical-align: middle;\n",
       "    }\n",
       "\n",
       "    .dataframe tbody tr th {\n",
       "        vertical-align: top;\n",
       "    }\n",
       "\n",
       "    .dataframe thead th {\n",
       "        text-align: right;\n",
       "    }\n",
       "</style>\n",
       "<table border=\"1\" class=\"dataframe\">\n",
       "  <thead>\n",
       "    <tr style=\"text-align: right;\">\n",
       "      <th></th>\n",
       "      <th>index</th>\n",
       "      <th>product</th>\n",
       "      <th>category</th>\n",
       "      <th>sub_category</th>\n",
       "      <th>brand</th>\n",
       "      <th>sale_price</th>\n",
       "      <th>market_price</th>\n",
       "      <th>type</th>\n",
       "      <th>rating</th>\n",
       "      <th>description</th>\n",
       "    </tr>\n",
       "  </thead>\n",
       "  <tbody>\n",
       "    <tr>\n",
       "      <th>0</th>\n",
       "      <td>1</td>\n",
       "      <td>Garlic Oil - Vegetarian Capsule 500 mg</td>\n",
       "      <td>Beauty &amp; Hygiene</td>\n",
       "      <td>Hair Care</td>\n",
       "      <td>Sri Sri Ayurveda</td>\n",
       "      <td>220</td>\n",
       "      <td>220</td>\n",
       "      <td>Hair Oil &amp; Serum</td>\n",
       "      <td>4.1</td>\n",
       "      <td>This Product contains Garlic Oil that is known...</td>\n",
       "    </tr>\n",
       "    <tr>\n",
       "      <th>1</th>\n",
       "      <td>2</td>\n",
       "      <td>Water Bottle - Orange</td>\n",
       "      <td>Kitchen, Garden &amp; Pets</td>\n",
       "      <td>Storage &amp; Accessories</td>\n",
       "      <td>Mastercook</td>\n",
       "      <td>180</td>\n",
       "      <td>180</td>\n",
       "      <td>Water &amp; Fridge Bottles</td>\n",
       "      <td>2.3</td>\n",
       "      <td>Each product is microwave safe (without lid), ...</td>\n",
       "    </tr>\n",
       "    <tr>\n",
       "      <th>2</th>\n",
       "      <td>3</td>\n",
       "      <td>Brass Angle Deep - Plain, No.2</td>\n",
       "      <td>Cleaning &amp; Household</td>\n",
       "      <td>Pooja Needs</td>\n",
       "      <td>Trm</td>\n",
       "      <td>119</td>\n",
       "      <td>250</td>\n",
       "      <td>Lamp &amp; Lamp Oil</td>\n",
       "      <td>3.4</td>\n",
       "      <td>A perfect gift for all occasions, be it your m...</td>\n",
       "    </tr>\n",
       "    <tr>\n",
       "      <th>3</th>\n",
       "      <td>4</td>\n",
       "      <td>Cereal Flip Lid Container/Storage Jar - Assort...</td>\n",
       "      <td>Cleaning &amp; Household</td>\n",
       "      <td>Bins &amp; Bathroom Ware</td>\n",
       "      <td>Nakoda</td>\n",
       "      <td>149</td>\n",
       "      <td>176</td>\n",
       "      <td>Laundry, Storage Baskets</td>\n",
       "      <td>3.7</td>\n",
       "      <td>Multipurpose container with an attractive desi...</td>\n",
       "    </tr>\n",
       "    <tr>\n",
       "      <th>4</th>\n",
       "      <td>5</td>\n",
       "      <td>Creme Soft Soap - For Hands &amp; Body</td>\n",
       "      <td>Beauty &amp; Hygiene</td>\n",
       "      <td>Bath &amp; Hand Wash</td>\n",
       "      <td>Nivea</td>\n",
       "      <td>162</td>\n",
       "      <td>162</td>\n",
       "      <td>Bathing Bars &amp; Soaps</td>\n",
       "      <td>4.4</td>\n",
       "      <td>Nivea Creme Soft Soap gives your skin the best...</td>\n",
       "    </tr>\n",
       "    <tr>\n",
       "      <th>5</th>\n",
       "      <td>6</td>\n",
       "      <td>Germ - Removal Multipurpose Wipes</td>\n",
       "      <td>Cleaning &amp; Household</td>\n",
       "      <td>All Purpose Cleaners</td>\n",
       "      <td>Nature Protect</td>\n",
       "      <td>169</td>\n",
       "      <td>199</td>\n",
       "      <td>Disinfectant Spray &amp; Cleaners</td>\n",
       "      <td>3.3</td>\n",
       "      <td>Stay protected from contamination with Multipu...</td>\n",
       "    </tr>\n",
       "    <tr>\n",
       "      <th>6</th>\n",
       "      <td>7</td>\n",
       "      <td>Multani Mati</td>\n",
       "      <td>Beauty &amp; Hygiene</td>\n",
       "      <td>Skin Care</td>\n",
       "      <td>Satinance</td>\n",
       "      <td>58</td>\n",
       "      <td>58</td>\n",
       "      <td>Face Care</td>\n",
       "      <td>3.6</td>\n",
       "      <td>Satinance multani matti is an excellent skin t...</td>\n",
       "    </tr>\n",
       "    <tr>\n",
       "      <th>7</th>\n",
       "      <td>8</td>\n",
       "      <td>Hand Sanitizer - 70% Alcohol Base</td>\n",
       "      <td>Beauty &amp; Hygiene</td>\n",
       "      <td>Bath &amp; Hand Wash</td>\n",
       "      <td>Bionova</td>\n",
       "      <td>250</td>\n",
       "      <td>250</td>\n",
       "      <td>Hand Wash &amp; Sanitizers</td>\n",
       "      <td>4.0</td>\n",
       "      <td>70%Alcohol based is gentle of hand leaves skin...</td>\n",
       "    </tr>\n",
       "    <tr>\n",
       "      <th>8</th>\n",
       "      <td>9</td>\n",
       "      <td>Biotin &amp; Collagen Volumizing Hair Shampoo + Bi...</td>\n",
       "      <td>Beauty &amp; Hygiene</td>\n",
       "      <td>Hair Care</td>\n",
       "      <td>StBotanica</td>\n",
       "      <td>1098</td>\n",
       "      <td>1098</td>\n",
       "      <td>Shampoo &amp; Conditioner</td>\n",
       "      <td>3.5</td>\n",
       "      <td>An exclusive blend with Vitamin B7 Biotin, Hyd...</td>\n",
       "    </tr>\n",
       "    <tr>\n",
       "      <th>9</th>\n",
       "      <td>10</td>\n",
       "      <td>Scrub Pad - Anti- Bacterial, Regular</td>\n",
       "      <td>Cleaning &amp; Household</td>\n",
       "      <td>Mops, Brushes &amp; Scrubs</td>\n",
       "      <td>Scotch brite</td>\n",
       "      <td>20</td>\n",
       "      <td>20</td>\n",
       "      <td>Utensil Scrub-Pad, Glove</td>\n",
       "      <td>4.3</td>\n",
       "      <td>Scotch Brite Anti- Bacterial Scrub Pad thoroug...</td>\n",
       "    </tr>\n",
       "  </tbody>\n",
       "</table>\n",
       "</div>"
      ],
      "text/plain": [
       "   index                                            product  \\\n",
       "0      1             Garlic Oil - Vegetarian Capsule 500 mg   \n",
       "1      2                              Water Bottle - Orange   \n",
       "2      3                     Brass Angle Deep - Plain, No.2   \n",
       "3      4  Cereal Flip Lid Container/Storage Jar - Assort...   \n",
       "4      5                 Creme Soft Soap - For Hands & Body   \n",
       "5      6                  Germ - Removal Multipurpose Wipes   \n",
       "6      7                                       Multani Mati   \n",
       "7      8                  Hand Sanitizer - 70% Alcohol Base   \n",
       "8      9  Biotin & Collagen Volumizing Hair Shampoo + Bi...   \n",
       "9     10               Scrub Pad - Anti- Bacterial, Regular   \n",
       "\n",
       "                 category            sub_category              brand  \\\n",
       "0        Beauty & Hygiene               Hair Care  Sri Sri Ayurveda    \n",
       "1  Kitchen, Garden & Pets   Storage & Accessories         Mastercook   \n",
       "2    Cleaning & Household             Pooja Needs                Trm   \n",
       "3    Cleaning & Household    Bins & Bathroom Ware             Nakoda   \n",
       "4        Beauty & Hygiene        Bath & Hand Wash              Nivea   \n",
       "5    Cleaning & Household    All Purpose Cleaners     Nature Protect   \n",
       "6        Beauty & Hygiene               Skin Care          Satinance   \n",
       "7        Beauty & Hygiene        Bath & Hand Wash            Bionova   \n",
       "8        Beauty & Hygiene               Hair Care         StBotanica   \n",
       "9    Cleaning & Household  Mops, Brushes & Scrubs       Scotch brite   \n",
       "\n",
       "   sale_price  market_price                           type  rating  \\\n",
       "0         220           220               Hair Oil & Serum     4.1   \n",
       "1         180           180         Water & Fridge Bottles     2.3   \n",
       "2         119           250                Lamp & Lamp Oil     3.4   \n",
       "3         149           176       Laundry, Storage Baskets     3.7   \n",
       "4         162           162           Bathing Bars & Soaps     4.4   \n",
       "5         169           199  Disinfectant Spray & Cleaners     3.3   \n",
       "6          58            58                      Face Care     3.6   \n",
       "7         250           250         Hand Wash & Sanitizers     4.0   \n",
       "8        1098          1098          Shampoo & Conditioner     3.5   \n",
       "9          20            20       Utensil Scrub-Pad, Glove     4.3   \n",
       "\n",
       "                                         description  \n",
       "0  This Product contains Garlic Oil that is known...  \n",
       "1  Each product is microwave safe (without lid), ...  \n",
       "2  A perfect gift for all occasions, be it your m...  \n",
       "3  Multipurpose container with an attractive desi...  \n",
       "4  Nivea Creme Soft Soap gives your skin the best...  \n",
       "5  Stay protected from contamination with Multipu...  \n",
       "6  Satinance multani matti is an excellent skin t...  \n",
       "7  70%Alcohol based is gentle of hand leaves skin...  \n",
       "8  An exclusive blend with Vitamin B7 Biotin, Hyd...  \n",
       "9  Scotch Brite Anti- Bacterial Scrub Pad thoroug...  "
      ]
     },
     "execution_count": 210,
     "metadata": {},
     "output_type": "execute_result"
    }
   ],
   "source": [
    "df = pd.read_csv('BB.csv')\n",
    "df"
   ]
  },
  {
   "cell_type": "code",
   "execution_count": 164,
   "id": "250b8a29",
   "metadata": {},
   "outputs": [
    {
     "data": {
      "text/html": [
       "<div>\n",
       "<style scoped>\n",
       "    .dataframe tbody tr th:only-of-type {\n",
       "        vertical-align: middle;\n",
       "    }\n",
       "\n",
       "    .dataframe tbody tr th {\n",
       "        vertical-align: top;\n",
       "    }\n",
       "\n",
       "    .dataframe thead th {\n",
       "        text-align: right;\n",
       "    }\n",
       "</style>\n",
       "<table border=\"1\" class=\"dataframe\">\n",
       "  <thead>\n",
       "    <tr style=\"text-align: right;\">\n",
       "      <th></th>\n",
       "      <th>index</th>\n",
       "      <th>product</th>\n",
       "      <th>category</th>\n",
       "      <th>sub_category</th>\n",
       "      <th>brand</th>\n",
       "      <th>sale_price</th>\n",
       "      <th>market_price</th>\n",
       "      <th>type</th>\n",
       "      <th>rating</th>\n",
       "      <th>description</th>\n",
       "    </tr>\n",
       "  </thead>\n",
       "  <tbody>\n",
       "    <tr>\n",
       "      <th>5</th>\n",
       "      <td>6</td>\n",
       "      <td>Germ - Removal Multipurpose Wipes</td>\n",
       "      <td>Cleaning &amp; Household</td>\n",
       "      <td>All Purpose Cleaners</td>\n",
       "      <td>Nature Protect</td>\n",
       "      <td>169</td>\n",
       "      <td>199</td>\n",
       "      <td>Disinfectant Spray &amp; Cleaners</td>\n",
       "      <td>3.3</td>\n",
       "      <td>Stay protected from contamination with Multipu...</td>\n",
       "    </tr>\n",
       "    <tr>\n",
       "      <th>6</th>\n",
       "      <td>7</td>\n",
       "      <td>Multani Mati</td>\n",
       "      <td>Beauty &amp; Hygiene</td>\n",
       "      <td>Skin Care</td>\n",
       "      <td>Satinance</td>\n",
       "      <td>58</td>\n",
       "      <td>58</td>\n",
       "      <td>Face Care</td>\n",
       "      <td>3.6</td>\n",
       "      <td>Satinance multani matti is an excellent skin t...</td>\n",
       "    </tr>\n",
       "    <tr>\n",
       "      <th>7</th>\n",
       "      <td>8</td>\n",
       "      <td>Hand Sanitizer - 70% Alcohol Base</td>\n",
       "      <td>Beauty &amp; Hygiene</td>\n",
       "      <td>Bath &amp; Hand Wash</td>\n",
       "      <td>Bionova</td>\n",
       "      <td>250</td>\n",
       "      <td>250</td>\n",
       "      <td>Hand Wash &amp; Sanitizers</td>\n",
       "      <td>4.0</td>\n",
       "      <td>70%Alcohol based is gentle of hand leaves skin...</td>\n",
       "    </tr>\n",
       "    <tr>\n",
       "      <th>8</th>\n",
       "      <td>9</td>\n",
       "      <td>Biotin &amp; Collagen Volumizing Hair Shampoo + Bi...</td>\n",
       "      <td>Beauty &amp; Hygiene</td>\n",
       "      <td>Hair Care</td>\n",
       "      <td>StBotanica</td>\n",
       "      <td>1098</td>\n",
       "      <td>1098</td>\n",
       "      <td>Shampoo &amp; Conditioner</td>\n",
       "      <td>3.5</td>\n",
       "      <td>An exclusive blend with Vitamin B7 Biotin, Hyd...</td>\n",
       "    </tr>\n",
       "    <tr>\n",
       "      <th>9</th>\n",
       "      <td>10</td>\n",
       "      <td>Scrub Pad - Anti- Bacterial, Regular</td>\n",
       "      <td>Cleaning &amp; Household</td>\n",
       "      <td>Mops, Brushes &amp; Scrubs</td>\n",
       "      <td>Scotch brite</td>\n",
       "      <td>20</td>\n",
       "      <td>20</td>\n",
       "      <td>Utensil Scrub-Pad, Glove</td>\n",
       "      <td>4.3</td>\n",
       "      <td>Scotch Brite Anti- Bacterial Scrub Pad thoroug...</td>\n",
       "    </tr>\n",
       "  </tbody>\n",
       "</table>\n",
       "</div>"
      ],
      "text/plain": [
       "   index                                            product  \\\n",
       "5      6                  Germ - Removal Multipurpose Wipes   \n",
       "6      7                                       Multani Mati   \n",
       "7      8                  Hand Sanitizer - 70% Alcohol Base   \n",
       "8      9  Biotin & Collagen Volumizing Hair Shampoo + Bi...   \n",
       "9     10               Scrub Pad - Anti- Bacterial, Regular   \n",
       "\n",
       "               category            sub_category           brand  sale_price  \\\n",
       "5  Cleaning & Household    All Purpose Cleaners  Nature Protect         169   \n",
       "6      Beauty & Hygiene               Skin Care       Satinance          58   \n",
       "7      Beauty & Hygiene        Bath & Hand Wash         Bionova         250   \n",
       "8      Beauty & Hygiene               Hair Care      StBotanica        1098   \n",
       "9  Cleaning & Household  Mops, Brushes & Scrubs    Scotch brite          20   \n",
       "\n",
       "   market_price                           type  rating  \\\n",
       "5           199  Disinfectant Spray & Cleaners     3.3   \n",
       "6            58                      Face Care     3.6   \n",
       "7           250         Hand Wash & Sanitizers     4.0   \n",
       "8          1098          Shampoo & Conditioner     3.5   \n",
       "9            20       Utensil Scrub-Pad, Glove     4.3   \n",
       "\n",
       "                                         description  \n",
       "5  Stay protected from contamination with Multipu...  \n",
       "6  Satinance multani matti is an excellent skin t...  \n",
       "7  70%Alcohol based is gentle of hand leaves skin...  \n",
       "8  An exclusive blend with Vitamin B7 Biotin, Hyd...  \n",
       "9  Scotch Brite Anti- Bacterial Scrub Pad thoroug...  "
      ]
     },
     "execution_count": 164,
     "metadata": {},
     "output_type": "execute_result"
    }
   ],
   "source": [
    "df.tail()"
   ]
  },
  {
   "cell_type": "code",
   "execution_count": 211,
   "id": "4c5ef9e4",
   "metadata": {},
   "outputs": [
    {
     "name": "stdout",
     "output_type": "stream",
     "text": [
      "<class 'pandas.core.frame.DataFrame'>\n",
      "RangeIndex: 10 entries, 0 to 9\n",
      "Data columns (total 10 columns):\n",
      " #   Column        Non-Null Count  Dtype  \n",
      "---  ------        --------------  -----  \n",
      " 0   index         10 non-null     int64  \n",
      " 1   product       10 non-null     object \n",
      " 2   category      10 non-null     object \n",
      " 3   sub_category  10 non-null     object \n",
      " 4   brand         10 non-null     object \n",
      " 5   sale_price    10 non-null     int64  \n",
      " 6   market_price  10 non-null     int64  \n",
      " 7   type          10 non-null     object \n",
      " 8   rating        10 non-null     float64\n",
      " 9   description   10 non-null     object \n",
      "dtypes: float64(1), int64(3), object(6)\n",
      "memory usage: 928.0+ bytes\n"
     ]
    }
   ],
   "source": [
    "df.info()"
   ]
  },
  {
   "cell_type": "code",
   "execution_count": 166,
   "id": "fb8f9de3",
   "metadata": {},
   "outputs": [
    {
     "data": {
      "text/plain": [
       "(10, 10)"
      ]
     },
     "execution_count": 166,
     "metadata": {},
     "output_type": "execute_result"
    }
   ],
   "source": [
    "df.shape"
   ]
  },
  {
   "cell_type": "code",
   "execution_count": 170,
   "id": "c3028f86",
   "metadata": {},
   "outputs": [
    {
     "data": {
      "text/html": [
       "<div>\n",
       "<style scoped>\n",
       "    .dataframe tbody tr th:only-of-type {\n",
       "        vertical-align: middle;\n",
       "    }\n",
       "\n",
       "    .dataframe tbody tr th {\n",
       "        vertical-align: top;\n",
       "    }\n",
       "\n",
       "    .dataframe thead th {\n",
       "        text-align: right;\n",
       "    }\n",
       "</style>\n",
       "<table border=\"1\" class=\"dataframe\">\n",
       "  <thead>\n",
       "    <tr style=\"text-align: right;\">\n",
       "      <th></th>\n",
       "      <th>index</th>\n",
       "      <th>sale_price</th>\n",
       "      <th>market_price</th>\n",
       "      <th>rating</th>\n",
       "    </tr>\n",
       "  </thead>\n",
       "  <tbody>\n",
       "    <tr>\n",
       "      <th>count</th>\n",
       "      <td>10.00000</td>\n",
       "      <td>10.000000</td>\n",
       "      <td>10.000000</td>\n",
       "      <td>10.000000</td>\n",
       "    </tr>\n",
       "    <tr>\n",
       "      <th>mean</th>\n",
       "      <td>5.50000</td>\n",
       "      <td>242.500000</td>\n",
       "      <td>261.300000</td>\n",
       "      <td>3.660000</td>\n",
       "    </tr>\n",
       "    <tr>\n",
       "      <th>std</th>\n",
       "      <td>3.02765</td>\n",
       "      <td>308.359909</td>\n",
       "      <td>303.536946</td>\n",
       "      <td>0.609554</td>\n",
       "    </tr>\n",
       "    <tr>\n",
       "      <th>min</th>\n",
       "      <td>1.00000</td>\n",
       "      <td>20.000000</td>\n",
       "      <td>20.000000</td>\n",
       "      <td>2.300000</td>\n",
       "    </tr>\n",
       "    <tr>\n",
       "      <th>25%</th>\n",
       "      <td>3.25000</td>\n",
       "      <td>126.500000</td>\n",
       "      <td>165.500000</td>\n",
       "      <td>3.425000</td>\n",
       "    </tr>\n",
       "    <tr>\n",
       "      <th>50%</th>\n",
       "      <td>5.50000</td>\n",
       "      <td>165.500000</td>\n",
       "      <td>189.500000</td>\n",
       "      <td>3.650000</td>\n",
       "    </tr>\n",
       "    <tr>\n",
       "      <th>75%</th>\n",
       "      <td>7.75000</td>\n",
       "      <td>210.000000</td>\n",
       "      <td>242.500000</td>\n",
       "      <td>4.075000</td>\n",
       "    </tr>\n",
       "    <tr>\n",
       "      <th>max</th>\n",
       "      <td>10.00000</td>\n",
       "      <td>1098.000000</td>\n",
       "      <td>1098.000000</td>\n",
       "      <td>4.400000</td>\n",
       "    </tr>\n",
       "  </tbody>\n",
       "</table>\n",
       "</div>"
      ],
      "text/plain": [
       "          index   sale_price  market_price     rating\n",
       "count  10.00000    10.000000     10.000000  10.000000\n",
       "mean    5.50000   242.500000    261.300000   3.660000\n",
       "std     3.02765   308.359909    303.536946   0.609554\n",
       "min     1.00000    20.000000     20.000000   2.300000\n",
       "25%     3.25000   126.500000    165.500000   3.425000\n",
       "50%     5.50000   165.500000    189.500000   3.650000\n",
       "75%     7.75000   210.000000    242.500000   4.075000\n",
       "max    10.00000  1098.000000   1098.000000   4.400000"
      ]
     },
     "execution_count": 170,
     "metadata": {},
     "output_type": "execute_result"
    }
   ],
   "source": [
    "df.describe()"
   ]
  },
  {
   "cell_type": "code",
   "execution_count": 173,
   "id": "910dd0d9",
   "metadata": {},
   "outputs": [
    {
     "data": {
      "text/plain": [
       "2425"
      ]
     },
     "execution_count": 173,
     "metadata": {},
     "output_type": "execute_result"
    }
   ],
   "source": [
    "sum(df['sale_price'])"
   ]
  },
  {
   "cell_type": "code",
   "execution_count": null,
   "id": "c3766803",
   "metadata": {},
   "outputs": [],
   "source": []
  },
  {
   "cell_type": "code",
   "execution_count": null,
   "id": "08329101",
   "metadata": {},
   "outputs": [],
   "source": []
  },
  {
   "cell_type": "markdown",
   "id": "00529257",
   "metadata": {},
   "source": [
    "### 👉 Slicing"
   ]
  },
  {
   "cell_type": "code",
   "execution_count": 176,
   "id": "796d05bd",
   "metadata": {},
   "outputs": [
    {
     "data": {
      "text/html": [
       "<div>\n",
       "<style scoped>\n",
       "    .dataframe tbody tr th:only-of-type {\n",
       "        vertical-align: middle;\n",
       "    }\n",
       "\n",
       "    .dataframe tbody tr th {\n",
       "        vertical-align: top;\n",
       "    }\n",
       "\n",
       "    .dataframe thead th {\n",
       "        text-align: right;\n",
       "    }\n",
       "</style>\n",
       "<table border=\"1\" class=\"dataframe\">\n",
       "  <thead>\n",
       "    <tr style=\"text-align: right;\">\n",
       "      <th></th>\n",
       "      <th>index</th>\n",
       "      <th>product</th>\n",
       "      <th>category</th>\n",
       "      <th>sub_category</th>\n",
       "      <th>brand</th>\n",
       "      <th>sale_price</th>\n",
       "      <th>market_price</th>\n",
       "      <th>type</th>\n",
       "      <th>rating</th>\n",
       "      <th>description</th>\n",
       "    </tr>\n",
       "  </thead>\n",
       "  <tbody>\n",
       "    <tr>\n",
       "      <th>1</th>\n",
       "      <td>2</td>\n",
       "      <td>Water Bottle - Orange</td>\n",
       "      <td>Kitchen, Garden &amp; Pets</td>\n",
       "      <td>Storage &amp; Accessories</td>\n",
       "      <td>Mastercook</td>\n",
       "      <td>180</td>\n",
       "      <td>180</td>\n",
       "      <td>Water &amp; Fridge Bottles</td>\n",
       "      <td>2.3</td>\n",
       "      <td>Each product is microwave safe (without lid), ...</td>\n",
       "    </tr>\n",
       "    <tr>\n",
       "      <th>2</th>\n",
       "      <td>3</td>\n",
       "      <td>Brass Angle Deep - Plain, No.2</td>\n",
       "      <td>Cleaning &amp; Household</td>\n",
       "      <td>Pooja Needs</td>\n",
       "      <td>Trm</td>\n",
       "      <td>119</td>\n",
       "      <td>250</td>\n",
       "      <td>Lamp &amp; Lamp Oil</td>\n",
       "      <td>3.4</td>\n",
       "      <td>A perfect gift for all occasions, be it your m...</td>\n",
       "    </tr>\n",
       "    <tr>\n",
       "      <th>3</th>\n",
       "      <td>4</td>\n",
       "      <td>Cereal Flip Lid Container/Storage Jar - Assort...</td>\n",
       "      <td>Cleaning &amp; Household</td>\n",
       "      <td>Bins &amp; Bathroom Ware</td>\n",
       "      <td>Nakoda</td>\n",
       "      <td>149</td>\n",
       "      <td>176</td>\n",
       "      <td>Laundry, Storage Baskets</td>\n",
       "      <td>3.7</td>\n",
       "      <td>Multipurpose container with an attractive desi...</td>\n",
       "    </tr>\n",
       "  </tbody>\n",
       "</table>\n",
       "</div>"
      ],
      "text/plain": [
       "   index                                            product  \\\n",
       "1      2                              Water Bottle - Orange   \n",
       "2      3                     Brass Angle Deep - Plain, No.2   \n",
       "3      4  Cereal Flip Lid Container/Storage Jar - Assort...   \n",
       "\n",
       "                 category           sub_category       brand  sale_price  \\\n",
       "1  Kitchen, Garden & Pets  Storage & Accessories  Mastercook         180   \n",
       "2    Cleaning & Household            Pooja Needs         Trm         119   \n",
       "3    Cleaning & Household   Bins & Bathroom Ware      Nakoda         149   \n",
       "\n",
       "   market_price                      type  rating  \\\n",
       "1           180    Water & Fridge Bottles     2.3   \n",
       "2           250           Lamp & Lamp Oil     3.4   \n",
       "3           176  Laundry, Storage Baskets     3.7   \n",
       "\n",
       "                                         description  \n",
       "1  Each product is microwave safe (without lid), ...  \n",
       "2  A perfect gift for all occasions, be it your m...  \n",
       "3  Multipurpose container with an attractive desi...  "
      ]
     },
     "execution_count": 176,
     "metadata": {},
     "output_type": "execute_result"
    }
   ],
   "source": [
    "# Row slicing\n",
    "df[1:4]"
   ]
  },
  {
   "cell_type": "code",
   "execution_count": 178,
   "id": "458edad5",
   "metadata": {},
   "outputs": [
    {
     "data": {
      "text/html": [
       "<div>\n",
       "<style scoped>\n",
       "    .dataframe tbody tr th:only-of-type {\n",
       "        vertical-align: middle;\n",
       "    }\n",
       "\n",
       "    .dataframe tbody tr th {\n",
       "        vertical-align: top;\n",
       "    }\n",
       "\n",
       "    .dataframe thead th {\n",
       "        text-align: right;\n",
       "    }\n",
       "</style>\n",
       "<table border=\"1\" class=\"dataframe\">\n",
       "  <thead>\n",
       "    <tr style=\"text-align: right;\">\n",
       "      <th></th>\n",
       "      <th>product</th>\n",
       "      <th>brand</th>\n",
       "    </tr>\n",
       "  </thead>\n",
       "  <tbody>\n",
       "    <tr>\n",
       "      <th>1</th>\n",
       "      <td>Water Bottle - Orange</td>\n",
       "      <td>Mastercook</td>\n",
       "    </tr>\n",
       "    <tr>\n",
       "      <th>2</th>\n",
       "      <td>Brass Angle Deep - Plain, No.2</td>\n",
       "      <td>Trm</td>\n",
       "    </tr>\n",
       "    <tr>\n",
       "      <th>3</th>\n",
       "      <td>Cereal Flip Lid Container/Storage Jar - Assort...</td>\n",
       "      <td>Nakoda</td>\n",
       "    </tr>\n",
       "  </tbody>\n",
       "</table>\n",
       "</div>"
      ],
      "text/plain": [
       "                                             product       brand\n",
       "1                              Water Bottle - Orange  Mastercook\n",
       "2                     Brass Angle Deep - Plain, No.2         Trm\n",
       "3  Cereal Flip Lid Container/Storage Jar - Assort...      Nakoda"
      ]
     },
     "execution_count": 178,
     "metadata": {},
     "output_type": "execute_result"
    }
   ],
   "source": [
    "# Indexing columns\n",
    "df[['product', 'brand']][1:4]"
   ]
  },
  {
   "cell_type": "code",
   "execution_count": null,
   "id": "41aa6373",
   "metadata": {},
   "outputs": [],
   "source": [
    "# combining row and column slicing\n",
    "df[['product', 'category']][1:4]"
   ]
  },
  {
   "cell_type": "markdown",
   "id": "120a7f19",
   "metadata": {},
   "source": [
    "### 👉 Filtering"
   ]
  },
  {
   "cell_type": "code",
   "execution_count": 180,
   "id": "992e0d24",
   "metadata": {},
   "outputs": [
    {
     "data": {
      "text/html": [
       "<div>\n",
       "<style scoped>\n",
       "    .dataframe tbody tr th:only-of-type {\n",
       "        vertical-align: middle;\n",
       "    }\n",
       "\n",
       "    .dataframe tbody tr th {\n",
       "        vertical-align: top;\n",
       "    }\n",
       "\n",
       "    .dataframe thead th {\n",
       "        text-align: right;\n",
       "    }\n",
       "</style>\n",
       "<table border=\"1\" class=\"dataframe\">\n",
       "  <thead>\n",
       "    <tr style=\"text-align: right;\">\n",
       "      <th></th>\n",
       "      <th>product</th>\n",
       "    </tr>\n",
       "  </thead>\n",
       "  <tbody>\n",
       "    <tr>\n",
       "      <th>0</th>\n",
       "      <td>Garlic Oil - Vegetarian Capsule 500 mg</td>\n",
       "    </tr>\n",
       "    <tr>\n",
       "      <th>4</th>\n",
       "      <td>Creme Soft Soap - For Hands &amp; Body</td>\n",
       "    </tr>\n",
       "    <tr>\n",
       "      <th>7</th>\n",
       "      <td>Hand Sanitizer - 70% Alcohol Base</td>\n",
       "    </tr>\n",
       "    <tr>\n",
       "      <th>9</th>\n",
       "      <td>Scrub Pad - Anti- Bacterial, Regular</td>\n",
       "    </tr>\n",
       "  </tbody>\n",
       "</table>\n",
       "</div>"
      ],
      "text/plain": [
       "                                  product\n",
       "0  Garlic Oil - Vegetarian Capsule 500 mg\n",
       "4      Creme Soft Soap - For Hands & Body\n",
       "7       Hand Sanitizer - 70% Alcohol Base\n",
       "9    Scrub Pad - Anti- Bacterial, Regular"
      ]
     },
     "execution_count": 180,
     "metadata": {},
     "output_type": "execute_result"
    }
   ],
   "source": [
    "# get the products whose rating is 4 or more\n",
    "df[df['rating']>=4][['product']]"
   ]
  },
  {
   "cell_type": "code",
   "execution_count": 183,
   "id": "8c774152",
   "metadata": {},
   "outputs": [
    {
     "data": {
      "text/html": [
       "<div>\n",
       "<style scoped>\n",
       "    .dataframe tbody tr th:only-of-type {\n",
       "        vertical-align: middle;\n",
       "    }\n",
       "\n",
       "    .dataframe tbody tr th {\n",
       "        vertical-align: top;\n",
       "    }\n",
       "\n",
       "    .dataframe thead th {\n",
       "        text-align: right;\n",
       "    }\n",
       "</style>\n",
       "<table border=\"1\" class=\"dataframe\">\n",
       "  <thead>\n",
       "    <tr style=\"text-align: right;\">\n",
       "      <th></th>\n",
       "      <th>index</th>\n",
       "      <th>product</th>\n",
       "      <th>category</th>\n",
       "      <th>sub_category</th>\n",
       "      <th>brand</th>\n",
       "      <th>sale_price</th>\n",
       "      <th>market_price</th>\n",
       "      <th>type</th>\n",
       "      <th>rating</th>\n",
       "      <th>description</th>\n",
       "    </tr>\n",
       "  </thead>\n",
       "  <tbody>\n",
       "    <tr>\n",
       "      <th>0</th>\n",
       "      <td>1</td>\n",
       "      <td>Garlic Oil - Vegetarian Capsule 500 mg</td>\n",
       "      <td>Beauty &amp; Hygiene</td>\n",
       "      <td>Hair Care</td>\n",
       "      <td>Sri Sri Ayurveda</td>\n",
       "      <td>220</td>\n",
       "      <td>220</td>\n",
       "      <td>Hair Oil &amp; Serum</td>\n",
       "      <td>4.1</td>\n",
       "      <td>This Product contains Garlic Oil that is known...</td>\n",
       "    </tr>\n",
       "    <tr>\n",
       "      <th>4</th>\n",
       "      <td>5</td>\n",
       "      <td>Creme Soft Soap - For Hands &amp; Body</td>\n",
       "      <td>Beauty &amp; Hygiene</td>\n",
       "      <td>Bath &amp; Hand Wash</td>\n",
       "      <td>Nivea</td>\n",
       "      <td>162</td>\n",
       "      <td>162</td>\n",
       "      <td>Bathing Bars &amp; Soaps</td>\n",
       "      <td>4.4</td>\n",
       "      <td>Nivea Creme Soft Soap gives your skin the best...</td>\n",
       "    </tr>\n",
       "  </tbody>\n",
       "</table>\n",
       "</div>"
      ],
      "text/plain": [
       "   index                                 product          category  \\\n",
       "0      1  Garlic Oil - Vegetarian Capsule 500 mg  Beauty & Hygiene   \n",
       "4      5      Creme Soft Soap - For Hands & Body  Beauty & Hygiene   \n",
       "\n",
       "       sub_category              brand  sale_price  market_price  \\\n",
       "0         Hair Care  Sri Sri Ayurveda          220           220   \n",
       "4  Bath & Hand Wash              Nivea         162           162   \n",
       "\n",
       "                   type  rating  \\\n",
       "0      Hair Oil & Serum     4.1   \n",
       "4  Bathing Bars & Soaps     4.4   \n",
       "\n",
       "                                         description  \n",
       "0  This Product contains Garlic Oil that is known...  \n",
       "4  Nivea Creme Soft Soap gives your skin the best...  "
      ]
     },
     "execution_count": 183,
     "metadata": {},
     "output_type": "execute_result"
    }
   ],
   "source": [
    "# combining multiple filter conditions\n",
    "# get the products of beauty and hygine category with rating more than 4\n",
    "\n",
    "df[ (df['category']=='Beauty & Hygiene') & (df['rating']>4) ]\n",
    "\n",
    "\n"
   ]
  },
  {
   "cell_type": "markdown",
   "id": "ef91c784",
   "metadata": {},
   "source": [
    "### 👉 loc and iloc"
   ]
  },
  {
   "cell_type": "code",
   "execution_count": 185,
   "id": "2346410a",
   "metadata": {},
   "outputs": [
    {
     "data": {
      "text/html": [
       "<div>\n",
       "<style scoped>\n",
       "    .dataframe tbody tr th:only-of-type {\n",
       "        vertical-align: middle;\n",
       "    }\n",
       "\n",
       "    .dataframe tbody tr th {\n",
       "        vertical-align: top;\n",
       "    }\n",
       "\n",
       "    .dataframe thead th {\n",
       "        text-align: right;\n",
       "    }\n",
       "</style>\n",
       "<table border=\"1\" class=\"dataframe\">\n",
       "  <thead>\n",
       "    <tr style=\"text-align: right;\">\n",
       "      <th></th>\n",
       "      <th>index</th>\n",
       "      <th>product</th>\n",
       "      <th>category</th>\n",
       "      <th>sub_category</th>\n",
       "      <th>brand</th>\n",
       "      <th>sale_price</th>\n",
       "      <th>market_price</th>\n",
       "      <th>type</th>\n",
       "      <th>rating</th>\n",
       "      <th>description</th>\n",
       "    </tr>\n",
       "  </thead>\n",
       "  <tbody>\n",
       "    <tr>\n",
       "      <th>0</th>\n",
       "      <td>1</td>\n",
       "      <td>Garlic Oil - Vegetarian Capsule 500 mg</td>\n",
       "      <td>Beauty &amp; Hygiene</td>\n",
       "      <td>Hair Care</td>\n",
       "      <td>Sri Sri Ayurveda</td>\n",
       "      <td>220</td>\n",
       "      <td>220</td>\n",
       "      <td>Hair Oil &amp; Serum</td>\n",
       "      <td>4.1</td>\n",
       "      <td>This Product contains Garlic Oil that is known...</td>\n",
       "    </tr>\n",
       "    <tr>\n",
       "      <th>1</th>\n",
       "      <td>2</td>\n",
       "      <td>Water Bottle - Orange</td>\n",
       "      <td>Kitchen, Garden &amp; Pets</td>\n",
       "      <td>Storage &amp; Accessories</td>\n",
       "      <td>Mastercook</td>\n",
       "      <td>180</td>\n",
       "      <td>180</td>\n",
       "      <td>Water &amp; Fridge Bottles</td>\n",
       "      <td>2.3</td>\n",
       "      <td>Each product is microwave safe (without lid), ...</td>\n",
       "    </tr>\n",
       "    <tr>\n",
       "      <th>2</th>\n",
       "      <td>3</td>\n",
       "      <td>Brass Angle Deep - Plain, No.2</td>\n",
       "      <td>Cleaning &amp; Household</td>\n",
       "      <td>Pooja Needs</td>\n",
       "      <td>Trm</td>\n",
       "      <td>119</td>\n",
       "      <td>250</td>\n",
       "      <td>Lamp &amp; Lamp Oil</td>\n",
       "      <td>3.4</td>\n",
       "      <td>A perfect gift for all occasions, be it your m...</td>\n",
       "    </tr>\n",
       "    <tr>\n",
       "      <th>3</th>\n",
       "      <td>4</td>\n",
       "      <td>Cereal Flip Lid Container/Storage Jar - Assort...</td>\n",
       "      <td>Cleaning &amp; Household</td>\n",
       "      <td>Bins &amp; Bathroom Ware</td>\n",
       "      <td>Nakoda</td>\n",
       "      <td>149</td>\n",
       "      <td>176</td>\n",
       "      <td>Laundry, Storage Baskets</td>\n",
       "      <td>3.7</td>\n",
       "      <td>Multipurpose container with an attractive desi...</td>\n",
       "    </tr>\n",
       "    <tr>\n",
       "      <th>4</th>\n",
       "      <td>5</td>\n",
       "      <td>Creme Soft Soap - For Hands &amp; Body</td>\n",
       "      <td>Beauty &amp; Hygiene</td>\n",
       "      <td>Bath &amp; Hand Wash</td>\n",
       "      <td>Nivea</td>\n",
       "      <td>162</td>\n",
       "      <td>162</td>\n",
       "      <td>Bathing Bars &amp; Soaps</td>\n",
       "      <td>4.4</td>\n",
       "      <td>Nivea Creme Soft Soap gives your skin the best...</td>\n",
       "    </tr>\n",
       "    <tr>\n",
       "      <th>5</th>\n",
       "      <td>6</td>\n",
       "      <td>Germ - Removal Multipurpose Wipes</td>\n",
       "      <td>Cleaning &amp; Household</td>\n",
       "      <td>All Purpose Cleaners</td>\n",
       "      <td>Nature Protect</td>\n",
       "      <td>169</td>\n",
       "      <td>199</td>\n",
       "      <td>Disinfectant Spray &amp; Cleaners</td>\n",
       "      <td>3.3</td>\n",
       "      <td>Stay protected from contamination with Multipu...</td>\n",
       "    </tr>\n",
       "    <tr>\n",
       "      <th>6</th>\n",
       "      <td>7</td>\n",
       "      <td>Multani Mati</td>\n",
       "      <td>Beauty &amp; Hygiene</td>\n",
       "      <td>Skin Care</td>\n",
       "      <td>Satinance</td>\n",
       "      <td>58</td>\n",
       "      <td>58</td>\n",
       "      <td>Face Care</td>\n",
       "      <td>3.6</td>\n",
       "      <td>Satinance multani matti is an excellent skin t...</td>\n",
       "    </tr>\n",
       "    <tr>\n",
       "      <th>7</th>\n",
       "      <td>8</td>\n",
       "      <td>Hand Sanitizer - 70% Alcohol Base</td>\n",
       "      <td>Beauty &amp; Hygiene</td>\n",
       "      <td>Bath &amp; Hand Wash</td>\n",
       "      <td>Bionova</td>\n",
       "      <td>250</td>\n",
       "      <td>250</td>\n",
       "      <td>Hand Wash &amp; Sanitizers</td>\n",
       "      <td>4.0</td>\n",
       "      <td>70%Alcohol based is gentle of hand leaves skin...</td>\n",
       "    </tr>\n",
       "    <tr>\n",
       "      <th>8</th>\n",
       "      <td>9</td>\n",
       "      <td>Biotin &amp; Collagen Volumizing Hair Shampoo + Bi...</td>\n",
       "      <td>Beauty &amp; Hygiene</td>\n",
       "      <td>Hair Care</td>\n",
       "      <td>StBotanica</td>\n",
       "      <td>1098</td>\n",
       "      <td>1098</td>\n",
       "      <td>Shampoo &amp; Conditioner</td>\n",
       "      <td>3.5</td>\n",
       "      <td>An exclusive blend with Vitamin B7 Biotin, Hyd...</td>\n",
       "    </tr>\n",
       "    <tr>\n",
       "      <th>9</th>\n",
       "      <td>10</td>\n",
       "      <td>Scrub Pad - Anti- Bacterial, Regular</td>\n",
       "      <td>Cleaning &amp; Household</td>\n",
       "      <td>Mops, Brushes &amp; Scrubs</td>\n",
       "      <td>Scotch brite</td>\n",
       "      <td>20</td>\n",
       "      <td>20</td>\n",
       "      <td>Utensil Scrub-Pad, Glove</td>\n",
       "      <td>4.3</td>\n",
       "      <td>Scotch Brite Anti- Bacterial Scrub Pad thoroug...</td>\n",
       "    </tr>\n",
       "  </tbody>\n",
       "</table>\n",
       "</div>"
      ],
      "text/plain": [
       "   index                                            product  \\\n",
       "0      1             Garlic Oil - Vegetarian Capsule 500 mg   \n",
       "1      2                              Water Bottle - Orange   \n",
       "2      3                     Brass Angle Deep - Plain, No.2   \n",
       "3      4  Cereal Flip Lid Container/Storage Jar - Assort...   \n",
       "4      5                 Creme Soft Soap - For Hands & Body   \n",
       "5      6                  Germ - Removal Multipurpose Wipes   \n",
       "6      7                                       Multani Mati   \n",
       "7      8                  Hand Sanitizer - 70% Alcohol Base   \n",
       "8      9  Biotin & Collagen Volumizing Hair Shampoo + Bi...   \n",
       "9     10               Scrub Pad - Anti- Bacterial, Regular   \n",
       "\n",
       "                 category            sub_category              brand  \\\n",
       "0        Beauty & Hygiene               Hair Care  Sri Sri Ayurveda    \n",
       "1  Kitchen, Garden & Pets   Storage & Accessories         Mastercook   \n",
       "2    Cleaning & Household             Pooja Needs                Trm   \n",
       "3    Cleaning & Household    Bins & Bathroom Ware             Nakoda   \n",
       "4        Beauty & Hygiene        Bath & Hand Wash              Nivea   \n",
       "5    Cleaning & Household    All Purpose Cleaners     Nature Protect   \n",
       "6        Beauty & Hygiene               Skin Care          Satinance   \n",
       "7        Beauty & Hygiene        Bath & Hand Wash            Bionova   \n",
       "8        Beauty & Hygiene               Hair Care         StBotanica   \n",
       "9    Cleaning & Household  Mops, Brushes & Scrubs       Scotch brite   \n",
       "\n",
       "   sale_price  market_price                           type  rating  \\\n",
       "0         220           220               Hair Oil & Serum     4.1   \n",
       "1         180           180         Water & Fridge Bottles     2.3   \n",
       "2         119           250                Lamp & Lamp Oil     3.4   \n",
       "3         149           176       Laundry, Storage Baskets     3.7   \n",
       "4         162           162           Bathing Bars & Soaps     4.4   \n",
       "5         169           199  Disinfectant Spray & Cleaners     3.3   \n",
       "6          58            58                      Face Care     3.6   \n",
       "7         250           250         Hand Wash & Sanitizers     4.0   \n",
       "8        1098          1098          Shampoo & Conditioner     3.5   \n",
       "9          20            20       Utensil Scrub-Pad, Glove     4.3   \n",
       "\n",
       "                                         description  \n",
       "0  This Product contains Garlic Oil that is known...  \n",
       "1  Each product is microwave safe (without lid), ...  \n",
       "2  A perfect gift for all occasions, be it your m...  \n",
       "3  Multipurpose container with an attractive desi...  \n",
       "4  Nivea Creme Soft Soap gives your skin the best...  \n",
       "5  Stay protected from contamination with Multipu...  \n",
       "6  Satinance multani matti is an excellent skin t...  \n",
       "7  70%Alcohol based is gentle of hand leaves skin...  \n",
       "8  An exclusive blend with Vitamin B7 Biotin, Hyd...  \n",
       "9  Scotch Brite Anti- Bacterial Scrub Pad thoroug...  "
      ]
     },
     "execution_count": 185,
     "metadata": {},
     "output_type": "execute_result"
    }
   ],
   "source": [
    "df"
   ]
  },
  {
   "cell_type": "code",
   "execution_count": 184,
   "id": "c850f8db",
   "metadata": {},
   "outputs": [
    {
     "data": {
      "text/plain": [
       "'Water Bottle - Orange'"
      ]
     },
     "execution_count": 184,
     "metadata": {},
     "output_type": "execute_result"
    }
   ],
   "source": [
    "# indexing\n",
    "df.loc[1, 'product']"
   ]
  },
  {
   "cell_type": "code",
   "execution_count": 186,
   "id": "9fb5e34b",
   "metadata": {},
   "outputs": [
    {
     "data": {
      "text/html": [
       "<div>\n",
       "<style scoped>\n",
       "    .dataframe tbody tr th:only-of-type {\n",
       "        vertical-align: middle;\n",
       "    }\n",
       "\n",
       "    .dataframe tbody tr th {\n",
       "        vertical-align: top;\n",
       "    }\n",
       "\n",
       "    .dataframe thead th {\n",
       "        text-align: right;\n",
       "    }\n",
       "</style>\n",
       "<table border=\"1\" class=\"dataframe\">\n",
       "  <thead>\n",
       "    <tr style=\"text-align: right;\">\n",
       "      <th></th>\n",
       "      <th>product</th>\n",
       "    </tr>\n",
       "  </thead>\n",
       "  <tbody>\n",
       "    <tr>\n",
       "      <th>1</th>\n",
       "      <td>Water Bottle - Orange</td>\n",
       "    </tr>\n",
       "  </tbody>\n",
       "</table>\n",
       "</div>"
      ],
      "text/plain": [
       "                 product\n",
       "1  Water Bottle - Orange"
      ]
     },
     "execution_count": 186,
     "metadata": {},
     "output_type": "execute_result"
    }
   ],
   "source": [
    "# extracting dataframe\n",
    "df.loc[[1], ['product']]"
   ]
  },
  {
   "cell_type": "code",
   "execution_count": 187,
   "id": "ffc91b06",
   "metadata": {},
   "outputs": [
    {
     "data": {
      "text/html": [
       "<div>\n",
       "<style scoped>\n",
       "    .dataframe tbody tr th:only-of-type {\n",
       "        vertical-align: middle;\n",
       "    }\n",
       "\n",
       "    .dataframe tbody tr th {\n",
       "        vertical-align: top;\n",
       "    }\n",
       "\n",
       "    .dataframe thead th {\n",
       "        text-align: right;\n",
       "    }\n",
       "</style>\n",
       "<table border=\"1\" class=\"dataframe\">\n",
       "  <thead>\n",
       "    <tr style=\"text-align: right;\">\n",
       "      <th></th>\n",
       "      <th>product</th>\n",
       "      <th>category</th>\n",
       "      <th>sub_category</th>\n",
       "      <th>brand</th>\n",
       "      <th>sale_price</th>\n",
       "      <th>market_price</th>\n",
       "      <th>type</th>\n",
       "    </tr>\n",
       "  </thead>\n",
       "  <tbody>\n",
       "    <tr>\n",
       "      <th>1</th>\n",
       "      <td>Water Bottle - Orange</td>\n",
       "      <td>Kitchen, Garden &amp; Pets</td>\n",
       "      <td>Storage &amp; Accessories</td>\n",
       "      <td>Mastercook</td>\n",
       "      <td>180</td>\n",
       "      <td>180</td>\n",
       "      <td>Water &amp; Fridge Bottles</td>\n",
       "    </tr>\n",
       "    <tr>\n",
       "      <th>2</th>\n",
       "      <td>Brass Angle Deep - Plain, No.2</td>\n",
       "      <td>Cleaning &amp; Household</td>\n",
       "      <td>Pooja Needs</td>\n",
       "      <td>Trm</td>\n",
       "      <td>119</td>\n",
       "      <td>250</td>\n",
       "      <td>Lamp &amp; Lamp Oil</td>\n",
       "    </tr>\n",
       "    <tr>\n",
       "      <th>3</th>\n",
       "      <td>Cereal Flip Lid Container/Storage Jar - Assort...</td>\n",
       "      <td>Cleaning &amp; Household</td>\n",
       "      <td>Bins &amp; Bathroom Ware</td>\n",
       "      <td>Nakoda</td>\n",
       "      <td>149</td>\n",
       "      <td>176</td>\n",
       "      <td>Laundry, Storage Baskets</td>\n",
       "    </tr>\n",
       "    <tr>\n",
       "      <th>4</th>\n",
       "      <td>Creme Soft Soap - For Hands &amp; Body</td>\n",
       "      <td>Beauty &amp; Hygiene</td>\n",
       "      <td>Bath &amp; Hand Wash</td>\n",
       "      <td>Nivea</td>\n",
       "      <td>162</td>\n",
       "      <td>162</td>\n",
       "      <td>Bathing Bars &amp; Soaps</td>\n",
       "    </tr>\n",
       "    <tr>\n",
       "      <th>5</th>\n",
       "      <td>Germ - Removal Multipurpose Wipes</td>\n",
       "      <td>Cleaning &amp; Household</td>\n",
       "      <td>All Purpose Cleaners</td>\n",
       "      <td>Nature Protect</td>\n",
       "      <td>169</td>\n",
       "      <td>199</td>\n",
       "      <td>Disinfectant Spray &amp; Cleaners</td>\n",
       "    </tr>\n",
       "  </tbody>\n",
       "</table>\n",
       "</div>"
      ],
      "text/plain": [
       "                                             product                category  \\\n",
       "1                              Water Bottle - Orange  Kitchen, Garden & Pets   \n",
       "2                     Brass Angle Deep - Plain, No.2    Cleaning & Household   \n",
       "3  Cereal Flip Lid Container/Storage Jar - Assort...    Cleaning & Household   \n",
       "4                 Creme Soft Soap - For Hands & Body        Beauty & Hygiene   \n",
       "5                  Germ - Removal Multipurpose Wipes    Cleaning & Household   \n",
       "\n",
       "            sub_category           brand  sale_price  market_price  \\\n",
       "1  Storage & Accessories      Mastercook         180           180   \n",
       "2            Pooja Needs             Trm         119           250   \n",
       "3   Bins & Bathroom Ware          Nakoda         149           176   \n",
       "4       Bath & Hand Wash           Nivea         162           162   \n",
       "5   All Purpose Cleaners  Nature Protect         169           199   \n",
       "\n",
       "                            type  \n",
       "1         Water & Fridge Bottles  \n",
       "2                Lamp & Lamp Oil  \n",
       "3       Laundry, Storage Baskets  \n",
       "4           Bathing Bars & Soaps  \n",
       "5  Disinfectant Spray & Cleaners  "
      ]
     },
     "execution_count": 187,
     "metadata": {},
     "output_type": "execute_result"
    }
   ],
   "source": [
    "# slicing\n",
    "df.loc[1:5, 'product': 'type']"
   ]
  },
  {
   "cell_type": "code",
   "execution_count": 189,
   "id": "df365981",
   "metadata": {},
   "outputs": [
    {
     "data": {
      "text/html": [
       "<div>\n",
       "<style scoped>\n",
       "    .dataframe tbody tr th:only-of-type {\n",
       "        vertical-align: middle;\n",
       "    }\n",
       "\n",
       "    .dataframe tbody tr th {\n",
       "        vertical-align: top;\n",
       "    }\n",
       "\n",
       "    .dataframe thead th {\n",
       "        text-align: right;\n",
       "    }\n",
       "</style>\n",
       "<table border=\"1\" class=\"dataframe\">\n",
       "  <thead>\n",
       "    <tr style=\"text-align: right;\">\n",
       "      <th></th>\n",
       "      <th>category</th>\n",
       "      <th>sub_category</th>\n",
       "      <th>brand</th>\n",
       "      <th>sale_price</th>\n",
       "    </tr>\n",
       "  </thead>\n",
       "  <tbody>\n",
       "    <tr>\n",
       "      <th>3</th>\n",
       "      <td>Cleaning &amp; Household</td>\n",
       "      <td>Bins &amp; Bathroom Ware</td>\n",
       "      <td>Nakoda</td>\n",
       "      <td>149</td>\n",
       "    </tr>\n",
       "    <tr>\n",
       "      <th>6</th>\n",
       "      <td>Beauty &amp; Hygiene</td>\n",
       "      <td>Skin Care</td>\n",
       "      <td>Satinance</td>\n",
       "      <td>58</td>\n",
       "    </tr>\n",
       "  </tbody>\n",
       "</table>\n",
       "</div>"
      ],
      "text/plain": [
       "               category          sub_category      brand  sale_price\n",
       "3  Cleaning & Household  Bins & Bathroom Ware     Nakoda         149\n",
       "6      Beauty & Hygiene             Skin Care  Satinance          58"
      ]
     },
     "execution_count": 189,
     "metadata": {},
     "output_type": "execute_result"
    }
   ],
   "source": [
    "# indexing rows and slicing columns\n",
    "df.loc[[3,6], 'category':'sale_price']"
   ]
  },
  {
   "cell_type": "code",
   "execution_count": null,
   "id": "1c79068f",
   "metadata": {},
   "outputs": [],
   "source": [
    "# adding rows using loc\n",
    "df.loc[11] = ['product', 1, 2, 3, 4, 5, 6, 7, 8, 9]"
   ]
  },
  {
   "cell_type": "code",
   "execution_count": null,
   "id": "ac22fdfa",
   "metadata": {},
   "outputs": [],
   "source": [
    "df.loc[[11]]"
   ]
  },
  {
   "cell_type": "code",
   "execution_count": null,
   "id": "2a6579f1",
   "metadata": {},
   "outputs": [],
   "source": [
    "# deleting row\n",
    "df.drop(11, axis=0, inplace=True)\n",
    "df"
   ]
  },
  {
   "cell_type": "code",
   "execution_count": 191,
   "id": "b4007ab2",
   "metadata": {},
   "outputs": [
    {
     "data": {
      "text/html": [
       "<div>\n",
       "<style scoped>\n",
       "    .dataframe tbody tr th:only-of-type {\n",
       "        vertical-align: middle;\n",
       "    }\n",
       "\n",
       "    .dataframe tbody tr th {\n",
       "        vertical-align: top;\n",
       "    }\n",
       "\n",
       "    .dataframe thead th {\n",
       "        text-align: right;\n",
       "    }\n",
       "</style>\n",
       "<table border=\"1\" class=\"dataframe\">\n",
       "  <thead>\n",
       "    <tr style=\"text-align: right;\">\n",
       "      <th></th>\n",
       "      <th>index</th>\n",
       "      <th>product</th>\n",
       "      <th>category</th>\n",
       "      <th>sub_category</th>\n",
       "      <th>brand</th>\n",
       "      <th>sale_price</th>\n",
       "      <th>market_price</th>\n",
       "      <th>type</th>\n",
       "      <th>rating</th>\n",
       "      <th>description</th>\n",
       "    </tr>\n",
       "  </thead>\n",
       "  <tbody>\n",
       "    <tr>\n",
       "      <th>0</th>\n",
       "      <td>1</td>\n",
       "      <td>Garlic Oil - Vegetarian Capsule 500 mg</td>\n",
       "      <td>Beauty &amp; Hygiene</td>\n",
       "      <td>Hair Care</td>\n",
       "      <td>Sri Sri Ayurveda</td>\n",
       "      <td>220</td>\n",
       "      <td>220</td>\n",
       "      <td>Hair Oil &amp; Serum</td>\n",
       "      <td>4.1</td>\n",
       "      <td>This Product contains Garlic Oil that is known...</td>\n",
       "    </tr>\n",
       "    <tr>\n",
       "      <th>1</th>\n",
       "      <td>2</td>\n",
       "      <td>Water Bottle - Orange</td>\n",
       "      <td>Kitchen, Garden &amp; Pets</td>\n",
       "      <td>Storage &amp; Accessories</td>\n",
       "      <td>Mastercook</td>\n",
       "      <td>180</td>\n",
       "      <td>180</td>\n",
       "      <td>Water &amp; Fridge Bottles</td>\n",
       "      <td>2.3</td>\n",
       "      <td>Each product is microwave safe (without lid), ...</td>\n",
       "    </tr>\n",
       "    <tr>\n",
       "      <th>2</th>\n",
       "      <td>3</td>\n",
       "      <td>Brass Angle Deep - Plain, No.2</td>\n",
       "      <td>Cleaning &amp; Household</td>\n",
       "      <td>Pooja Needs</td>\n",
       "      <td>Trm</td>\n",
       "      <td>119</td>\n",
       "      <td>250</td>\n",
       "      <td>Lamp &amp; Lamp Oil</td>\n",
       "      <td>3.4</td>\n",
       "      <td>A perfect gift for all occasions, be it your m...</td>\n",
       "    </tr>\n",
       "    <tr>\n",
       "      <th>3</th>\n",
       "      <td>4</td>\n",
       "      <td>Cereal Flip Lid Container/Storage Jar - Assort...</td>\n",
       "      <td>Cleaning &amp; Household</td>\n",
       "      <td>Bins &amp; Bathroom Ware</td>\n",
       "      <td>Nakoda</td>\n",
       "      <td>149</td>\n",
       "      <td>176</td>\n",
       "      <td>Laundry, Storage Baskets</td>\n",
       "      <td>3.7</td>\n",
       "      <td>Multipurpose container with an attractive desi...</td>\n",
       "    </tr>\n",
       "    <tr>\n",
       "      <th>4</th>\n",
       "      <td>5</td>\n",
       "      <td>Creme Soft Soap - For Hands &amp; Body</td>\n",
       "      <td>Beauty &amp; Hygiene</td>\n",
       "      <td>Bath &amp; Hand Wash</td>\n",
       "      <td>Nivea</td>\n",
       "      <td>162</td>\n",
       "      <td>162</td>\n",
       "      <td>Bathing Bars &amp; Soaps</td>\n",
       "      <td>4.4</td>\n",
       "      <td>Nivea Creme Soft Soap gives your skin the best...</td>\n",
       "    </tr>\n",
       "    <tr>\n",
       "      <th>5</th>\n",
       "      <td>6</td>\n",
       "      <td>Germ - Removal Multipurpose Wipes</td>\n",
       "      <td>Cleaning &amp; Household</td>\n",
       "      <td>All Purpose Cleaners</td>\n",
       "      <td>Nature Protect</td>\n",
       "      <td>169</td>\n",
       "      <td>199</td>\n",
       "      <td>Disinfectant Spray &amp; Cleaners</td>\n",
       "      <td>3.3</td>\n",
       "      <td>Stay protected from contamination with Multipu...</td>\n",
       "    </tr>\n",
       "    <tr>\n",
       "      <th>6</th>\n",
       "      <td>7</td>\n",
       "      <td>Multani Mati</td>\n",
       "      <td>Beauty &amp; Hygiene</td>\n",
       "      <td>Skin Care</td>\n",
       "      <td>Satinance</td>\n",
       "      <td>58</td>\n",
       "      <td>58</td>\n",
       "      <td>Face Care</td>\n",
       "      <td>3.6</td>\n",
       "      <td>Satinance multani matti is an excellent skin t...</td>\n",
       "    </tr>\n",
       "    <tr>\n",
       "      <th>7</th>\n",
       "      <td>8</td>\n",
       "      <td>Hand Sanitizer - 70% Alcohol Base</td>\n",
       "      <td>Beauty &amp; Hygiene</td>\n",
       "      <td>Bath &amp; Hand Wash</td>\n",
       "      <td>Bionova</td>\n",
       "      <td>250</td>\n",
       "      <td>250</td>\n",
       "      <td>Hand Wash &amp; Sanitizers</td>\n",
       "      <td>4.0</td>\n",
       "      <td>70%Alcohol based is gentle of hand leaves skin...</td>\n",
       "    </tr>\n",
       "    <tr>\n",
       "      <th>8</th>\n",
       "      <td>9</td>\n",
       "      <td>Biotin &amp; Collagen Volumizing Hair Shampoo + Bi...</td>\n",
       "      <td>Beauty &amp; Hygiene</td>\n",
       "      <td>Hair Care</td>\n",
       "      <td>StBotanica</td>\n",
       "      <td>1098</td>\n",
       "      <td>1098</td>\n",
       "      <td>Shampoo &amp; Conditioner</td>\n",
       "      <td>3.5</td>\n",
       "      <td>An exclusive blend with Vitamin B7 Biotin, Hyd...</td>\n",
       "    </tr>\n",
       "    <tr>\n",
       "      <th>9</th>\n",
       "      <td>10</td>\n",
       "      <td>Scrub Pad - Anti- Bacterial, Regular</td>\n",
       "      <td>Cleaning &amp; Household</td>\n",
       "      <td>Mops, Brushes &amp; Scrubs</td>\n",
       "      <td>Scotch brite</td>\n",
       "      <td>20</td>\n",
       "      <td>20</td>\n",
       "      <td>Utensil Scrub-Pad, Glove</td>\n",
       "      <td>4.3</td>\n",
       "      <td>Scotch Brite Anti- Bacterial Scrub Pad thoroug...</td>\n",
       "    </tr>\n",
       "  </tbody>\n",
       "</table>\n",
       "</div>"
      ],
      "text/plain": [
       "   index                                            product  \\\n",
       "0      1             Garlic Oil - Vegetarian Capsule 500 mg   \n",
       "1      2                              Water Bottle - Orange   \n",
       "2      3                     Brass Angle Deep - Plain, No.2   \n",
       "3      4  Cereal Flip Lid Container/Storage Jar - Assort...   \n",
       "4      5                 Creme Soft Soap - For Hands & Body   \n",
       "5      6                  Germ - Removal Multipurpose Wipes   \n",
       "6      7                                       Multani Mati   \n",
       "7      8                  Hand Sanitizer - 70% Alcohol Base   \n",
       "8      9  Biotin & Collagen Volumizing Hair Shampoo + Bi...   \n",
       "9     10               Scrub Pad - Anti- Bacterial, Regular   \n",
       "\n",
       "                 category            sub_category              brand  \\\n",
       "0        Beauty & Hygiene               Hair Care  Sri Sri Ayurveda    \n",
       "1  Kitchen, Garden & Pets   Storage & Accessories         Mastercook   \n",
       "2    Cleaning & Household             Pooja Needs                Trm   \n",
       "3    Cleaning & Household    Bins & Bathroom Ware             Nakoda   \n",
       "4        Beauty & Hygiene        Bath & Hand Wash              Nivea   \n",
       "5    Cleaning & Household    All Purpose Cleaners     Nature Protect   \n",
       "6        Beauty & Hygiene               Skin Care          Satinance   \n",
       "7        Beauty & Hygiene        Bath & Hand Wash            Bionova   \n",
       "8        Beauty & Hygiene               Hair Care         StBotanica   \n",
       "9    Cleaning & Household  Mops, Brushes & Scrubs       Scotch brite   \n",
       "\n",
       "   sale_price  market_price                           type  rating  \\\n",
       "0         220           220               Hair Oil & Serum     4.1   \n",
       "1         180           180         Water & Fridge Bottles     2.3   \n",
       "2         119           250                Lamp & Lamp Oil     3.4   \n",
       "3         149           176       Laundry, Storage Baskets     3.7   \n",
       "4         162           162           Bathing Bars & Soaps     4.4   \n",
       "5         169           199  Disinfectant Spray & Cleaners     3.3   \n",
       "6          58            58                      Face Care     3.6   \n",
       "7         250           250         Hand Wash & Sanitizers     4.0   \n",
       "8        1098          1098          Shampoo & Conditioner     3.5   \n",
       "9          20            20       Utensil Scrub-Pad, Glove     4.3   \n",
       "\n",
       "                                         description  \n",
       "0  This Product contains Garlic Oil that is known...  \n",
       "1  Each product is microwave safe (without lid), ...  \n",
       "2  A perfect gift for all occasions, be it your m...  \n",
       "3  Multipurpose container with an attractive desi...  \n",
       "4  Nivea Creme Soft Soap gives your skin the best...  \n",
       "5  Stay protected from contamination with Multipu...  \n",
       "6  Satinance multani matti is an excellent skin t...  \n",
       "7  70%Alcohol based is gentle of hand leaves skin...  \n",
       "8  An exclusive blend with Vitamin B7 Biotin, Hyd...  \n",
       "9  Scotch Brite Anti- Bacterial Scrub Pad thoroug...  "
      ]
     },
     "execution_count": 191,
     "metadata": {},
     "output_type": "execute_result"
    }
   ],
   "source": [
    "df"
   ]
  },
  {
   "cell_type": "code",
   "execution_count": 193,
   "id": "c7b47e60",
   "metadata": {},
   "outputs": [
    {
     "data": {
      "text/plain": [
       "'Pooja Needs'"
      ]
     },
     "execution_count": 193,
     "metadata": {},
     "output_type": "execute_result"
    }
   ],
   "source": [
    "# filtering using iloc\n",
    "\n",
    "# optaining specific positioned values\n",
    "df.iloc[2,3]"
   ]
  },
  {
   "cell_type": "code",
   "execution_count": 194,
   "id": "a04dcf4f",
   "metadata": {},
   "outputs": [
    {
     "data": {
      "text/html": [
       "<div>\n",
       "<style scoped>\n",
       "    .dataframe tbody tr th:only-of-type {\n",
       "        vertical-align: middle;\n",
       "    }\n",
       "\n",
       "    .dataframe tbody tr th {\n",
       "        vertical-align: top;\n",
       "    }\n",
       "\n",
       "    .dataframe thead th {\n",
       "        text-align: right;\n",
       "    }\n",
       "</style>\n",
       "<table border=\"1\" class=\"dataframe\">\n",
       "  <thead>\n",
       "    <tr style=\"text-align: right;\">\n",
       "      <th></th>\n",
       "      <th>index</th>\n",
       "      <th>product</th>\n",
       "      <th>category</th>\n",
       "    </tr>\n",
       "  </thead>\n",
       "  <tbody>\n",
       "    <tr>\n",
       "      <th>0</th>\n",
       "      <td>1</td>\n",
       "      <td>Garlic Oil - Vegetarian Capsule 500 mg</td>\n",
       "      <td>Beauty &amp; Hygiene</td>\n",
       "    </tr>\n",
       "    <tr>\n",
       "      <th>1</th>\n",
       "      <td>2</td>\n",
       "      <td>Water Bottle - Orange</td>\n",
       "      <td>Kitchen, Garden &amp; Pets</td>\n",
       "    </tr>\n",
       "    <tr>\n",
       "      <th>2</th>\n",
       "      <td>3</td>\n",
       "      <td>Brass Angle Deep - Plain, No.2</td>\n",
       "      <td>Cleaning &amp; Household</td>\n",
       "    </tr>\n",
       "    <tr>\n",
       "      <th>3</th>\n",
       "      <td>4</td>\n",
       "      <td>Cereal Flip Lid Container/Storage Jar - Assort...</td>\n",
       "      <td>Cleaning &amp; Household</td>\n",
       "    </tr>\n",
       "    <tr>\n",
       "      <th>4</th>\n",
       "      <td>5</td>\n",
       "      <td>Creme Soft Soap - For Hands &amp; Body</td>\n",
       "      <td>Beauty &amp; Hygiene</td>\n",
       "    </tr>\n",
       "  </tbody>\n",
       "</table>\n",
       "</div>"
      ],
      "text/plain": [
       "   index                                            product  \\\n",
       "0      1             Garlic Oil - Vegetarian Capsule 500 mg   \n",
       "1      2                              Water Bottle - Orange   \n",
       "2      3                     Brass Angle Deep - Plain, No.2   \n",
       "3      4  Cereal Flip Lid Container/Storage Jar - Assort...   \n",
       "4      5                 Creme Soft Soap - For Hands & Body   \n",
       "\n",
       "                 category  \n",
       "0        Beauty & Hygiene  \n",
       "1  Kitchen, Garden & Pets  \n",
       "2    Cleaning & Household  \n",
       "3    Cleaning & Household  \n",
       "4        Beauty & Hygiene  "
      ]
     },
     "execution_count": 194,
     "metadata": {},
     "output_type": "execute_result"
    }
   ],
   "source": [
    "# slicing\n",
    "df.iloc[0:5, 0:3]"
   ]
  },
  {
   "cell_type": "code",
   "execution_count": 195,
   "id": "891879ba",
   "metadata": {},
   "outputs": [
    {
     "data": {
      "text/html": [
       "<div>\n",
       "<style scoped>\n",
       "    .dataframe tbody tr th:only-of-type {\n",
       "        vertical-align: middle;\n",
       "    }\n",
       "\n",
       "    .dataframe tbody tr th {\n",
       "        vertical-align: top;\n",
       "    }\n",
       "\n",
       "    .dataframe thead th {\n",
       "        text-align: right;\n",
       "    }\n",
       "</style>\n",
       "<table border=\"1\" class=\"dataframe\">\n",
       "  <thead>\n",
       "    <tr style=\"text-align: right;\">\n",
       "      <th></th>\n",
       "      <th>index</th>\n",
       "      <th>product</th>\n",
       "      <th>category</th>\n",
       "    </tr>\n",
       "  </thead>\n",
       "  <tbody>\n",
       "    <tr>\n",
       "      <th>0</th>\n",
       "      <td>1</td>\n",
       "      <td>Garlic Oil - Vegetarian Capsule 500 mg</td>\n",
       "      <td>Beauty &amp; Hygiene</td>\n",
       "    </tr>\n",
       "    <tr>\n",
       "      <th>2</th>\n",
       "      <td>3</td>\n",
       "      <td>Brass Angle Deep - Plain, No.2</td>\n",
       "      <td>Cleaning &amp; Household</td>\n",
       "    </tr>\n",
       "    <tr>\n",
       "      <th>5</th>\n",
       "      <td>6</td>\n",
       "      <td>Germ - Removal Multipurpose Wipes</td>\n",
       "      <td>Cleaning &amp; Household</td>\n",
       "    </tr>\n",
       "  </tbody>\n",
       "</table>\n",
       "</div>"
      ],
      "text/plain": [
       "   index                                 product              category\n",
       "0      1  Garlic Oil - Vegetarian Capsule 500 mg      Beauty & Hygiene\n",
       "2      3          Brass Angle Deep - Plain, No.2  Cleaning & Household\n",
       "5      6       Germ - Removal Multipurpose Wipes  Cleaning & Household"
      ]
     },
     "execution_count": 195,
     "metadata": {},
     "output_type": "execute_result"
    }
   ],
   "source": [
    "# indexing and slicing\n",
    "df.iloc[[0,2,5], 0:3]"
   ]
  },
  {
   "cell_type": "markdown",
   "id": "9999ceb5",
   "metadata": {},
   "source": [
    "### 👉 Sorting Values"
   ]
  },
  {
   "cell_type": "code",
   "execution_count": 196,
   "id": "42c61091",
   "metadata": {},
   "outputs": [
    {
     "data": {
      "text/html": [
       "<div>\n",
       "<style scoped>\n",
       "    .dataframe tbody tr th:only-of-type {\n",
       "        vertical-align: middle;\n",
       "    }\n",
       "\n",
       "    .dataframe tbody tr th {\n",
       "        vertical-align: top;\n",
       "    }\n",
       "\n",
       "    .dataframe thead th {\n",
       "        text-align: right;\n",
       "    }\n",
       "</style>\n",
       "<table border=\"1\" class=\"dataframe\">\n",
       "  <thead>\n",
       "    <tr style=\"text-align: right;\">\n",
       "      <th></th>\n",
       "      <th>index</th>\n",
       "      <th>product</th>\n",
       "      <th>category</th>\n",
       "      <th>sub_category</th>\n",
       "      <th>brand</th>\n",
       "      <th>sale_price</th>\n",
       "      <th>market_price</th>\n",
       "      <th>type</th>\n",
       "      <th>rating</th>\n",
       "      <th>description</th>\n",
       "    </tr>\n",
       "  </thead>\n",
       "  <tbody>\n",
       "    <tr>\n",
       "      <th>9</th>\n",
       "      <td>10</td>\n",
       "      <td>Scrub Pad - Anti- Bacterial, Regular</td>\n",
       "      <td>Cleaning &amp; Household</td>\n",
       "      <td>Mops, Brushes &amp; Scrubs</td>\n",
       "      <td>Scotch brite</td>\n",
       "      <td>20</td>\n",
       "      <td>20</td>\n",
       "      <td>Utensil Scrub-Pad, Glove</td>\n",
       "      <td>4.3</td>\n",
       "      <td>Scotch Brite Anti- Bacterial Scrub Pad thoroug...</td>\n",
       "    </tr>\n",
       "    <tr>\n",
       "      <th>6</th>\n",
       "      <td>7</td>\n",
       "      <td>Multani Mati</td>\n",
       "      <td>Beauty &amp; Hygiene</td>\n",
       "      <td>Skin Care</td>\n",
       "      <td>Satinance</td>\n",
       "      <td>58</td>\n",
       "      <td>58</td>\n",
       "      <td>Face Care</td>\n",
       "      <td>3.6</td>\n",
       "      <td>Satinance multani matti is an excellent skin t...</td>\n",
       "    </tr>\n",
       "    <tr>\n",
       "      <th>2</th>\n",
       "      <td>3</td>\n",
       "      <td>Brass Angle Deep - Plain, No.2</td>\n",
       "      <td>Cleaning &amp; Household</td>\n",
       "      <td>Pooja Needs</td>\n",
       "      <td>Trm</td>\n",
       "      <td>119</td>\n",
       "      <td>250</td>\n",
       "      <td>Lamp &amp; Lamp Oil</td>\n",
       "      <td>3.4</td>\n",
       "      <td>A perfect gift for all occasions, be it your m...</td>\n",
       "    </tr>\n",
       "    <tr>\n",
       "      <th>3</th>\n",
       "      <td>4</td>\n",
       "      <td>Cereal Flip Lid Container/Storage Jar - Assort...</td>\n",
       "      <td>Cleaning &amp; Household</td>\n",
       "      <td>Bins &amp; Bathroom Ware</td>\n",
       "      <td>Nakoda</td>\n",
       "      <td>149</td>\n",
       "      <td>176</td>\n",
       "      <td>Laundry, Storage Baskets</td>\n",
       "      <td>3.7</td>\n",
       "      <td>Multipurpose container with an attractive desi...</td>\n",
       "    </tr>\n",
       "    <tr>\n",
       "      <th>4</th>\n",
       "      <td>5</td>\n",
       "      <td>Creme Soft Soap - For Hands &amp; Body</td>\n",
       "      <td>Beauty &amp; Hygiene</td>\n",
       "      <td>Bath &amp; Hand Wash</td>\n",
       "      <td>Nivea</td>\n",
       "      <td>162</td>\n",
       "      <td>162</td>\n",
       "      <td>Bathing Bars &amp; Soaps</td>\n",
       "      <td>4.4</td>\n",
       "      <td>Nivea Creme Soft Soap gives your skin the best...</td>\n",
       "    </tr>\n",
       "    <tr>\n",
       "      <th>5</th>\n",
       "      <td>6</td>\n",
       "      <td>Germ - Removal Multipurpose Wipes</td>\n",
       "      <td>Cleaning &amp; Household</td>\n",
       "      <td>All Purpose Cleaners</td>\n",
       "      <td>Nature Protect</td>\n",
       "      <td>169</td>\n",
       "      <td>199</td>\n",
       "      <td>Disinfectant Spray &amp; Cleaners</td>\n",
       "      <td>3.3</td>\n",
       "      <td>Stay protected from contamination with Multipu...</td>\n",
       "    </tr>\n",
       "    <tr>\n",
       "      <th>1</th>\n",
       "      <td>2</td>\n",
       "      <td>Water Bottle - Orange</td>\n",
       "      <td>Kitchen, Garden &amp; Pets</td>\n",
       "      <td>Storage &amp; Accessories</td>\n",
       "      <td>Mastercook</td>\n",
       "      <td>180</td>\n",
       "      <td>180</td>\n",
       "      <td>Water &amp; Fridge Bottles</td>\n",
       "      <td>2.3</td>\n",
       "      <td>Each product is microwave safe (without lid), ...</td>\n",
       "    </tr>\n",
       "    <tr>\n",
       "      <th>0</th>\n",
       "      <td>1</td>\n",
       "      <td>Garlic Oil - Vegetarian Capsule 500 mg</td>\n",
       "      <td>Beauty &amp; Hygiene</td>\n",
       "      <td>Hair Care</td>\n",
       "      <td>Sri Sri Ayurveda</td>\n",
       "      <td>220</td>\n",
       "      <td>220</td>\n",
       "      <td>Hair Oil &amp; Serum</td>\n",
       "      <td>4.1</td>\n",
       "      <td>This Product contains Garlic Oil that is known...</td>\n",
       "    </tr>\n",
       "    <tr>\n",
       "      <th>7</th>\n",
       "      <td>8</td>\n",
       "      <td>Hand Sanitizer - 70% Alcohol Base</td>\n",
       "      <td>Beauty &amp; Hygiene</td>\n",
       "      <td>Bath &amp; Hand Wash</td>\n",
       "      <td>Bionova</td>\n",
       "      <td>250</td>\n",
       "      <td>250</td>\n",
       "      <td>Hand Wash &amp; Sanitizers</td>\n",
       "      <td>4.0</td>\n",
       "      <td>70%Alcohol based is gentle of hand leaves skin...</td>\n",
       "    </tr>\n",
       "    <tr>\n",
       "      <th>8</th>\n",
       "      <td>9</td>\n",
       "      <td>Biotin &amp; Collagen Volumizing Hair Shampoo + Bi...</td>\n",
       "      <td>Beauty &amp; Hygiene</td>\n",
       "      <td>Hair Care</td>\n",
       "      <td>StBotanica</td>\n",
       "      <td>1098</td>\n",
       "      <td>1098</td>\n",
       "      <td>Shampoo &amp; Conditioner</td>\n",
       "      <td>3.5</td>\n",
       "      <td>An exclusive blend with Vitamin B7 Biotin, Hyd...</td>\n",
       "    </tr>\n",
       "  </tbody>\n",
       "</table>\n",
       "</div>"
      ],
      "text/plain": [
       "   index                                            product  \\\n",
       "9     10               Scrub Pad - Anti- Bacterial, Regular   \n",
       "6      7                                       Multani Mati   \n",
       "2      3                     Brass Angle Deep - Plain, No.2   \n",
       "3      4  Cereal Flip Lid Container/Storage Jar - Assort...   \n",
       "4      5                 Creme Soft Soap - For Hands & Body   \n",
       "5      6                  Germ - Removal Multipurpose Wipes   \n",
       "1      2                              Water Bottle - Orange   \n",
       "0      1             Garlic Oil - Vegetarian Capsule 500 mg   \n",
       "7      8                  Hand Sanitizer - 70% Alcohol Base   \n",
       "8      9  Biotin & Collagen Volumizing Hair Shampoo + Bi...   \n",
       "\n",
       "                 category            sub_category              brand  \\\n",
       "9    Cleaning & Household  Mops, Brushes & Scrubs       Scotch brite   \n",
       "6        Beauty & Hygiene               Skin Care          Satinance   \n",
       "2    Cleaning & Household             Pooja Needs                Trm   \n",
       "3    Cleaning & Household    Bins & Bathroom Ware             Nakoda   \n",
       "4        Beauty & Hygiene        Bath & Hand Wash              Nivea   \n",
       "5    Cleaning & Household    All Purpose Cleaners     Nature Protect   \n",
       "1  Kitchen, Garden & Pets   Storage & Accessories         Mastercook   \n",
       "0        Beauty & Hygiene               Hair Care  Sri Sri Ayurveda    \n",
       "7        Beauty & Hygiene        Bath & Hand Wash            Bionova   \n",
       "8        Beauty & Hygiene               Hair Care         StBotanica   \n",
       "\n",
       "   sale_price  market_price                           type  rating  \\\n",
       "9          20            20       Utensil Scrub-Pad, Glove     4.3   \n",
       "6          58            58                      Face Care     3.6   \n",
       "2         119           250                Lamp & Lamp Oil     3.4   \n",
       "3         149           176       Laundry, Storage Baskets     3.7   \n",
       "4         162           162           Bathing Bars & Soaps     4.4   \n",
       "5         169           199  Disinfectant Spray & Cleaners     3.3   \n",
       "1         180           180         Water & Fridge Bottles     2.3   \n",
       "0         220           220               Hair Oil & Serum     4.1   \n",
       "7         250           250         Hand Wash & Sanitizers     4.0   \n",
       "8        1098          1098          Shampoo & Conditioner     3.5   \n",
       "\n",
       "                                         description  \n",
       "9  Scotch Brite Anti- Bacterial Scrub Pad thoroug...  \n",
       "6  Satinance multani matti is an excellent skin t...  \n",
       "2  A perfect gift for all occasions, be it your m...  \n",
       "3  Multipurpose container with an attractive desi...  \n",
       "4  Nivea Creme Soft Soap gives your skin the best...  \n",
       "5  Stay protected from contamination with Multipu...  \n",
       "1  Each product is microwave safe (without lid), ...  \n",
       "0  This Product contains Garlic Oil that is known...  \n",
       "7  70%Alcohol based is gentle of hand leaves skin...  \n",
       "8  An exclusive blend with Vitamin B7 Biotin, Hyd...  "
      ]
     },
     "execution_count": 196,
     "metadata": {},
     "output_type": "execute_result"
    }
   ],
   "source": [
    "# sorting numerical column\n",
    "df.sort_values(by='sale_price')"
   ]
  },
  {
   "cell_type": "code",
   "execution_count": 197,
   "id": "4edafd1b",
   "metadata": {},
   "outputs": [
    {
     "data": {
      "text/html": [
       "<div>\n",
       "<style scoped>\n",
       "    .dataframe tbody tr th:only-of-type {\n",
       "        vertical-align: middle;\n",
       "    }\n",
       "\n",
       "    .dataframe tbody tr th {\n",
       "        vertical-align: top;\n",
       "    }\n",
       "\n",
       "    .dataframe thead th {\n",
       "        text-align: right;\n",
       "    }\n",
       "</style>\n",
       "<table border=\"1\" class=\"dataframe\">\n",
       "  <thead>\n",
       "    <tr style=\"text-align: right;\">\n",
       "      <th></th>\n",
       "      <th>index</th>\n",
       "      <th>product</th>\n",
       "      <th>category</th>\n",
       "      <th>sub_category</th>\n",
       "      <th>brand</th>\n",
       "      <th>sale_price</th>\n",
       "      <th>market_price</th>\n",
       "      <th>type</th>\n",
       "      <th>rating</th>\n",
       "      <th>description</th>\n",
       "    </tr>\n",
       "  </thead>\n",
       "  <tbody>\n",
       "    <tr>\n",
       "      <th>8</th>\n",
       "      <td>9</td>\n",
       "      <td>Biotin &amp; Collagen Volumizing Hair Shampoo + Bi...</td>\n",
       "      <td>Beauty &amp; Hygiene</td>\n",
       "      <td>Hair Care</td>\n",
       "      <td>StBotanica</td>\n",
       "      <td>1098</td>\n",
       "      <td>1098</td>\n",
       "      <td>Shampoo &amp; Conditioner</td>\n",
       "      <td>3.5</td>\n",
       "      <td>An exclusive blend with Vitamin B7 Biotin, Hyd...</td>\n",
       "    </tr>\n",
       "    <tr>\n",
       "      <th>7</th>\n",
       "      <td>8</td>\n",
       "      <td>Hand Sanitizer - 70% Alcohol Base</td>\n",
       "      <td>Beauty &amp; Hygiene</td>\n",
       "      <td>Bath &amp; Hand Wash</td>\n",
       "      <td>Bionova</td>\n",
       "      <td>250</td>\n",
       "      <td>250</td>\n",
       "      <td>Hand Wash &amp; Sanitizers</td>\n",
       "      <td>4.0</td>\n",
       "      <td>70%Alcohol based is gentle of hand leaves skin...</td>\n",
       "    </tr>\n",
       "    <tr>\n",
       "      <th>0</th>\n",
       "      <td>1</td>\n",
       "      <td>Garlic Oil - Vegetarian Capsule 500 mg</td>\n",
       "      <td>Beauty &amp; Hygiene</td>\n",
       "      <td>Hair Care</td>\n",
       "      <td>Sri Sri Ayurveda</td>\n",
       "      <td>220</td>\n",
       "      <td>220</td>\n",
       "      <td>Hair Oil &amp; Serum</td>\n",
       "      <td>4.1</td>\n",
       "      <td>This Product contains Garlic Oil that is known...</td>\n",
       "    </tr>\n",
       "    <tr>\n",
       "      <th>1</th>\n",
       "      <td>2</td>\n",
       "      <td>Water Bottle - Orange</td>\n",
       "      <td>Kitchen, Garden &amp; Pets</td>\n",
       "      <td>Storage &amp; Accessories</td>\n",
       "      <td>Mastercook</td>\n",
       "      <td>180</td>\n",
       "      <td>180</td>\n",
       "      <td>Water &amp; Fridge Bottles</td>\n",
       "      <td>2.3</td>\n",
       "      <td>Each product is microwave safe (without lid), ...</td>\n",
       "    </tr>\n",
       "    <tr>\n",
       "      <th>5</th>\n",
       "      <td>6</td>\n",
       "      <td>Germ - Removal Multipurpose Wipes</td>\n",
       "      <td>Cleaning &amp; Household</td>\n",
       "      <td>All Purpose Cleaners</td>\n",
       "      <td>Nature Protect</td>\n",
       "      <td>169</td>\n",
       "      <td>199</td>\n",
       "      <td>Disinfectant Spray &amp; Cleaners</td>\n",
       "      <td>3.3</td>\n",
       "      <td>Stay protected from contamination with Multipu...</td>\n",
       "    </tr>\n",
       "    <tr>\n",
       "      <th>4</th>\n",
       "      <td>5</td>\n",
       "      <td>Creme Soft Soap - For Hands &amp; Body</td>\n",
       "      <td>Beauty &amp; Hygiene</td>\n",
       "      <td>Bath &amp; Hand Wash</td>\n",
       "      <td>Nivea</td>\n",
       "      <td>162</td>\n",
       "      <td>162</td>\n",
       "      <td>Bathing Bars &amp; Soaps</td>\n",
       "      <td>4.4</td>\n",
       "      <td>Nivea Creme Soft Soap gives your skin the best...</td>\n",
       "    </tr>\n",
       "    <tr>\n",
       "      <th>3</th>\n",
       "      <td>4</td>\n",
       "      <td>Cereal Flip Lid Container/Storage Jar - Assort...</td>\n",
       "      <td>Cleaning &amp; Household</td>\n",
       "      <td>Bins &amp; Bathroom Ware</td>\n",
       "      <td>Nakoda</td>\n",
       "      <td>149</td>\n",
       "      <td>176</td>\n",
       "      <td>Laundry, Storage Baskets</td>\n",
       "      <td>3.7</td>\n",
       "      <td>Multipurpose container with an attractive desi...</td>\n",
       "    </tr>\n",
       "    <tr>\n",
       "      <th>2</th>\n",
       "      <td>3</td>\n",
       "      <td>Brass Angle Deep - Plain, No.2</td>\n",
       "      <td>Cleaning &amp; Household</td>\n",
       "      <td>Pooja Needs</td>\n",
       "      <td>Trm</td>\n",
       "      <td>119</td>\n",
       "      <td>250</td>\n",
       "      <td>Lamp &amp; Lamp Oil</td>\n",
       "      <td>3.4</td>\n",
       "      <td>A perfect gift for all occasions, be it your m...</td>\n",
       "    </tr>\n",
       "    <tr>\n",
       "      <th>6</th>\n",
       "      <td>7</td>\n",
       "      <td>Multani Mati</td>\n",
       "      <td>Beauty &amp; Hygiene</td>\n",
       "      <td>Skin Care</td>\n",
       "      <td>Satinance</td>\n",
       "      <td>58</td>\n",
       "      <td>58</td>\n",
       "      <td>Face Care</td>\n",
       "      <td>3.6</td>\n",
       "      <td>Satinance multani matti is an excellent skin t...</td>\n",
       "    </tr>\n",
       "    <tr>\n",
       "      <th>9</th>\n",
       "      <td>10</td>\n",
       "      <td>Scrub Pad - Anti- Bacterial, Regular</td>\n",
       "      <td>Cleaning &amp; Household</td>\n",
       "      <td>Mops, Brushes &amp; Scrubs</td>\n",
       "      <td>Scotch brite</td>\n",
       "      <td>20</td>\n",
       "      <td>20</td>\n",
       "      <td>Utensil Scrub-Pad, Glove</td>\n",
       "      <td>4.3</td>\n",
       "      <td>Scotch Brite Anti- Bacterial Scrub Pad thoroug...</td>\n",
       "    </tr>\n",
       "  </tbody>\n",
       "</table>\n",
       "</div>"
      ],
      "text/plain": [
       "   index                                            product  \\\n",
       "8      9  Biotin & Collagen Volumizing Hair Shampoo + Bi...   \n",
       "7      8                  Hand Sanitizer - 70% Alcohol Base   \n",
       "0      1             Garlic Oil - Vegetarian Capsule 500 mg   \n",
       "1      2                              Water Bottle - Orange   \n",
       "5      6                  Germ - Removal Multipurpose Wipes   \n",
       "4      5                 Creme Soft Soap - For Hands & Body   \n",
       "3      4  Cereal Flip Lid Container/Storage Jar - Assort...   \n",
       "2      3                     Brass Angle Deep - Plain, No.2   \n",
       "6      7                                       Multani Mati   \n",
       "9     10               Scrub Pad - Anti- Bacterial, Regular   \n",
       "\n",
       "                 category            sub_category              brand  \\\n",
       "8        Beauty & Hygiene               Hair Care         StBotanica   \n",
       "7        Beauty & Hygiene        Bath & Hand Wash            Bionova   \n",
       "0        Beauty & Hygiene               Hair Care  Sri Sri Ayurveda    \n",
       "1  Kitchen, Garden & Pets   Storage & Accessories         Mastercook   \n",
       "5    Cleaning & Household    All Purpose Cleaners     Nature Protect   \n",
       "4        Beauty & Hygiene        Bath & Hand Wash              Nivea   \n",
       "3    Cleaning & Household    Bins & Bathroom Ware             Nakoda   \n",
       "2    Cleaning & Household             Pooja Needs                Trm   \n",
       "6        Beauty & Hygiene               Skin Care          Satinance   \n",
       "9    Cleaning & Household  Mops, Brushes & Scrubs       Scotch brite   \n",
       "\n",
       "   sale_price  market_price                           type  rating  \\\n",
       "8        1098          1098          Shampoo & Conditioner     3.5   \n",
       "7         250           250         Hand Wash & Sanitizers     4.0   \n",
       "0         220           220               Hair Oil & Serum     4.1   \n",
       "1         180           180         Water & Fridge Bottles     2.3   \n",
       "5         169           199  Disinfectant Spray & Cleaners     3.3   \n",
       "4         162           162           Bathing Bars & Soaps     4.4   \n",
       "3         149           176       Laundry, Storage Baskets     3.7   \n",
       "2         119           250                Lamp & Lamp Oil     3.4   \n",
       "6          58            58                      Face Care     3.6   \n",
       "9          20            20       Utensil Scrub-Pad, Glove     4.3   \n",
       "\n",
       "                                         description  \n",
       "8  An exclusive blend with Vitamin B7 Biotin, Hyd...  \n",
       "7  70%Alcohol based is gentle of hand leaves skin...  \n",
       "0  This Product contains Garlic Oil that is known...  \n",
       "1  Each product is microwave safe (without lid), ...  \n",
       "5  Stay protected from contamination with Multipu...  \n",
       "4  Nivea Creme Soft Soap gives your skin the best...  \n",
       "3  Multipurpose container with an attractive desi...  \n",
       "2  A perfect gift for all occasions, be it your m...  \n",
       "6  Satinance multani matti is an excellent skin t...  \n",
       "9  Scotch Brite Anti- Bacterial Scrub Pad thoroug...  "
      ]
     },
     "execution_count": 197,
     "metadata": {},
     "output_type": "execute_result"
    }
   ],
   "source": [
    "# sorting in descending order\n",
    "df.sort_values(by='sale_price', ascending=False)"
   ]
  },
  {
   "cell_type": "markdown",
   "id": "5725026c",
   "metadata": {},
   "source": [
    "### 👉 Missing Values"
   ]
  },
  {
   "cell_type": "code",
   "execution_count": 198,
   "id": "efef06d0",
   "metadata": {},
   "outputs": [],
   "source": [
    "import numpy as np"
   ]
  },
  {
   "cell_type": "code",
   "execution_count": 199,
   "id": "4d3112b7",
   "metadata": {},
   "outputs": [
    {
     "data": {
      "text/html": [
       "<div>\n",
       "<style scoped>\n",
       "    .dataframe tbody tr th:only-of-type {\n",
       "        vertical-align: middle;\n",
       "    }\n",
       "\n",
       "    .dataframe tbody tr th {\n",
       "        vertical-align: top;\n",
       "    }\n",
       "\n",
       "    .dataframe thead th {\n",
       "        text-align: right;\n",
       "    }\n",
       "</style>\n",
       "<table border=\"1\" class=\"dataframe\">\n",
       "  <thead>\n",
       "    <tr style=\"text-align: right;\">\n",
       "      <th></th>\n",
       "      <th>First Score</th>\n",
       "      <th>Second Score</th>\n",
       "      <th>Third Score</th>\n",
       "    </tr>\n",
       "  </thead>\n",
       "  <tbody>\n",
       "    <tr>\n",
       "      <th>0</th>\n",
       "      <td>100.0</td>\n",
       "      <td>30.0</td>\n",
       "      <td>NaN</td>\n",
       "    </tr>\n",
       "    <tr>\n",
       "      <th>1</th>\n",
       "      <td>90.0</td>\n",
       "      <td>45.0</td>\n",
       "      <td>40.0</td>\n",
       "    </tr>\n",
       "    <tr>\n",
       "      <th>2</th>\n",
       "      <td>NaN</td>\n",
       "      <td>56.0</td>\n",
       "      <td>80.0</td>\n",
       "    </tr>\n",
       "    <tr>\n",
       "      <th>3</th>\n",
       "      <td>95.0</td>\n",
       "      <td>NaN</td>\n",
       "      <td>98.0</td>\n",
       "    </tr>\n",
       "  </tbody>\n",
       "</table>\n",
       "</div>"
      ],
      "text/plain": [
       "   First Score  Second Score  Third Score\n",
       "0        100.0          30.0          NaN\n",
       "1         90.0          45.0         40.0\n",
       "2          NaN          56.0         80.0\n",
       "3         95.0           NaN         98.0"
      ]
     },
     "execution_count": 199,
     "metadata": {},
     "output_type": "execute_result"
    }
   ],
   "source": [
    "dict = {'First Score':[100, 90, np.nan, 95],\n",
    "        'Second Score': [30, 45, 56, np.nan],\n",
    "        'Third Score':[np.nan, 40, 80, 98]}\n",
    " \n",
    "# creating a dataframe from list\n",
    "df = pd.DataFrame(dict)\n",
    "df"
   ]
  },
  {
   "cell_type": "code",
   "execution_count": 200,
   "id": "7b89861c",
   "metadata": {},
   "outputs": [
    {
     "data": {
      "text/html": [
       "<div>\n",
       "<style scoped>\n",
       "    .dataframe tbody tr th:only-of-type {\n",
       "        vertical-align: middle;\n",
       "    }\n",
       "\n",
       "    .dataframe tbody tr th {\n",
       "        vertical-align: top;\n",
       "    }\n",
       "\n",
       "    .dataframe thead th {\n",
       "        text-align: right;\n",
       "    }\n",
       "</style>\n",
       "<table border=\"1\" class=\"dataframe\">\n",
       "  <thead>\n",
       "    <tr style=\"text-align: right;\">\n",
       "      <th></th>\n",
       "      <th>First Score</th>\n",
       "      <th>Second Score</th>\n",
       "      <th>Third Score</th>\n",
       "    </tr>\n",
       "  </thead>\n",
       "  <tbody>\n",
       "    <tr>\n",
       "      <th>0</th>\n",
       "      <td>False</td>\n",
       "      <td>False</td>\n",
       "      <td>True</td>\n",
       "    </tr>\n",
       "    <tr>\n",
       "      <th>1</th>\n",
       "      <td>False</td>\n",
       "      <td>False</td>\n",
       "      <td>False</td>\n",
       "    </tr>\n",
       "    <tr>\n",
       "      <th>2</th>\n",
       "      <td>True</td>\n",
       "      <td>False</td>\n",
       "      <td>False</td>\n",
       "    </tr>\n",
       "    <tr>\n",
       "      <th>3</th>\n",
       "      <td>False</td>\n",
       "      <td>True</td>\n",
       "      <td>False</td>\n",
       "    </tr>\n",
       "  </tbody>\n",
       "</table>\n",
       "</div>"
      ],
      "text/plain": [
       "   First Score  Second Score  Third Score\n",
       "0        False         False         True\n",
       "1        False         False        False\n",
       "2         True         False        False\n",
       "3        False          True        False"
      ]
     },
     "execution_count": 200,
     "metadata": {},
     "output_type": "execute_result"
    }
   ],
   "source": [
    "# using isnull() function \n",
    "df.isnull()"
   ]
  },
  {
   "cell_type": "code",
   "execution_count": 201,
   "id": "dd3eb6e0",
   "metadata": {},
   "outputs": [
    {
     "data": {
      "text/html": [
       "<div>\n",
       "<style scoped>\n",
       "    .dataframe tbody tr th:only-of-type {\n",
       "        vertical-align: middle;\n",
       "    }\n",
       "\n",
       "    .dataframe tbody tr th {\n",
       "        vertical-align: top;\n",
       "    }\n",
       "\n",
       "    .dataframe thead th {\n",
       "        text-align: right;\n",
       "    }\n",
       "</style>\n",
       "<table border=\"1\" class=\"dataframe\">\n",
       "  <thead>\n",
       "    <tr style=\"text-align: right;\">\n",
       "      <th></th>\n",
       "      <th>First Score</th>\n",
       "      <th>Second Score</th>\n",
       "      <th>Third Score</th>\n",
       "    </tr>\n",
       "  </thead>\n",
       "  <tbody>\n",
       "    <tr>\n",
       "      <th>0</th>\n",
       "      <td>True</td>\n",
       "      <td>True</td>\n",
       "      <td>False</td>\n",
       "    </tr>\n",
       "    <tr>\n",
       "      <th>1</th>\n",
       "      <td>True</td>\n",
       "      <td>True</td>\n",
       "      <td>True</td>\n",
       "    </tr>\n",
       "    <tr>\n",
       "      <th>2</th>\n",
       "      <td>False</td>\n",
       "      <td>True</td>\n",
       "      <td>True</td>\n",
       "    </tr>\n",
       "    <tr>\n",
       "      <th>3</th>\n",
       "      <td>True</td>\n",
       "      <td>False</td>\n",
       "      <td>True</td>\n",
       "    </tr>\n",
       "  </tbody>\n",
       "</table>\n",
       "</div>"
      ],
      "text/plain": [
       "   First Score  Second Score  Third Score\n",
       "0         True          True        False\n",
       "1         True          True         True\n",
       "2        False          True         True\n",
       "3         True         False         True"
      ]
     },
     "execution_count": 201,
     "metadata": {},
     "output_type": "execute_result"
    }
   ],
   "source": [
    "# using notnull() function \n",
    "df.notnull()"
   ]
  },
  {
   "cell_type": "code",
   "execution_count": 203,
   "id": "b62e2eaf",
   "metadata": {},
   "outputs": [
    {
     "data": {
      "text/html": [
       "<div>\n",
       "<style scoped>\n",
       "    .dataframe tbody tr th:only-of-type {\n",
       "        vertical-align: middle;\n",
       "    }\n",
       "\n",
       "    .dataframe tbody tr th {\n",
       "        vertical-align: top;\n",
       "    }\n",
       "\n",
       "    .dataframe thead th {\n",
       "        text-align: right;\n",
       "    }\n",
       "</style>\n",
       "<table border=\"1\" class=\"dataframe\">\n",
       "  <thead>\n",
       "    <tr style=\"text-align: right;\">\n",
       "      <th></th>\n",
       "      <th>First Score</th>\n",
       "      <th>Second Score</th>\n",
       "      <th>Third Score</th>\n",
       "    </tr>\n",
       "  </thead>\n",
       "  <tbody>\n",
       "    <tr>\n",
       "      <th>0</th>\n",
       "      <td>100.0</td>\n",
       "      <td>30.0</td>\n",
       "      <td>99.0</td>\n",
       "    </tr>\n",
       "    <tr>\n",
       "      <th>1</th>\n",
       "      <td>90.0</td>\n",
       "      <td>45.0</td>\n",
       "      <td>40.0</td>\n",
       "    </tr>\n",
       "    <tr>\n",
       "      <th>2</th>\n",
       "      <td>99.0</td>\n",
       "      <td>56.0</td>\n",
       "      <td>80.0</td>\n",
       "    </tr>\n",
       "    <tr>\n",
       "      <th>3</th>\n",
       "      <td>95.0</td>\n",
       "      <td>99.0</td>\n",
       "      <td>98.0</td>\n",
       "    </tr>\n",
       "  </tbody>\n",
       "</table>\n",
       "</div>"
      ],
      "text/plain": [
       "   First Score  Second Score  Third Score\n",
       "0        100.0          30.0         99.0\n",
       "1         90.0          45.0         40.0\n",
       "2         99.0          56.0         80.0\n",
       "3         95.0          99.0         98.0"
      ]
     },
     "execution_count": 203,
     "metadata": {},
     "output_type": "execute_result"
    }
   ],
   "source": [
    "# filling missing value using fillna() \n",
    "df.fillna(99)"
   ]
  },
  {
   "cell_type": "code",
   "execution_count": 204,
   "id": "9c69a006",
   "metadata": {},
   "outputs": [
    {
     "data": {
      "text/html": [
       "<div>\n",
       "<style scoped>\n",
       "    .dataframe tbody tr th:only-of-type {\n",
       "        vertical-align: middle;\n",
       "    }\n",
       "\n",
       "    .dataframe tbody tr th {\n",
       "        vertical-align: top;\n",
       "    }\n",
       "\n",
       "    .dataframe thead th {\n",
       "        text-align: right;\n",
       "    }\n",
       "</style>\n",
       "<table border=\"1\" class=\"dataframe\">\n",
       "  <thead>\n",
       "    <tr style=\"text-align: right;\">\n",
       "      <th></th>\n",
       "      <th>First Score</th>\n",
       "      <th>Second Score</th>\n",
       "      <th>Third Score</th>\n",
       "    </tr>\n",
       "  </thead>\n",
       "  <tbody>\n",
       "    <tr>\n",
       "      <th>0</th>\n",
       "      <td>100.0</td>\n",
       "      <td>30.0</td>\n",
       "      <td>NaN</td>\n",
       "    </tr>\n",
       "    <tr>\n",
       "      <th>1</th>\n",
       "      <td>90.0</td>\n",
       "      <td>45.0</td>\n",
       "      <td>40.0</td>\n",
       "    </tr>\n",
       "    <tr>\n",
       "      <th>2</th>\n",
       "      <td>90.0</td>\n",
       "      <td>56.0</td>\n",
       "      <td>80.0</td>\n",
       "    </tr>\n",
       "    <tr>\n",
       "      <th>3</th>\n",
       "      <td>95.0</td>\n",
       "      <td>56.0</td>\n",
       "      <td>98.0</td>\n",
       "    </tr>\n",
       "  </tbody>\n",
       "</table>\n",
       "</div>"
      ],
      "text/plain": [
       "   First Score  Second Score  Third Score\n",
       "0        100.0          30.0          NaN\n",
       "1         90.0          45.0         40.0\n",
       "2         90.0          56.0         80.0\n",
       "3         95.0          56.0         98.0"
      ]
     },
     "execution_count": 204,
     "metadata": {},
     "output_type": "execute_result"
    }
   ],
   "source": [
    "# filling a missing value with the previous ones \n",
    "df.fillna(method ='pad')"
   ]
  },
  {
   "cell_type": "code",
   "execution_count": 205,
   "id": "20b8f87e",
   "metadata": {},
   "outputs": [
    {
     "data": {
      "text/html": [
       "<div>\n",
       "<style scoped>\n",
       "    .dataframe tbody tr th:only-of-type {\n",
       "        vertical-align: middle;\n",
       "    }\n",
       "\n",
       "    .dataframe tbody tr th {\n",
       "        vertical-align: top;\n",
       "    }\n",
       "\n",
       "    .dataframe thead th {\n",
       "        text-align: right;\n",
       "    }\n",
       "</style>\n",
       "<table border=\"1\" class=\"dataframe\">\n",
       "  <thead>\n",
       "    <tr style=\"text-align: right;\">\n",
       "      <th></th>\n",
       "      <th>First Score</th>\n",
       "      <th>Second Score</th>\n",
       "      <th>Third Score</th>\n",
       "    </tr>\n",
       "  </thead>\n",
       "  <tbody>\n",
       "    <tr>\n",
       "      <th>0</th>\n",
       "      <td>100.0</td>\n",
       "      <td>30.0</td>\n",
       "      <td>40.0</td>\n",
       "    </tr>\n",
       "    <tr>\n",
       "      <th>1</th>\n",
       "      <td>90.0</td>\n",
       "      <td>45.0</td>\n",
       "      <td>40.0</td>\n",
       "    </tr>\n",
       "    <tr>\n",
       "      <th>2</th>\n",
       "      <td>95.0</td>\n",
       "      <td>56.0</td>\n",
       "      <td>80.0</td>\n",
       "    </tr>\n",
       "    <tr>\n",
       "      <th>3</th>\n",
       "      <td>95.0</td>\n",
       "      <td>NaN</td>\n",
       "      <td>98.0</td>\n",
       "    </tr>\n",
       "  </tbody>\n",
       "</table>\n",
       "</div>"
      ],
      "text/plain": [
       "   First Score  Second Score  Third Score\n",
       "0        100.0          30.0         40.0\n",
       "1         90.0          45.0         40.0\n",
       "2         95.0          56.0         80.0\n",
       "3         95.0           NaN         98.0"
      ]
     },
     "execution_count": 205,
     "metadata": {},
     "output_type": "execute_result"
    }
   ],
   "source": [
    "# filling null value using fillna() function \n",
    "df.fillna(method ='bfill')"
   ]
  },
  {
   "cell_type": "code",
   "execution_count": 206,
   "id": "a4bf7181",
   "metadata": {},
   "outputs": [
    {
     "data": {
      "text/html": [
       "<div>\n",
       "<style scoped>\n",
       "    .dataframe tbody tr th:only-of-type {\n",
       "        vertical-align: middle;\n",
       "    }\n",
       "\n",
       "    .dataframe tbody tr th {\n",
       "        vertical-align: top;\n",
       "    }\n",
       "\n",
       "    .dataframe thead th {\n",
       "        text-align: right;\n",
       "    }\n",
       "</style>\n",
       "<table border=\"1\" class=\"dataframe\">\n",
       "  <thead>\n",
       "    <tr style=\"text-align: right;\">\n",
       "      <th></th>\n",
       "      <th>First Score</th>\n",
       "      <th>Second Score</th>\n",
       "      <th>Third Score</th>\n",
       "    </tr>\n",
       "  </thead>\n",
       "  <tbody>\n",
       "    <tr>\n",
       "      <th>0</th>\n",
       "      <td>100.0</td>\n",
       "      <td>30.0</td>\n",
       "      <td>999.0</td>\n",
       "    </tr>\n",
       "    <tr>\n",
       "      <th>1</th>\n",
       "      <td>90.0</td>\n",
       "      <td>45.0</td>\n",
       "      <td>40.0</td>\n",
       "    </tr>\n",
       "    <tr>\n",
       "      <th>2</th>\n",
       "      <td>999.0</td>\n",
       "      <td>56.0</td>\n",
       "      <td>80.0</td>\n",
       "    </tr>\n",
       "    <tr>\n",
       "      <th>3</th>\n",
       "      <td>95.0</td>\n",
       "      <td>999.0</td>\n",
       "      <td>98.0</td>\n",
       "    </tr>\n",
       "  </tbody>\n",
       "</table>\n",
       "</div>"
      ],
      "text/plain": [
       "   First Score  Second Score  Third Score\n",
       "0        100.0          30.0        999.0\n",
       "1         90.0          45.0         40.0\n",
       "2        999.0          56.0         80.0\n",
       "3         95.0         999.0         98.0"
      ]
     },
     "execution_count": 206,
     "metadata": {},
     "output_type": "execute_result"
    }
   ],
   "source": [
    "# will replace  Nan value in dataframe with value 999 \n",
    "df.replace(to_replace = np.nan, value = 999)"
   ]
  },
  {
   "cell_type": "code",
   "execution_count": 207,
   "id": "63bef362",
   "metadata": {},
   "outputs": [
    {
     "data": {
      "text/html": [
       "<div>\n",
       "<style scoped>\n",
       "    .dataframe tbody tr th:only-of-type {\n",
       "        vertical-align: middle;\n",
       "    }\n",
       "\n",
       "    .dataframe tbody tr th {\n",
       "        vertical-align: top;\n",
       "    }\n",
       "\n",
       "    .dataframe thead th {\n",
       "        text-align: right;\n",
       "    }\n",
       "</style>\n",
       "<table border=\"1\" class=\"dataframe\">\n",
       "  <thead>\n",
       "    <tr style=\"text-align: right;\">\n",
       "      <th></th>\n",
       "      <th>First Score</th>\n",
       "      <th>Second Score</th>\n",
       "      <th>Third Score</th>\n",
       "    </tr>\n",
       "  </thead>\n",
       "  <tbody>\n",
       "    <tr>\n",
       "      <th>1</th>\n",
       "      <td>90.0</td>\n",
       "      <td>45.0</td>\n",
       "      <td>40.0</td>\n",
       "    </tr>\n",
       "  </tbody>\n",
       "</table>\n",
       "</div>"
      ],
      "text/plain": [
       "   First Score  Second Score  Third Score\n",
       "1         90.0          45.0         40.0"
      ]
     },
     "execution_count": 207,
     "metadata": {},
     "output_type": "execute_result"
    }
   ],
   "source": [
    "# using dropna() function \n",
    "df.dropna()"
   ]
  },
  {
   "cell_type": "code",
   "execution_count": 208,
   "id": "8ca092ee",
   "metadata": {},
   "outputs": [
    {
     "data": {
      "text/html": [
       "<div>\n",
       "<style scoped>\n",
       "    .dataframe tbody tr th:only-of-type {\n",
       "        vertical-align: middle;\n",
       "    }\n",
       "\n",
       "    .dataframe tbody tr th {\n",
       "        vertical-align: top;\n",
       "    }\n",
       "\n",
       "    .dataframe thead th {\n",
       "        text-align: right;\n",
       "    }\n",
       "</style>\n",
       "<table border=\"1\" class=\"dataframe\">\n",
       "  <thead>\n",
       "    <tr style=\"text-align: right;\">\n",
       "      <th></th>\n",
       "      <th>First Score</th>\n",
       "      <th>Second Score</th>\n",
       "      <th>Third Score</th>\n",
       "    </tr>\n",
       "  </thead>\n",
       "  <tbody>\n",
       "    <tr>\n",
       "      <th>0</th>\n",
       "      <td>100.0</td>\n",
       "      <td>30.0</td>\n",
       "      <td>NaN</td>\n",
       "    </tr>\n",
       "    <tr>\n",
       "      <th>1</th>\n",
       "      <td>90.0</td>\n",
       "      <td>45.0</td>\n",
       "      <td>40.0</td>\n",
       "    </tr>\n",
       "    <tr>\n",
       "      <th>2</th>\n",
       "      <td>NaN</td>\n",
       "      <td>56.0</td>\n",
       "      <td>80.0</td>\n",
       "    </tr>\n",
       "    <tr>\n",
       "      <th>3</th>\n",
       "      <td>95.0</td>\n",
       "      <td>NaN</td>\n",
       "      <td>98.0</td>\n",
       "    </tr>\n",
       "  </tbody>\n",
       "</table>\n",
       "</div>"
      ],
      "text/plain": [
       "   First Score  Second Score  Third Score\n",
       "0        100.0          30.0          NaN\n",
       "1         90.0          45.0         40.0\n",
       "2          NaN          56.0         80.0\n",
       "3         95.0           NaN         98.0"
      ]
     },
     "execution_count": 208,
     "metadata": {},
     "output_type": "execute_result"
    }
   ],
   "source": [
    "# using dropna() function to delete rows with all nans \n",
    "df.dropna(how = 'all')"
   ]
  },
  {
   "cell_type": "code",
   "execution_count": 209,
   "id": "d8bd6de3",
   "metadata": {},
   "outputs": [
    {
     "data": {
      "text/html": [
       "<div>\n",
       "<style scoped>\n",
       "    .dataframe tbody tr th:only-of-type {\n",
       "        vertical-align: middle;\n",
       "    }\n",
       "\n",
       "    .dataframe tbody tr th {\n",
       "        vertical-align: top;\n",
       "    }\n",
       "\n",
       "    .dataframe thead th {\n",
       "        text-align: right;\n",
       "    }\n",
       "</style>\n",
       "<table border=\"1\" class=\"dataframe\">\n",
       "  <thead>\n",
       "    <tr style=\"text-align: right;\">\n",
       "      <th></th>\n",
       "    </tr>\n",
       "  </thead>\n",
       "  <tbody>\n",
       "    <tr>\n",
       "      <th>0</th>\n",
       "    </tr>\n",
       "    <tr>\n",
       "      <th>1</th>\n",
       "    </tr>\n",
       "    <tr>\n",
       "      <th>2</th>\n",
       "    </tr>\n",
       "    <tr>\n",
       "      <th>3</th>\n",
       "    </tr>\n",
       "  </tbody>\n",
       "</table>\n",
       "</div>"
      ],
      "text/plain": [
       "Empty DataFrame\n",
       "Columns: []\n",
       "Index: [0, 1, 2, 3]"
      ]
     },
     "execution_count": 209,
     "metadata": {},
     "output_type": "execute_result"
    }
   ],
   "source": [
    "# using dropna() function to delete columns with atleast 1 missing value  \n",
    "df.dropna(axis = 1)"
   ]
  },
  {
   "cell_type": "markdown",
   "id": "6826fc31",
   "metadata": {},
   "source": [
    "### Typecasting a series of the dataframe - astype(),to_numeric()"
   ]
  },
  {
   "cell_type": "code",
   "execution_count": 212,
   "id": "912901e1",
   "metadata": {},
   "outputs": [
    {
     "data": {
      "text/plain": [
       "dtype('float64')"
      ]
     },
     "execution_count": 212,
     "metadata": {},
     "output_type": "execute_result"
    }
   ],
   "source": [
    "df['rating'].dtype"
   ]
  },
  {
   "cell_type": "code",
   "execution_count": 221,
   "id": "15e522cc",
   "metadata": {},
   "outputs": [
    {
     "data": {
      "text/plain": [
       "dtype('float16')"
      ]
     },
     "execution_count": 221,
     "metadata": {},
     "output_type": "execute_result"
    }
   ],
   "source": [
    "df['rating'] = df['rating'].astype('float16')\n",
    "df['rating'].dtype"
   ]
  },
  {
   "cell_type": "code",
   "execution_count": null,
   "id": "5159ea7c",
   "metadata": {},
   "outputs": [],
   "source": []
  },
  {
   "cell_type": "code",
   "execution_count": 216,
   "id": "70239f25",
   "metadata": {},
   "outputs": [
    {
     "data": {
      "text/plain": [
       "0    4.101562\n",
       "1    2.300781\n",
       "2    3.400391\n",
       "3    3.699219\n",
       "4    4.398438\n",
       "5    3.300781\n",
       "6    3.599609\n",
       "7    4.000000\n",
       "8    3.500000\n",
       "9    4.300781\n",
       "Name: rating, dtype: float64"
      ]
     },
     "execution_count": 216,
     "metadata": {},
     "output_type": "execute_result"
    }
   ],
   "source": [
    "ser = pd.Series(df['rating'])\n",
    "ser"
   ]
  },
  {
   "cell_type": "code",
   "execution_count": 219,
   "id": "b2547f07",
   "metadata": {},
   "outputs": [],
   "source": [
    "ser = pd.to_numeric(ser, downcast ='float')"
   ]
  },
  {
   "cell_type": "code",
   "execution_count": 220,
   "id": "1201c920",
   "metadata": {},
   "outputs": [
    {
     "data": {
      "text/plain": [
       "0    4.101562\n",
       "1    2.300781\n",
       "2    3.400391\n",
       "3    3.699219\n",
       "4    4.398438\n",
       "5    3.300781\n",
       "6    3.599609\n",
       "7    4.000000\n",
       "8    3.500000\n",
       "9    4.300781\n",
       "Name: rating, dtype: float32"
      ]
     },
     "execution_count": 220,
     "metadata": {},
     "output_type": "execute_result"
    }
   ],
   "source": [
    "pd.to_numeric(ser, downcast ='float')"
   ]
  },
  {
   "cell_type": "markdown",
   "id": "d2e7646b",
   "metadata": {},
   "source": [
    "### Comparing pandas series"
   ]
  },
  {
   "cell_type": "code",
   "execution_count": null,
   "id": "2fe43d36",
   "metadata": {},
   "outputs": [],
   "source": [
    "ps1 = pd.Series([2.5, 4, 6, 8, 10, 1.75, 40])\n",
    "ps2 = pd.Series([1.5, 3, 5, 7, 10, 1.75, 20])\n",
    "  \n",
    "print(\"Series1:\")\n",
    "print(ps1)\n",
    "print(\"\\nSeries2:\")\n",
    "print(ps2)\n",
    "  \n",
    "# Comparing two series using Series.equals()\n",
    "# function\n",
    "print(\"\\nResult of comparing Two Series:\")\n",
    "result = ps1.equals(other=ps2)\n",
    "print(result)"
   ]
  },
  {
   "cell_type": "markdown",
   "id": "c63d4f05",
   "metadata": {},
   "source": [
    "### nlargest and nsmallest"
   ]
  },
  {
   "cell_type": "code",
   "execution_count": 225,
   "id": "0e0805b8",
   "metadata": {},
   "outputs": [
    {
     "data": {
      "text/html": [
       "<div>\n",
       "<style scoped>\n",
       "    .dataframe tbody tr th:only-of-type {\n",
       "        vertical-align: middle;\n",
       "    }\n",
       "\n",
       "    .dataframe tbody tr th {\n",
       "        vertical-align: top;\n",
       "    }\n",
       "\n",
       "    .dataframe thead th {\n",
       "        text-align: right;\n",
       "    }\n",
       "</style>\n",
       "<table border=\"1\" class=\"dataframe\">\n",
       "  <thead>\n",
       "    <tr style=\"text-align: right;\">\n",
       "      <th></th>\n",
       "      <th>index</th>\n",
       "      <th>product</th>\n",
       "      <th>category</th>\n",
       "      <th>sub_category</th>\n",
       "      <th>brand</th>\n",
       "      <th>sale_price</th>\n",
       "      <th>market_price</th>\n",
       "      <th>type</th>\n",
       "      <th>rating</th>\n",
       "      <th>description</th>\n",
       "    </tr>\n",
       "  </thead>\n",
       "  <tbody>\n",
       "    <tr>\n",
       "      <th>8</th>\n",
       "      <td>9</td>\n",
       "      <td>Biotin &amp; Collagen Volumizing Hair Shampoo + Bi...</td>\n",
       "      <td>Beauty &amp; Hygiene</td>\n",
       "      <td>Hair Care</td>\n",
       "      <td>StBotanica</td>\n",
       "      <td>1098</td>\n",
       "      <td>1098</td>\n",
       "      <td>Shampoo &amp; Conditioner</td>\n",
       "      <td>3.5</td>\n",
       "      <td>An exclusive blend with Vitamin B7 Biotin, Hyd...</td>\n",
       "    </tr>\n",
       "    <tr>\n",
       "      <th>7</th>\n",
       "      <td>8</td>\n",
       "      <td>Hand Sanitizer - 70% Alcohol Base</td>\n",
       "      <td>Beauty &amp; Hygiene</td>\n",
       "      <td>Bath &amp; Hand Wash</td>\n",
       "      <td>Bionova</td>\n",
       "      <td>250</td>\n",
       "      <td>250</td>\n",
       "      <td>Hand Wash &amp; Sanitizers</td>\n",
       "      <td>4.0</td>\n",
       "      <td>70%Alcohol based is gentle of hand leaves skin...</td>\n",
       "    </tr>\n",
       "  </tbody>\n",
       "</table>\n",
       "</div>"
      ],
      "text/plain": [
       "   index                                            product          category  \\\n",
       "8      9  Biotin & Collagen Volumizing Hair Shampoo + Bi...  Beauty & Hygiene   \n",
       "7      8                  Hand Sanitizer - 70% Alcohol Base  Beauty & Hygiene   \n",
       "\n",
       "       sub_category       brand  sale_price  market_price  \\\n",
       "8         Hair Care  StBotanica        1098          1098   \n",
       "7  Bath & Hand Wash     Bionova         250           250   \n",
       "\n",
       "                     type  rating  \\\n",
       "8   Shampoo & Conditioner     3.5   \n",
       "7  Hand Wash & Sanitizers     4.0   \n",
       "\n",
       "                                         description  \n",
       "8  An exclusive blend with Vitamin B7 Biotin, Hyd...  \n",
       "7  70%Alcohol based is gentle of hand leaves skin...  "
      ]
     },
     "execution_count": 225,
     "metadata": {},
     "output_type": "execute_result"
    }
   ],
   "source": [
    "df.nlargest(2, columns='sale_price')"
   ]
  },
  {
   "cell_type": "code",
   "execution_count": 227,
   "id": "5dc94b95",
   "metadata": {},
   "outputs": [
    {
     "data": {
      "text/html": [
       "<div>\n",
       "<style scoped>\n",
       "    .dataframe tbody tr th:only-of-type {\n",
       "        vertical-align: middle;\n",
       "    }\n",
       "\n",
       "    .dataframe tbody tr th {\n",
       "        vertical-align: top;\n",
       "    }\n",
       "\n",
       "    .dataframe thead th {\n",
       "        text-align: right;\n",
       "    }\n",
       "</style>\n",
       "<table border=\"1\" class=\"dataframe\">\n",
       "  <thead>\n",
       "    <tr style=\"text-align: right;\">\n",
       "      <th></th>\n",
       "      <th>index</th>\n",
       "      <th>product</th>\n",
       "      <th>category</th>\n",
       "      <th>sub_category</th>\n",
       "      <th>brand</th>\n",
       "      <th>sale_price</th>\n",
       "      <th>market_price</th>\n",
       "      <th>type</th>\n",
       "      <th>rating</th>\n",
       "      <th>description</th>\n",
       "    </tr>\n",
       "  </thead>\n",
       "  <tbody>\n",
       "    <tr>\n",
       "      <th>9</th>\n",
       "      <td>10</td>\n",
       "      <td>Scrub Pad - Anti- Bacterial, Regular</td>\n",
       "      <td>Cleaning &amp; Household</td>\n",
       "      <td>Mops, Brushes &amp; Scrubs</td>\n",
       "      <td>Scotch brite</td>\n",
       "      <td>20</td>\n",
       "      <td>20</td>\n",
       "      <td>Utensil Scrub-Pad, Glove</td>\n",
       "      <td>4.300781</td>\n",
       "      <td>Scotch Brite Anti- Bacterial Scrub Pad thoroug...</td>\n",
       "    </tr>\n",
       "    <tr>\n",
       "      <th>6</th>\n",
       "      <td>7</td>\n",
       "      <td>Multani Mati</td>\n",
       "      <td>Beauty &amp; Hygiene</td>\n",
       "      <td>Skin Care</td>\n",
       "      <td>Satinance</td>\n",
       "      <td>58</td>\n",
       "      <td>58</td>\n",
       "      <td>Face Care</td>\n",
       "      <td>3.599609</td>\n",
       "      <td>Satinance multani matti is an excellent skin t...</td>\n",
       "    </tr>\n",
       "    <tr>\n",
       "      <th>2</th>\n",
       "      <td>3</td>\n",
       "      <td>Brass Angle Deep - Plain, No.2</td>\n",
       "      <td>Cleaning &amp; Household</td>\n",
       "      <td>Pooja Needs</td>\n",
       "      <td>Trm</td>\n",
       "      <td>119</td>\n",
       "      <td>250</td>\n",
       "      <td>Lamp &amp; Lamp Oil</td>\n",
       "      <td>3.400391</td>\n",
       "      <td>A perfect gift for all occasions, be it your m...</td>\n",
       "    </tr>\n",
       "    <tr>\n",
       "      <th>3</th>\n",
       "      <td>4</td>\n",
       "      <td>Cereal Flip Lid Container/Storage Jar - Assort...</td>\n",
       "      <td>Cleaning &amp; Household</td>\n",
       "      <td>Bins &amp; Bathroom Ware</td>\n",
       "      <td>Nakoda</td>\n",
       "      <td>149</td>\n",
       "      <td>176</td>\n",
       "      <td>Laundry, Storage Baskets</td>\n",
       "      <td>3.699219</td>\n",
       "      <td>Multipurpose container with an attractive desi...</td>\n",
       "    </tr>\n",
       "    <tr>\n",
       "      <th>4</th>\n",
       "      <td>5</td>\n",
       "      <td>Creme Soft Soap - For Hands &amp; Body</td>\n",
       "      <td>Beauty &amp; Hygiene</td>\n",
       "      <td>Bath &amp; Hand Wash</td>\n",
       "      <td>Nivea</td>\n",
       "      <td>162</td>\n",
       "      <td>162</td>\n",
       "      <td>Bathing Bars &amp; Soaps</td>\n",
       "      <td>4.398438</td>\n",
       "      <td>Nivea Creme Soft Soap gives your skin the best...</td>\n",
       "    </tr>\n",
       "    <tr>\n",
       "      <th>5</th>\n",
       "      <td>6</td>\n",
       "      <td>Germ - Removal Multipurpose Wipes</td>\n",
       "      <td>Cleaning &amp; Household</td>\n",
       "      <td>All Purpose Cleaners</td>\n",
       "      <td>Nature Protect</td>\n",
       "      <td>169</td>\n",
       "      <td>199</td>\n",
       "      <td>Disinfectant Spray &amp; Cleaners</td>\n",
       "      <td>3.300781</td>\n",
       "      <td>Stay protected from contamination with Multipu...</td>\n",
       "    </tr>\n",
       "    <tr>\n",
       "      <th>1</th>\n",
       "      <td>2</td>\n",
       "      <td>Water Bottle - Orange</td>\n",
       "      <td>Kitchen, Garden &amp; Pets</td>\n",
       "      <td>Storage &amp; Accessories</td>\n",
       "      <td>Mastercook</td>\n",
       "      <td>180</td>\n",
       "      <td>180</td>\n",
       "      <td>Water &amp; Fridge Bottles</td>\n",
       "      <td>2.300781</td>\n",
       "      <td>Each product is microwave safe (without lid), ...</td>\n",
       "    </tr>\n",
       "  </tbody>\n",
       "</table>\n",
       "</div>"
      ],
      "text/plain": [
       "   index                                            product  \\\n",
       "9     10               Scrub Pad - Anti- Bacterial, Regular   \n",
       "6      7                                       Multani Mati   \n",
       "2      3                     Brass Angle Deep - Plain, No.2   \n",
       "3      4  Cereal Flip Lid Container/Storage Jar - Assort...   \n",
       "4      5                 Creme Soft Soap - For Hands & Body   \n",
       "5      6                  Germ - Removal Multipurpose Wipes   \n",
       "1      2                              Water Bottle - Orange   \n",
       "\n",
       "                 category            sub_category           brand  sale_price  \\\n",
       "9    Cleaning & Household  Mops, Brushes & Scrubs    Scotch brite          20   \n",
       "6        Beauty & Hygiene               Skin Care       Satinance          58   \n",
       "2    Cleaning & Household             Pooja Needs             Trm         119   \n",
       "3    Cleaning & Household    Bins & Bathroom Ware          Nakoda         149   \n",
       "4        Beauty & Hygiene        Bath & Hand Wash           Nivea         162   \n",
       "5    Cleaning & Household    All Purpose Cleaners  Nature Protect         169   \n",
       "1  Kitchen, Garden & Pets   Storage & Accessories      Mastercook         180   \n",
       "\n",
       "   market_price                           type    rating  \\\n",
       "9            20       Utensil Scrub-Pad, Glove  4.300781   \n",
       "6            58                      Face Care  3.599609   \n",
       "2           250                Lamp & Lamp Oil  3.400391   \n",
       "3           176       Laundry, Storage Baskets  3.699219   \n",
       "4           162           Bathing Bars & Soaps  4.398438   \n",
       "5           199  Disinfectant Spray & Cleaners  3.300781   \n",
       "1           180         Water & Fridge Bottles  2.300781   \n",
       "\n",
       "                                         description  \n",
       "9  Scotch Brite Anti- Bacterial Scrub Pad thoroug...  \n",
       "6  Satinance multani matti is an excellent skin t...  \n",
       "2  A perfect gift for all occasions, be it your m...  \n",
       "3  Multipurpose container with an attractive desi...  \n",
       "4  Nivea Creme Soft Soap gives your skin the best...  \n",
       "5  Stay protected from contamination with Multipu...  \n",
       "1  Each product is microwave safe (without lid), ...  "
      ]
     },
     "execution_count": 227,
     "metadata": {},
     "output_type": "execute_result"
    }
   ],
   "source": [
    "df.nsmallest(7, columns='sale_price')"
   ]
  },
  {
   "cell_type": "code",
   "execution_count": null,
   "id": "1a7e2236",
   "metadata": {},
   "outputs": [],
   "source": []
  },
  {
   "cell_type": "code",
   "execution_count": null,
   "id": "ddf231b9",
   "metadata": {},
   "outputs": [],
   "source": []
  },
  {
   "cell_type": "code",
   "execution_count": null,
   "id": "d6aa3951",
   "metadata": {},
   "outputs": [],
   "source": []
  },
  {
   "cell_type": "code",
   "execution_count": null,
   "id": "e25ec74d",
   "metadata": {},
   "outputs": [],
   "source": []
  },
  {
   "cell_type": "markdown",
   "id": "fce2bc36",
   "metadata": {},
   "source": [
    "### References: \n",
    "https://www.mygreatlearning.com/blog/python-numpy-tutorial/\n",
    "\n",
    "https://python-course.eu/numerical-programming/matrix-arithmetics-under-numpy-and-python.php\n",
    "\n",
    "https://data-flair.training/blogs/numpy-search-sort-and-count/"
   ]
  },
  {
   "cell_type": "code",
   "execution_count": null,
   "id": "040d87c7",
   "metadata": {},
   "outputs": [],
   "source": []
  }
 ],
 "metadata": {
  "kernelspec": {
   "display_name": "Python 3 (ipykernel)",
   "language": "python",
   "name": "python3"
  },
  "language_info": {
   "codemirror_mode": {
    "name": "ipython",
    "version": 3
   },
   "file_extension": ".py",
   "mimetype": "text/x-python",
   "name": "python",
   "nbconvert_exporter": "python",
   "pygments_lexer": "ipython3",
   "version": "3.9.7"
  }
 },
 "nbformat": 4,
 "nbformat_minor": 5
}
