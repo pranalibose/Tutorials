{
 "cells": [
  {
   "cell_type": "markdown",
   "id": "a9ce813d",
   "metadata": {},
   "source": [
    "# 🌱 <u>Python Functions</u>\n",
    "   1. Basics of Functions\n",
    "        1. Calling Functions\n",
    "        2. Return & Pass statements\n",
    "        3. Types of Arguments\n",
    "        4. Docstring\n",
    "   2. Python Comprehensions\n",
    "         1. List\n",
    "         2. Dictionary\n",
    "   3. Lambda Function\n",
    "   4. Functional Programming\n",
    "         1. Map\n",
    "         2. Filter\n",
    "         3. Reduce\n",
    "   5. Common I/O Errors"
   ]
  },
  {
   "cell_type": "markdown",
   "id": "22ace3a2",
   "metadata": {},
   "source": [
    "### Advantages of Functions in Python\n",
    "**Helps in increasing modularity of code** – Python functions help divide the code into smaller problems and solve them individually, thus making it easier to code.\n",
    "\n",
    "**Minimizes Redundancy** – Python functions help you save the effort of rewriting the whole code. All you got to do is call the Function once it is defined.\n",
    "\n",
    "**Maximes Code Reusability** – Once defined, the python Function can be called as many times as needed, thus enhancing code reusability.\n",
    "\n",
    "**Improves Clarity of Code** – As the large program is divided into sections with the help of functions, it helps in increasing the readability of code, at the same time ensuring easy debugging."
   ]
  },
  {
   "cell_type": "markdown",
   "id": "4a122e87",
   "metadata": {},
   "source": [
    "## 👉 Basics of Functions"
   ]
  },
  {
   "cell_type": "code",
   "execution_count": 20,
   "id": "4dd9b724",
   "metadata": {},
   "outputs": [],
   "source": [
    "# pass statement\n",
    "def first_function():\n",
    "    pass"
   ]
  },
  {
   "cell_type": "code",
   "execution_count": 21,
   "id": "c7edc078",
   "metadata": {},
   "outputs": [
    {
     "name": "stdout",
     "output_type": "stream",
     "text": [
      "Hello World\n",
      "None\n"
     ]
    }
   ],
   "source": [
    "# calling functions\n",
    "def hello_world():\n",
    "    print('Hello World')\n",
    "    \n",
    "print(hello_world())"
   ]
  },
  {
   "cell_type": "code",
   "execution_count": 22,
   "id": "a21ec2e6",
   "metadata": {},
   "outputs": [
    {
     "name": "stdout",
     "output_type": "stream",
     "text": [
      "Hello World\n",
      "<class 'str'>\n"
     ]
    }
   ],
   "source": [
    "# return values from a function\n",
    "def hello_world():\n",
    "    return 'Hello World'\n",
    "\n",
    "var = hello_world()\n",
    "print(var)\n",
    "print(type(var))"
   ]
  },
  {
   "cell_type": "markdown",
   "id": "da345ad8",
   "metadata": {},
   "source": [
    "### Types of Arguments:\n",
    "1. Required arguments\n",
    "2. Variable-length arguments\n",
    "3. Keyword arguments\n",
    "4. Default arguments"
   ]
  },
  {
   "cell_type": "markdown",
   "id": "945661df",
   "metadata": {},
   "source": [
    "***Required arguments***"
   ]
  },
  {
   "cell_type": "code",
   "execution_count": 23,
   "id": "0eb32801",
   "metadata": {},
   "outputs": [
    {
     "name": "stdout",
     "output_type": "stream",
     "text": [
      "Hello\n"
     ]
    }
   ],
   "source": [
    "# Required arguments\n",
    "def hello(name, age, contact):\n",
    "    return 'Hello'\n",
    "\n",
    "greet = hello('John', 15, 8907)\n",
    "print(greet)"
   ]
  },
  {
   "cell_type": "code",
   "execution_count": 24,
   "id": "82e7744e",
   "metadata": {},
   "outputs": [
    {
     "name": "stdout",
     "output_type": "stream",
     "text": [
      "Good Morning, John!\n"
     ]
    }
   ],
   "source": [
    "# Multiple required arguments\n",
    "def greet(time_of_day, name):\n",
    "    return f'Good {time_of_day}, {name}!'\n",
    "\n",
    "greeting = greet('Morning', 'John')\n",
    "print(greeting)"
   ]
  },
  {
   "cell_type": "markdown",
   "id": "71923e0d",
   "metadata": {},
   "source": [
    "***Variable-length arguments***"
   ]
  },
  {
   "cell_type": "code",
   "execution_count": 25,
   "id": "6646b464",
   "metadata": {},
   "outputs": [
    {
     "name": "stdout",
     "output_type": "stream",
     "text": [
      "Hello\n",
      "Anna\n"
     ]
    },
    {
     "data": {
      "text/plain": [
       "'Anna'"
      ]
     },
     "execution_count": 25,
     "metadata": {},
     "output_type": "execute_result"
    }
   ],
   "source": [
    "def hello(*names):\n",
    "    print(\"Hello\")\n",
    "    list1 = []\n",
    "    for name in names:\n",
    "        print(name)\n",
    "        return name\n",
    "    print('still inside the function')\n",
    "    \n",
    "hello(\"Anna\", \"Sara\", 'John')"
   ]
  },
  {
   "cell_type": "markdown",
   "id": "c12bb227",
   "metadata": {},
   "source": [
    "***Keyword arguments***"
   ]
  },
  {
   "cell_type": "code",
   "execution_count": 26,
   "id": "c536917a",
   "metadata": {},
   "outputs": [
    {
     "name": "stdout",
     "output_type": "stream",
     "text": [
      "Hello Anne Sullivan\n",
      "Hello Sundar Pichai\n",
      "Hello Narendra Modi\n"
     ]
    }
   ],
   "source": [
    "# Keyword arguments\n",
    "def hello(**name):\n",
    "    print(\"Hello\", name['fname'], name['lname'])\n",
    "\n",
    "hello(fname=\"Anne\", lname=\"Sullivan\")\n",
    "hello(lname=\"Pichai\", fname=\"Sundar\")\n",
    "hello(fname=\"Narendra\", mname=\"Damodar\", lname=\"Modi\")\n",
    "#hello(fname=\"Bill\")"
   ]
  },
  {
   "cell_type": "markdown",
   "id": "4d109904",
   "metadata": {},
   "source": [
    "***Default arguments***"
   ]
  },
  {
   "cell_type": "code",
   "execution_count": 27,
   "id": "84203dbd",
   "metadata": {},
   "outputs": [
    {
     "name": "stdout",
     "output_type": "stream",
     "text": [
      "Hello John\n",
      "Hello Mary\n"
     ]
    }
   ],
   "source": [
    "def hello (name=\"John\"):\n",
    "    print(\"Hello\", name)\n",
    "hello()\n",
    "hello(\"Mary\")"
   ]
  },
  {
   "cell_type": "markdown",
   "id": "f8f8dfe1",
   "metadata": {},
   "source": [
    "### ❓Mini Challenge"
   ]
  },
  {
   "cell_type": "markdown",
   "id": "95150aba",
   "metadata": {},
   "source": [
    "Take a integers of variable length and return their sum.\n",
    "\n",
    "input: 12, 24, 3, 5\n",
    "\n",
    "input: 3, 4"
   ]
  },
  {
   "cell_type": "code",
   "execution_count": 28,
   "id": "73433595",
   "metadata": {},
   "outputs": [
    {
     "name": "stdout",
     "output_type": "stream",
     "text": [
      "<class 'tuple'>\n",
      "sum of numbers = 7\n"
     ]
    }
   ],
   "source": [
    "def func(*num):\n",
    "    sum = 0\n",
    "    print(type(num))\n",
    "    for i in num:\n",
    "        sum = sum + i\n",
    "    return sum\n",
    "sum = func(1,6)\n",
    "print(\"sum of numbers =\",sum)"
   ]
  },
  {
   "cell_type": "markdown",
   "id": "fa832256",
   "metadata": {},
   "source": [
    "***Docstring***"
   ]
  },
  {
   "cell_type": "code",
   "execution_count": 29,
   "id": "c2ed23d8",
   "metadata": {},
   "outputs": [],
   "source": [
    "def add(num1, num2):\n",
    "    '''\n",
    "    This function adds two values\n",
    "    Input: takes 2 integer values\n",
    "    Returns resultant integer\n",
    "    '''\n",
    "    return num1+num2"
   ]
  },
  {
   "cell_type": "code",
   "execution_count": 30,
   "id": "ae72d1f1",
   "metadata": {},
   "outputs": [],
   "source": [
    "sum?"
   ]
  },
  {
   "cell_type": "code",
   "execution_count": 31,
   "id": "22fb5611",
   "metadata": {},
   "outputs": [
    {
     "data": {
      "text/plain": [
       "8"
      ]
     },
     "execution_count": 31,
     "metadata": {},
     "output_type": "execute_result"
    }
   ],
   "source": [
    "add(3,5)"
   ]
  },
  {
   "cell_type": "markdown",
   "id": "270b1bd8",
   "metadata": {},
   "source": [
    "### ❓ Mini Challenge \n",
    "Define a function that returns factorial of a number.\n",
    "1. Include docstring\n",
    "2. Take input from user\n",
    "\n",
    "6! = 6x5x4x3x2x1 = 720"
   ]
  },
  {
   "cell_type": "code",
   "execution_count": 32,
   "id": "6962512e",
   "metadata": {},
   "outputs": [
    {
     "name": "stdout",
     "output_type": "stream",
     "text": [
      "7\n"
     ]
    },
    {
     "data": {
      "text/plain": [
       "5040"
      ]
     },
     "execution_count": 32,
     "metadata": {},
     "output_type": "execute_result"
    }
   ],
   "source": [
    "n=int(input())\n",
    "def factorial(n):\n",
    "    \"\"\"\n",
    "    Product from 1 upto the number is its factorial.\n",
    "    \"\"\"\n",
    "    fact=1\n",
    "    for i in range(1,n+1):\n",
    "        fact=fact*i\n",
    "    return fact\n",
    "factorial(n)    # shift+tab"
   ]
  },
  {
   "cell_type": "markdown",
   "id": "dda05fb5",
   "metadata": {},
   "source": [
    "## 👉 Comprehensions"
   ]
  },
  {
   "cell_type": "markdown",
   "id": "79b61232",
   "metadata": {},
   "source": [
    "### 📍 List comprehensions\n",
    "\n",
    "**Problem Statement**\n",
    "Given a list of integers, generate a list of numbers which are double the numbers in the original list."
   ]
  },
  {
   "cell_type": "code",
   "execution_count": 33,
   "id": "2ad212e0",
   "metadata": {},
   "outputs": [
    {
     "data": {
      "text/plain": [
       "[20, 40, 60, 80, 100, 120, 140, 160]"
      ]
     },
     "execution_count": 33,
     "metadata": {},
     "output_type": "execute_result"
    }
   ],
   "source": [
    "original_list = [10, 20, 30, 40, 50, 60, 70, 80]\n",
    "resultant_list = []\n",
    "for i in original_list:\n",
    "    resultant_list.append(i*2)\n",
    "    \n",
    "resultant_list"
   ]
  },
  {
   "cell_type": "code",
   "execution_count": 34,
   "id": "f228feaa",
   "metadata": {},
   "outputs": [
    {
     "data": {
      "text/plain": [
       "[20, 40, 60, 80, 100, 120, 140, 160]"
      ]
     },
     "execution_count": 34,
     "metadata": {},
     "output_type": "execute_result"
    }
   ],
   "source": [
    "# list comprehension\n",
    "result = [i*2 for i in original_list]\n",
    "result"
   ]
  },
  {
   "cell_type": "code",
   "execution_count": 35,
   "id": "668b195f",
   "metadata": {},
   "outputs": [
    {
     "data": {
      "text/plain": [
       "[20, 40]"
      ]
     },
     "execution_count": 35,
     "metadata": {},
     "output_type": "execute_result"
    }
   ],
   "source": [
    "# conditions within list comprehension\n",
    "filtered = [i for i in result if i<50]\n",
    "filtered"
   ]
  },
  {
   "cell_type": "code",
   "execution_count": 36,
   "id": "8cb556d1",
   "metadata": {},
   "outputs": [
    {
     "data": {
      "text/plain": [
       "[40, 80, 120, 160, 300, 360, 420, 480]"
      ]
     },
     "execution_count": 36,
     "metadata": {},
     "output_type": "execute_result"
    }
   ],
   "source": [
    "# if else within list comprehension\n",
    "modified = [i*3 if i>=100 else i*2 for i in result]\n",
    "modified"
   ]
  },
  {
   "cell_type": "code",
   "execution_count": 37,
   "id": "1c9e7104",
   "metadata": {},
   "outputs": [
    {
     "name": "stdout",
     "output_type": "stream",
     "text": [
      "[0, 0, 0, 1, 1, 1, 2, 2, 2, 3, 3, 3]\n"
     ]
    }
   ],
   "source": [
    "# nested list comprehensions\n",
    "matrix = [m for m in range(4) for n in range(3)]\n",
    "print(matrix)"
   ]
  },
  {
   "cell_type": "code",
   "execution_count": 38,
   "id": "98563397",
   "metadata": {},
   "outputs": [
    {
     "name": "stdout",
     "output_type": "stream",
     "text": [
      "['March', 'April', 'May', 'June', 'July']\n",
      "['March', 'April', 'May', 'June', 'July']\n"
     ]
    }
   ],
   "source": [
    "# filtering from nested list\n",
    "years = [['January', 'February', 'March'], ['April', 'May', 'June'], ['July', 'August', 'September'],['October','November','December']]\n",
    "#print(years)\n",
    "list1 = [i for sublist in years for i in sublist if len(i) <= 5]\n",
    "print(list1)\n",
    "filtered_years = [i for sublist in years for i in sublist if len(i) <= 5]\n",
    "print(filtered_years)"
   ]
  },
  {
   "cell_type": "markdown",
   "id": "54d92288",
   "metadata": {},
   "source": [
    "### ❓ Mini Challenge\n",
    "Given a list of weekdays in lowercase, convert them into uppercase using list comprehension.\n",
    "\n",
    "weekdays = ['monday', 'tuesday', 'wednesday', 'thursday', 'friday', 'saturday', 'sunday']"
   ]
  },
  {
   "cell_type": "code",
   "execution_count": 39,
   "id": "bad3c23c",
   "metadata": {},
   "outputs": [
    {
     "data": {
      "text/plain": [
       "['MONDAY', 'TUESDAY', 'WEDNESDAY', 'THURSDAY', 'FRIDAY', 'SATURDAY', 'SUNDAY']"
      ]
     },
     "execution_count": 39,
     "metadata": {},
     "output_type": "execute_result"
    }
   ],
   "source": [
    "weekdays = ['monday', 'tuesday', 'wednesday', 'thursday', 'friday', 'saturday', 'sunday']\n",
    "weekdays_in_upper = [i.upper() for i in weekdays]\n",
    "weekdays_in_upper"
   ]
  },
  {
   "cell_type": "markdown",
   "id": "a2b51395",
   "metadata": {},
   "source": [
    "### ❓ Mini Challenge\n",
    "Flatten the below list using list comprehension\n",
    "\n",
    "years = [['January', 'February', 'March'], ['April', 'May', 'June'], ['July', 'August', 'September'], ['October','November','December']]\n"
   ]
  },
  {
   "cell_type": "code",
   "execution_count": 40,
   "id": "e0f0f421",
   "metadata": {},
   "outputs": [
    {
     "name": "stdout",
     "output_type": "stream",
     "text": [
      "['January', 'February', 'March', 'April', 'May', 'June', 'July', 'August', 'September', 'October', 'November', 'December']\n"
     ]
    }
   ],
   "source": [
    "n_list = [i for j in years for i in j ]\n",
    "print(n_list)"
   ]
  },
  {
   "cell_type": "markdown",
   "id": "2169ac24",
   "metadata": {},
   "source": [
    "### 📍 Dictionary comprehensions\n",
    "\n",
    "dictionary = {key: value for vars in iterable}"
   ]
  },
  {
   "cell_type": "code",
   "execution_count": 41,
   "id": "651bfb1c",
   "metadata": {},
   "outputs": [
    {
     "name": "stdout",
     "output_type": "stream",
     "text": [
      "{1: 1, 2: 4, 3: 9, 4: 16, 5: 25, 6: 36, 7: 49, 8: 64, 9: 81, 10: 100}\n"
     ]
    }
   ],
   "source": [
    "square_dict = dict()\n",
    "for num in range(1, 11):\n",
    "    square_dict[num] = num*num\n",
    "print(square_dict)"
   ]
  },
  {
   "cell_type": "code",
   "execution_count": 42,
   "id": "1eb2b94f",
   "metadata": {},
   "outputs": [
    {
     "name": "stdout",
     "output_type": "stream",
     "text": [
      "{1: 1, 2: 4, 3: 9, 4: 16, 5: 25, 6: 36, 7: 49, 8: 64, 9: 81, 10: 100}\n"
     ]
    }
   ],
   "source": [
    "# dictionary comprehension example\n",
    "square_dict = {num: num*num for num in range(1, 11)}\n",
    "print(square_dict)"
   ]
  },
  {
   "cell_type": "code",
   "execution_count": 43,
   "id": "bb6313d3",
   "metadata": {},
   "outputs": [
    {
     "name": "stdout",
     "output_type": "stream",
     "text": [
      "{'milk': 0.7752, 'coffee': 1.9, 'bread': 1.9}\n"
     ]
    }
   ],
   "source": [
    "#item price in dollars\n",
    "old_price = {'milk': 1.02, 'coffee': 2.5, 'bread': 2.5}\n",
    "\n",
    "dollar_to_pound = 0.76\n",
    "new_price = {item: value*dollar_to_pound for (item, value) in old_price.items()}\n",
    "print(new_price)"
   ]
  },
  {
   "cell_type": "code",
   "execution_count": 44,
   "id": "09c9597a",
   "metadata": {},
   "outputs": [
    {
     "name": "stdout",
     "output_type": "stream",
     "text": [
      "{'jack': 38, 'michael': 48}\n"
     ]
    }
   ],
   "source": [
    "# with conditionals\n",
    "original_dict = {'jack': 38, 'michael': 48, 'guido': 57, 'john': 33}\n",
    "\n",
    "even_dict = {k: v for (k, v) in original_dict.items() if v % 2 == 0}\n",
    "print(even_dict)"
   ]
  },
  {
   "cell_type": "code",
   "execution_count": 45,
   "id": "0f69fb63",
   "metadata": {},
   "outputs": [
    {
     "name": "stdout",
     "output_type": "stream",
     "text": [
      "{'jack': 'even', 'michael': 'even', 'guido': 'odd', 'john': 'odd'}\n"
     ]
    }
   ],
   "source": [
    "# if-else with dictionary comprehensions\n",
    "even_odd_dict = {k:('even' if v%2==0 else 'odd') for (k, v) in original_dict.items()}\n",
    "print(even_odd_dict)"
   ]
  },
  {
   "cell_type": "markdown",
   "id": "851a7f56",
   "metadata": {},
   "source": [
    "### ❓ Mini Challenge\n",
    "Generate the below from the dictionary: original_dict = {'jack': 38, 'michael': 48, 'guido': 57, 'john': 33}\n",
    "\n",
    "1. A dictionary of items where the key starts with 'j'\n",
    "2. A dictionary with items with the keys in uppercase"
   ]
  },
  {
   "cell_type": "code",
   "execution_count": 46,
   "id": "0b8a942a",
   "metadata": {},
   "outputs": [
    {
     "data": {
      "text/plain": [
       "{'jack': 38, 'john': 33}"
      ]
     },
     "execution_count": 46,
     "metadata": {},
     "output_type": "execute_result"
    }
   ],
   "source": [
    "with_j= {k:v for (k,v) in original_dict.items() if k.startswith(\"j\")}\n",
    "with_j"
   ]
  },
  {
   "cell_type": "code",
   "execution_count": 47,
   "id": "ce8fa849",
   "metadata": {},
   "outputs": [],
   "source": [
    "def add(a,b):\n",
    "    return a+b"
   ]
  },
  {
   "cell_type": "markdown",
   "id": "dc82aee9",
   "metadata": {},
   "source": [
    "## 👉 Lambda function\n",
    "\n",
    "Syntax: lambda argument(s): expression\n",
    "\n",
    "Example: Add 10 to a number and return the result"
   ]
  },
  {
   "cell_type": "code",
   "execution_count": 48,
   "id": "24bbe918",
   "metadata": {},
   "outputs": [
    {
     "data": {
      "text/plain": [
       "15"
      ]
     },
     "execution_count": 48,
     "metadata": {},
     "output_type": "execute_result"
    }
   ],
   "source": [
    "def add_ten(num):\n",
    "    return num+10\n",
    "\n",
    "add_ten(5)"
   ]
  },
  {
   "cell_type": "code",
   "execution_count": 51,
   "id": "aed6c1f2",
   "metadata": {},
   "outputs": [],
   "source": [
    "# lambda arguments : return statement"
   ]
  },
  {
   "cell_type": "code",
   "execution_count": 52,
   "id": "a6390683",
   "metadata": {},
   "outputs": [
    {
     "name": "stdout",
     "output_type": "stream",
     "text": [
      "15\n"
     ]
    }
   ],
   "source": [
    "# Lambda function\n",
    "x = lambda a : a + 10\n",
    "print(x(5))"
   ]
  },
  {
   "cell_type": "markdown",
   "id": "9d5be55b",
   "metadata": {},
   "source": [
    "### ❓ Mini Challenge\n",
    "Write a lambda function that takes 2 variables and returns the double of their sum.\n",
    "\n",
    "Example:\n",
    "\n",
    "Input: 2, 3\n",
    "\n",
    "Output: 10"
   ]
  },
  {
   "cell_type": "code",
   "execution_count": 54,
   "id": "90447836",
   "metadata": {},
   "outputs": [
    {
     "data": {
      "text/plain": [
       "10"
      ]
     },
     "execution_count": 54,
     "metadata": {},
     "output_type": "execute_result"
    }
   ],
   "source": [
    "result = lambda a, b: 2*(a+b)\n",
    "result(2,3)"
   ]
  },
  {
   "cell_type": "markdown",
   "id": "2ae8d71c",
   "metadata": {},
   "source": [
    "### ❓ Mini Challenge\n",
    "Define a function that accepts radius and returns the area of a circle."
   ]
  },
  {
   "cell_type": "code",
   "execution_count": 55,
   "id": "ec43e049",
   "metadata": {},
   "outputs": [
    {
     "name": "stdout",
     "output_type": "stream",
     "text": [
      "78.5\n"
     ]
    }
   ],
   "source": [
    "x=lambda r:3.14*r*r\n",
    "print(x(5))"
   ]
  },
  {
   "cell_type": "markdown",
   "id": "45c5eab3",
   "metadata": {},
   "source": [
    "## 👉 Functional Programming\n",
    "\n",
    "A programming paradigm that uses functions to define computation is known as functional programming.\n",
    "\n",
    "To know more about the elements of functional programming refer\n",
    "[this](https://towardsdatascience.com/elements-of-functional-programming-in-python-1b295ea5bbe0)\n",
    "\n",
    "***Higher-Order Functions***\n",
    "\n",
    "In functional programming, higher-order functions are our primary tool for defining computation. These are functions that take a function as a parameter and return a function as the result. reduce(), map(), and filter() are three of Python’s most useful higher-order functions. They can be used to do complex operations when paired with simpler functions.\n",
    "\n",
    "1. Map\n",
    "2. Filter\n",
    "3. Reduce\n",
    "\n",
    "### 📍 map()\n",
    "\n",
    "SYNTAX: map(function, iterables)"
   ]
  },
  {
   "cell_type": "code",
   "execution_count": 56,
   "id": "5f2c258e",
   "metadata": {},
   "outputs": [
    {
     "name": "stdout",
     "output_type": "stream",
     "text": [
      "<map object at 0x7fd7b2919a30>\n",
      "[1, 4, 9, 16]\n"
     ]
    }
   ],
   "source": [
    "# generate list of squares of original elements\n",
    "def function(a):\n",
    "    return a*a\n",
    "\n",
    "x = map(function, (1,2,3,4))  #x is the map object\n",
    "\n",
    "print(x)\n",
    "print(list(x))"
   ]
  },
  {
   "cell_type": "code",
   "execution_count": 57,
   "id": "9ea45430",
   "metadata": {},
   "outputs": [
    {
     "name": "stdout",
     "output_type": "stream",
     "text": [
      "(8, 10, 25, 100, 57, 65, 80, 26, 76, 64)\n"
     ]
    }
   ],
   "source": [
    "# lambda with map\n",
    "tup= (5, 7, 22, 97, 54, 62, 77, 23, 73, 61)\n",
    "newtuple = tuple(map(lambda x: x+3 , tup)) \n",
    "print(newtuple)"
   ]
  },
  {
   "cell_type": "markdown",
   "id": "38aeee65",
   "metadata": {},
   "source": [
    "### ❓ Mini Challenge\n",
    "Write a map function that adds \"Hello, \" in front of each item in the list.\n",
    "\n",
    "name = [\"Jane\", \"Lee\", \"Will\", \"Brie\"]\n",
    "\n",
    "output:\n",
    "\n",
    "['Hello, Jane', 'Hello, Lee', 'Hello, Will', 'Hello, Brie']"
   ]
  },
  {
   "cell_type": "code",
   "execution_count": 58,
   "id": "c244d817",
   "metadata": {},
   "outputs": [
    {
     "name": "stdout",
     "output_type": "stream",
     "text": [
      "['Hello, Jane', 'Hello, Lee', 'Hello, Will', 'Hello, Brie']\n"
     ]
    }
   ],
   "source": [
    "name = [\"Jane\", \"Lee\", \"Will\", \"Brie\"]\n",
    "list(map(lambda s : 'Hello, ' + s, name))\n",
    "\n",
    "result = map(lambda s : 'Hello, ' + s, name)\n",
    "print(list(result))"
   ]
  },
  {
   "cell_type": "markdown",
   "id": "bc1bef24",
   "metadata": {},
   "source": [
    "### ❓ Mini Challenge\n",
    "Using map() and len() functions create a list that consists the lengths of each element in the first list.\n",
    "\n",
    "words=[\"Alpine\", \"Avalanche\", \"Powder\", \"Snowflake\", \"Summit\"]\n",
    "\n",
    "output: [6, 9, 6, 9, 6]"
   ]
  },
  {
   "cell_type": "code",
   "execution_count": 59,
   "id": "3d3fd98b",
   "metadata": {},
   "outputs": [
    {
     "data": {
      "text/plain": [
       "[6, 9, 6, 9, 6]"
      ]
     },
     "execution_count": 59,
     "metadata": {},
     "output_type": "execute_result"
    }
   ],
   "source": [
    "words=[\"Alpine\", \"Avalanche\", \"Powder\", \"Snowflake\", \"Summit\"]\n",
    "lengths = list(map(lambda x: len(x), words))\n",
    "lengths"
   ]
  },
  {
   "cell_type": "markdown",
   "id": "460b435b",
   "metadata": {},
   "source": [
    "### 📍 filter()\n",
    "\n",
    "SYNTAX: filter (function, iterables)"
   ]
  },
  {
   "cell_type": "code",
   "execution_count": 60,
   "id": "8274eee8",
   "metadata": {},
   "outputs": [
    {
     "name": "stdout",
     "output_type": "stream",
     "text": [
      "<filter object at 0x7fd7b1f07ee0>\n",
      "[3, 4]\n"
     ]
    }
   ],
   "source": [
    "def func(x):\n",
    "    if x>=3:\n",
    "        return x\n",
    "    \n",
    "y = filter(func, (1,2,3,4))  \n",
    "print(y)\n",
    "print(list(y))"
   ]
  },
  {
   "cell_type": "code",
   "execution_count": 61,
   "id": "fad866ca",
   "metadata": {},
   "outputs": [
    {
     "name": "stdout",
     "output_type": "stream",
     "text": [
      "[2, 4]\n"
     ]
    }
   ],
   "source": [
    "# lambda with filter\n",
    "y = filter(lambda x: (x%2==0), (1,2,3,4))\n",
    "print(list(y))"
   ]
  },
  {
   "cell_type": "code",
   "execution_count": 62,
   "id": "495c5e80",
   "metadata": {},
   "outputs": [
    {
     "name": "stdout",
     "output_type": "stream",
     "text": [
      "[2, 3, 5, 7]\n"
     ]
    }
   ],
   "source": [
    "# intersection of 2 lists\n",
    "a = [1,2,3,5,7,9]\n",
    "b = [2,3,5,6,7,8]\n",
    "print(list(filter(lambda x: x in a, b)))  # prints out [2, 3, 5, 7]"
   ]
  },
  {
   "cell_type": "markdown",
   "id": "51d6c178",
   "metadata": {},
   "source": [
    "### ❓ Mini Challenge\n",
    "\n",
    "Considering the range of values below, use the function filter to return only negative numbers.\n",
    "\n",
    "range(-5, 5)\n",
    "\n",
    "Expected Output: [-5, -4, -3, -2, -1]"
   ]
  },
  {
   "cell_type": "code",
   "execution_count": 63,
   "id": "1b443a75",
   "metadata": {},
   "outputs": [
    {
     "data": {
      "text/plain": [
       "[-5, -4, -3, -2, -1]"
      ]
     },
     "execution_count": 63,
     "metadata": {},
     "output_type": "execute_result"
    }
   ],
   "source": [
    "list(filter(lambda x: x < 0, range(-5,5)))"
   ]
  },
  {
   "cell_type": "markdown",
   "id": "31317931",
   "metadata": {},
   "source": [
    "### 📍 reduce()\n",
    "\n",
    "SYNTAX: reduce(function, iterables)"
   ]
  },
  {
   "cell_type": "code",
   "execution_count": 64,
   "id": "09dc649d",
   "metadata": {},
   "outputs": [
    {
     "data": {
      "text/plain": [
       "187"
      ]
     },
     "execution_count": 64,
     "metadata": {},
     "output_type": "execute_result"
    }
   ],
   "source": [
    "import math\n",
    "reduce(lambda a,b: a+b,[23,21,45,98])"
   ]
  },
  {
   "cell_type": "code",
   "execution_count": 65,
   "id": "126b92a8",
   "metadata": {},
   "outputs": [
    {
     "data": {
      "text/plain": [
       "10"
      ]
     },
     "execution_count": 65,
     "metadata": {},
     "output_type": "execute_result"
    }
   ],
   "source": [
    "# behind the scenes\n",
    "def my_add(a, b):\n",
    "    result = a + b\n",
    "    return result\n",
    "\n",
    "numbers = [0, 1, 2, 3, 4]\n",
    "reduce(my_add, numbers)"
   ]
  },
  {
   "cell_type": "code",
   "execution_count": 66,
   "id": "86042599",
   "metadata": {},
   "outputs": [
    {
     "data": {
      "text/plain": [
       "110"
      ]
     },
     "execution_count": 66,
     "metadata": {},
     "output_type": "execute_result"
    }
   ],
   "source": [
    "reduce(my_add, numbers, 100)"
   ]
  },
  {
   "cell_type": "code",
   "execution_count": 67,
   "id": "734ef704",
   "metadata": {},
   "outputs": [
    {
     "name": "stdout",
     "output_type": "stream",
     "text": [
      "The maximum element of the list is : 4\n"
     ]
    }
   ],
   "source": [
    "# using reduce to compute maximum element from list\n",
    "print(\"The maximum element of the list is : \", end=\"\")\n",
    "print(reduce(lambda a, b: a if a > b else b, numbers))"
   ]
  },
  {
   "cell_type": "markdown",
   "id": "92790a30",
   "metadata": {},
   "source": [
    "### 📍 Combining map and filter"
   ]
  },
  {
   "cell_type": "code",
   "execution_count": 68,
   "id": "ca1d29cd",
   "metadata": {},
   "outputs": [
    {
     "name": "stdout",
     "output_type": "stream",
     "text": [
      "[27, 216, 729, 1728, 3375, 5832]\n"
     ]
    }
   ],
   "source": [
    "# Let's get the all numbers divisible by 3 between 1 and 20 and cube them\n",
    "\n",
    "arbitrary_numbers = map(lambda num: num ** 3, list(filter(lambda num: num % 3 == 0, range(1, 21))))\n",
    "print(list(arbitrary_numbers))"
   ]
  },
  {
   "cell_type": "code",
   "execution_count": 69,
   "id": "2a92ea49",
   "metadata": {},
   "outputs": [
    {
     "name": "stdout",
     "output_type": "stream",
     "text": [
      "[27, 216, 729, 1728, 3375, 5832]\n"
     ]
    }
   ],
   "source": [
    "arbitrary_numbers = filter(lambda num: num % 3 == 0, list(map(lambda num: num ** 3, range(1, 21))))\n",
    "print(list(arbitrary_numbers))"
   ]
  },
  {
   "cell_type": "markdown",
   "id": "0e8b501d",
   "metadata": {},
   "source": [
    "### ❓ Mini Challenge\n",
    "Using map() and filter() functions add 2000 to the values below 8000.\n",
    "\n",
    "numbers = [1000, 500, 600, 700, 5000, 90000, 17500]"
   ]
  },
  {
   "cell_type": "code",
   "execution_count": 70,
   "id": "167ee8fb",
   "metadata": {},
   "outputs": [
    {
     "data": {
      "text/plain": [
       "[3000, 2500, 2600, 2700, 7000]"
      ]
     },
     "execution_count": 70,
     "metadata": {},
     "output_type": "execute_result"
    }
   ],
   "source": [
    "numbers = [1000, 500, 600, 700, 5000, 90000, 17500]\n",
    "list(map(lambda x: x+2000,list(filter(lambda x: x<8000, numbers))))"
   ]
  },
  {
   "cell_type": "markdown",
   "id": "dd13901e",
   "metadata": {},
   "source": [
    "## 👉 Common I/O Errors\n",
    "\n",
    "**What is I/O Error?**\n",
    "\n",
    "IOError means Input/Output error. It occurs when a file, file path, or OS operation we’re referencing does not exist. For example, if you are running a runtime operation on an existing file, and the file goes missing from the location, Python will throw an IOError.\n",
    "\n",
    "**Types Of Errors in Python**\n",
    "\n",
    "Compilers segment errors into different categories for better identification and solutions. Below are some of the most common error types that you’ll encounter during your programming.\n",
    "\n",
    "1. **ZeroDivisionError:** Occurs when we try to divide a number by zero.\n",
    "2. **IndexError:** When accessing an index greater than the length of the list.\n",
    "3. **Indentation Error:** Python is sensitive to spaces and indentation.\n",
    "4. **ImportError/ModuleNotFoundError:** If we try to import a module and it does not exist, then this raises.\n",
    "5. **IOError:** Raised when a file we are trying to access does not exist in the system."
   ]
  },
  {
   "cell_type": "code",
   "execution_count": 71,
   "id": "0c7ddaf6",
   "metadata": {},
   "outputs": [
    {
     "name": "stdout",
     "output_type": "stream",
     "text": [
      "Cannot divide by zero!\n"
     ]
    }
   ],
   "source": [
    "# zero division error\n",
    "try:\n",
    "    11/0\n",
    "except:\n",
    "    print('Cannot divide by zero!')"
   ]
  },
  {
   "cell_type": "code",
   "execution_count": 72,
   "id": "410885bb",
   "metadata": {},
   "outputs": [
    {
     "ename": "IndexError",
     "evalue": "list index out of range",
     "output_type": "error",
     "traceback": [
      "\u001b[0;31m---------------------------------------------------------------------------\u001b[0m",
      "\u001b[0;31mIndexError\u001b[0m                                Traceback (most recent call last)",
      "\u001b[0;32m/var/folders/9w/st742bzj6csgjv5gdxxzl1wc0000gn/T/ipykernel_3830/3581685526.py\u001b[0m in \u001b[0;36m<module>\u001b[0;34m\u001b[0m\n\u001b[1;32m      1\u001b[0m \u001b[0;31m# list index error\u001b[0m\u001b[0;34m\u001b[0m\u001b[0;34m\u001b[0m\u001b[0m\n\u001b[1;32m      2\u001b[0m \u001b[0mlst\u001b[0m \u001b[0;34m=\u001b[0m \u001b[0;34m[\u001b[0m\u001b[0;36m10\u001b[0m\u001b[0;34m,\u001b[0m \u001b[0;36m20\u001b[0m\u001b[0;34m,\u001b[0m \u001b[0;36m30\u001b[0m\u001b[0;34m]\u001b[0m\u001b[0;34m\u001b[0m\u001b[0;34m\u001b[0m\u001b[0m\n\u001b[0;32m----> 3\u001b[0;31m \u001b[0mprint\u001b[0m\u001b[0;34m(\u001b[0m\u001b[0mlst\u001b[0m\u001b[0;34m[\u001b[0m\u001b[0;36m3\u001b[0m\u001b[0;34m]\u001b[0m\u001b[0;34m)\u001b[0m\u001b[0;34m\u001b[0m\u001b[0;34m\u001b[0m\u001b[0m\n\u001b[0m",
      "\u001b[0;31mIndexError\u001b[0m: list index out of range"
     ]
    }
   ],
   "source": [
    "# list index error\n",
    "lst = [10, 20, 30]\n",
    "print(lst[3])"
   ]
  },
  {
   "cell_type": "code",
   "execution_count": 77,
   "id": "40cbe023",
   "metadata": {},
   "outputs": [
    {
     "ename": "IndentationError",
     "evalue": "expected an indented block (4288656226.py, line 3)",
     "output_type": "error",
     "traceback": [
      "\u001b[0;36m  File \u001b[0;32m\"/var/folders/9w/st742bzj6csgjv5gdxxzl1wc0000gn/T/ipykernel_3830/4288656226.py\"\u001b[0;36m, line \u001b[0;32m3\u001b[0m\n\u001b[0;31m    print(i)\u001b[0m\n\u001b[0m    ^\u001b[0m\n\u001b[0;31mIndentationError\u001b[0m\u001b[0;31m:\u001b[0m expected an indented block\n"
     ]
    }
   ],
   "source": [
    "# indentation error\n",
    "for i in 'abc':\n",
    "print(i)"
   ]
  },
  {
   "cell_type": "code",
   "execution_count": 76,
   "id": "eaa5cfa2",
   "metadata": {},
   "outputs": [
    {
     "ename": "ImportError",
     "evalue": "cannot import name 'sqrts' from 'math' (/opt/anaconda3/lib/python3.9/lib-dynload/math.cpython-39-darwin.so)",
     "output_type": "error",
     "traceback": [
      "\u001b[0;31m---------------------------------------------------------------------------\u001b[0m",
      "\u001b[0;31mImportError\u001b[0m                               Traceback (most recent call last)",
      "\u001b[0;32m/var/folders/9w/st742bzj6csgjv5gdxxzl1wc0000gn/T/ipykernel_3830/950858731.py\u001b[0m in \u001b[0;36m<module>\u001b[0;34m\u001b[0m\n\u001b[1;32m      1\u001b[0m \u001b[0;31m# import error\u001b[0m\u001b[0;34m\u001b[0m\u001b[0;34m\u001b[0m\u001b[0m\n\u001b[0;32m----> 2\u001b[0;31m \u001b[0;32mfrom\u001b[0m \u001b[0mmath\u001b[0m \u001b[0;32mimport\u001b[0m \u001b[0msqrts\u001b[0m\u001b[0;34m\u001b[0m\u001b[0;34m\u001b[0m\u001b[0m\n\u001b[0m",
      "\u001b[0;31mImportError\u001b[0m: cannot import name 'sqrts' from 'math' (/opt/anaconda3/lib/python3.9/lib-dynload/math.cpython-39-darwin.so)"
     ]
    }
   ],
   "source": [
    "# import error\n",
    "from math import sqrts"
   ]
  },
  {
   "cell_type": "code",
   "execution_count": null,
   "id": "8b5f4fb2",
   "metadata": {},
   "outputs": [],
   "source": [
    "# file handling error\n",
    "file = open('sample.txt', 'w')\n",
    "print('The file name is: ', file.name)\n",
    "print('Openeing mode: ', file.mode)"
   ]
  },
  {
   "cell_type": "code",
   "execution_count": null,
   "id": "d00163fe",
   "metadata": {},
   "outputs": [],
   "source": [
    "file.close()\n",
    "print('File is closed: ', file.closed)"
   ]
  },
  {
   "cell_type": "code",
   "execution_count": null,
   "id": "340438d4",
   "metadata": {},
   "outputs": [],
   "source": [
    "# delete and try accessing the file\n",
    "file = open('sample.txt', 'r')"
   ]
  },
  {
   "cell_type": "code",
   "execution_count": null,
   "id": "25c80564",
   "metadata": {},
   "outputs": [],
   "source": [
    "# how to handle the error\n",
    "try:\n",
    "    file = open('sample.txt', 'w')\n",
    "    print('File found!!!')\n",
    "     \n",
    "except IOError:\n",
    "    print('File not found!!!')"
   ]
  },
  {
   "cell_type": "markdown",
   "id": "1b963363",
   "metadata": {},
   "source": [
    "***References:***\n",
    "\n",
    "1. https://www.analyticsvidhya.com\n",
    "2. https://www.askpython.com"
   ]
  }
 ],
 "metadata": {
  "kernelspec": {
   "display_name": "Python 3 (ipykernel)",
   "language": "python",
   "name": "python3"
  },
  "language_info": {
   "codemirror_mode": {
    "name": "ipython",
    "version": 3
   },
   "file_extension": ".py",
   "mimetype": "text/x-python",
   "name": "python",
   "nbconvert_exporter": "python",
   "pygments_lexer": "ipython3",
   "version": "3.9.7"
  }
 },
 "nbformat": 4,
 "nbformat_minor": 5
}
