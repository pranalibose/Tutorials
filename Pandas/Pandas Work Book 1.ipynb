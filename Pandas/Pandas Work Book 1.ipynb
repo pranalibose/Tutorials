{
 "cells": [
  {
   "cell_type": "markdown",
   "id": "861d74ea",
   "metadata": {},
   "source": [
    "## 📍 <u>Agenda</u>\n",
    "The session is divided into the following parts:\n",
    "\n",
    "1. Pandas Basics with Examples\n",
    "    1. Data Structures in Pandas\n",
    "    1. Creating dataframes from lists and dictionaries\n",
    "    1. Reading datasets\n",
    "    1. Setting index column\n",
    "    1. Inplace\n",
    "    1. Examining dataframes\n",
    "    1. Statistical Summary\n",
    "\n",
    "2. Pandas - Advance Concepts\n",
    "    1. Slicing rows using bracket operators\n",
    "    1. Filter\n",
    "    1. Sort values\n",
    "    1. Concat, Merge, Append\n",
    "    1. Apply\n",
    "    1. Drop duplicates\n",
    "    1. groupby()\n",
    "    1. Missing values\n",
    "\n",
    "2. Demonstration and hands-on exercise\n",
    "\n",
    "3. Q/A session\n",
    "\n",
    "### Learning Objectives\n",
    "The objective is to provide hands-on experience in manipulating data frames and handling unclean data through a dataset by bringing together all the concepts learnt in the module.\n",
    "\n",
    "### Pre-requisites\n",
    "Familiarity with Python and some knowledge on numpy and pandas\n"
   ]
  },
  {
   "cell_type": "markdown",
   "id": "f33e4a99",
   "metadata": {},
   "source": [
    "## 📚 Pandas Basics"
   ]
  },
  {
   "cell_type": "markdown",
   "id": "8cdcaac4",
   "metadata": {},
   "source": [
    "### 👉 Data Structures in Pandas\n",
    "1. Dataframe, which is two-dimensional\n",
    "2. Series, which is one-dimensional"
   ]
  },
  {
   "cell_type": "markdown",
   "id": "950ac5a0",
   "metadata": {},
   "source": [
    "### 👉 Creating DataFrames"
   ]
  },
  {
   "cell_type": "markdown",
   "id": "75298dcf",
   "metadata": {},
   "source": [
    "####  🌱 using lists\n",
    "    - We can create a dataframe using lists\n",
    "    - We pass the list as an argument to the pandas.DataFrame() function which returns a dataframe\n",
    "    - Pandas automatically assigns numerical row labels to each row of the dataframe\n",
    "    - By default, pandas also assign numerical column labels to each column if not specified."
   ]
  },
  {
   "cell_type": "code",
   "execution_count": null,
   "id": "e9e589c9",
   "metadata": {},
   "outputs": [],
   "source": [
    "import pandas as pd"
   ]
  },
  {
   "cell_type": "code",
   "execution_count": null,
   "id": "b9550698",
   "metadata": {},
   "outputs": [],
   "source": [
    "# dataframes from lists\n",
    "myList = [['Apple', 'Red'], ['Banana', 'Yellow'], ['Orange', 'Orange']]\n"
   ]
  },
  {
   "cell_type": "code",
   "execution_count": null,
   "id": "982c55f5",
   "metadata": {},
   "outputs": [],
   "source": [
    "# custom column names\n"
   ]
  },
  {
   "cell_type": "code",
   "execution_count": null,
   "id": "a8de6a00",
   "metadata": {},
   "outputs": [],
   "source": [
    "import numpy as np"
   ]
  },
  {
   "cell_type": "code",
   "execution_count": null,
   "id": "d20bee29",
   "metadata": {},
   "outputs": [],
   "source": [
    "# Dataframes from numpy arrays\n",
    "myList = np.array([[0,1], [2,3], [4,5]])\n",
    "myList"
   ]
  },
  {
   "cell_type": "code",
   "execution_count": null,
   "id": "269e30fa",
   "metadata": {},
   "outputs": [],
   "source": []
  },
  {
   "cell_type": "markdown",
   "id": "0a57f95d",
   "metadata": {},
   "source": [
    "####  🌱 using dictionary\n",
    "    - We can also pass a dictionary to pandas.DataFrame() function to create a dataframe\n",
    "    - Each key of the array should have a list of one or more values associated with it\n",
    "    - The keys of the dictionary become column labels\n",
    "    - Pandas automatically assigns numerical row labels to each of the dataframe"
   ]
  },
  {
   "cell_type": "code",
   "execution_count": null,
   "id": "1d8fa4fc",
   "metadata": {},
   "outputs": [],
   "source": [
    "myDictionary = {'Fruit':['Apple', 'Banana', 'Orange'], 'Color': ['Red', 'Yellow', 'Orange']}\n"
   ]
  },
  {
   "cell_type": "markdown",
   "id": "368b9b6c",
   "metadata": {},
   "source": [
    "### 💣 Challenge\n",
    "Create a dataframe of countries and their capitals (India, USA, France, Germany, Australia)\n",
    "   - using lists\n",
    "   - using dictionary"
   ]
  },
  {
   "cell_type": "code",
   "execution_count": null,
   "id": "7c22d9f0",
   "metadata": {},
   "outputs": [],
   "source": []
  },
  {
   "cell_type": "code",
   "execution_count": null,
   "id": "45882d99",
   "metadata": {},
   "outputs": [],
   "source": []
  },
  {
   "cell_type": "markdown",
   "id": "2bb1b52a",
   "metadata": {},
   "source": [
    "### 👉 Loading csv file as a Dataframe\n",
    "    - We can also load a csv file as a dataframe in pandas using pandas.read_csv() function\n",
    "    - Each value of the first row of the csv file becomes the column label\n",
    "    - Pandas automatically assigns numerical row labels to each row of the dataframe"
   ]
  },
  {
   "cell_type": "code",
   "execution_count": null,
   "id": "b10fa4af",
   "metadata": {},
   "outputs": [],
   "source": [
    "# loading csv file\n",
    "df = pd.read_csv('BB.csv')\n",
    "df"
   ]
  },
  {
   "cell_type": "markdown",
   "id": "3304e31b",
   "metadata": {},
   "source": [
    "### 👉 Changing index column"
   ]
  },
  {
   "cell_type": "code",
   "execution_count": null,
   "id": "b230dd68",
   "metadata": {},
   "outputs": [],
   "source": [
    "# changing the index column using set_index()\n"
   ]
  },
  {
   "cell_type": "markdown",
   "id": "5fdbcf7a",
   "metadata": {},
   "source": [
    "### 👉 inplace"
   ]
  },
  {
   "cell_type": "code",
   "execution_count": null,
   "id": "3b914582",
   "metadata": {},
   "outputs": [],
   "source": [
    "# inplace\n"
   ]
  },
  {
   "cell_type": "markdown",
   "id": "0b5edde9",
   "metadata": {},
   "source": [
    "### 👉 Examining dataframe"
   ]
  },
  {
   "cell_type": "code",
   "execution_count": null,
   "id": "5ae5bd70",
   "metadata": {},
   "outputs": [],
   "source": [
    "# examining the dataframe - head and tail\n"
   ]
  },
  {
   "cell_type": "code",
   "execution_count": null,
   "id": "30cd2b81",
   "metadata": {},
   "outputs": [],
   "source": []
  },
  {
   "cell_type": "code",
   "execution_count": null,
   "id": "75597fbb",
   "metadata": {},
   "outputs": [],
   "source": [
    "# shape"
   ]
  },
  {
   "cell_type": "code",
   "execution_count": null,
   "id": "2bf4caf0",
   "metadata": {},
   "outputs": [],
   "source": [
    "# value counts"
   ]
  },
  {
   "cell_type": "code",
   "execution_count": null,
   "id": "67a1b076",
   "metadata": {},
   "outputs": [],
   "source": [
    "# unique"
   ]
  },
  {
   "cell_type": "code",
   "execution_count": null,
   "id": "073835d2",
   "metadata": {},
   "outputs": [],
   "source": [
    "# info"
   ]
  },
  {
   "cell_type": "markdown",
   "id": "530a9e25",
   "metadata": {},
   "source": [
    "### 👉 Statistical summary"
   ]
  },
  {
   "cell_type": "code",
   "execution_count": null,
   "id": "c08ae263",
   "metadata": {},
   "outputs": [],
   "source": [
    "# statistical summary of the dataframe\n"
   ]
  },
  {
   "cell_type": "markdown",
   "id": "91108cea",
   "metadata": {},
   "source": [
    "## 📚 Pandas Advance"
   ]
  },
  {
   "cell_type": "markdown",
   "id": "58aee79d",
   "metadata": {},
   "source": [
    "### 👉 Slicing"
   ]
  },
  {
   "cell_type": "code",
   "execution_count": null,
   "id": "31a080ac",
   "metadata": {},
   "outputs": [],
   "source": [
    "# Row slicing\n"
   ]
  },
  {
   "cell_type": "code",
   "execution_count": null,
   "id": "2bfc5626",
   "metadata": {},
   "outputs": [],
   "source": [
    "# Indexing columns\n"
   ]
  },
  {
   "cell_type": "code",
   "execution_count": null,
   "id": "d36f847a",
   "metadata": {},
   "outputs": [],
   "source": [
    "# combining row and column slicing\n"
   ]
  },
  {
   "cell_type": "markdown",
   "id": "4d1b5d0a",
   "metadata": {},
   "source": [
    "### 👉 Filtering"
   ]
  },
  {
   "cell_type": "code",
   "execution_count": null,
   "id": "e1579d65",
   "metadata": {},
   "outputs": [],
   "source": [
    "# get the products whose rating is 4 or more\n"
   ]
  },
  {
   "cell_type": "markdown",
   "id": "3bde641e",
   "metadata": {},
   "source": [
    "#### 🌱 combining multiple filter conditions"
   ]
  },
  {
   "cell_type": "code",
   "execution_count": null,
   "id": "1e93cbda",
   "metadata": {},
   "outputs": [],
   "source": [
    "# get the products of beauty and hygine category with rating more than 4\n"
   ]
  },
  {
   "cell_type": "markdown",
   "id": "764d64b3",
   "metadata": {},
   "source": [
    "#### 🌱 filtering using loc"
   ]
  },
  {
   "cell_type": "code",
   "execution_count": null,
   "id": "aa87c463",
   "metadata": {},
   "outputs": [],
   "source": [
    "# indexing\n",
    "df.loc[1, 'product']"
   ]
  },
  {
   "cell_type": "code",
   "execution_count": null,
   "id": "865dba17",
   "metadata": {},
   "outputs": [],
   "source": [
    "# extracting dataframe\n",
    "df.loc[[1], ['product']]"
   ]
  },
  {
   "cell_type": "code",
   "execution_count": null,
   "id": "01d9dca8",
   "metadata": {},
   "outputs": [],
   "source": [
    "# slicing\n",
    "df.loc[1:5, 'product': 'type']"
   ]
  },
  {
   "cell_type": "code",
   "execution_count": null,
   "id": "6b2f2934",
   "metadata": {},
   "outputs": [],
   "source": [
    "# indexing rows and slicing columns\n",
    "# df.loc[[3,6], 'category':'sale_price']"
   ]
  },
  {
   "cell_type": "code",
   "execution_count": null,
   "id": "7f4e430f",
   "metadata": {},
   "outputs": [],
   "source": [
    "# adding rows using loc\n",
    "df.loc[11] = ['product', 2, 3, 4, 5, 6, 7, 8, 9]\n",
    "df.loc[[11]]"
   ]
  },
  {
   "cell_type": "code",
   "execution_count": null,
   "id": "bb9774e7",
   "metadata": {},
   "outputs": [],
   "source": []
  },
  {
   "cell_type": "code",
   "execution_count": null,
   "id": "a78d0118",
   "metadata": {},
   "outputs": [],
   "source": [
    "# deleting row"
   ]
  },
  {
   "cell_type": "code",
   "execution_count": null,
   "id": "405bfc2e",
   "metadata": {},
   "outputs": [],
   "source": [
    "# deleting column"
   ]
  },
  {
   "cell_type": "markdown",
   "id": "29e9d7a1",
   "metadata": {},
   "source": [
    "### 💣 Mini Challenge\n",
    "Fetch the brand name of the 5th row"
   ]
  },
  {
   "cell_type": "markdown",
   "id": "1c50ee96",
   "metadata": {},
   "source": [
    "#### 🌱 filtering using iloc"
   ]
  },
  {
   "cell_type": "code",
   "execution_count": null,
   "id": "2d533b00",
   "metadata": {},
   "outputs": [],
   "source": [
    "# optaining specific positioned values\n",
    "df.iloc[2,3]"
   ]
  },
  {
   "cell_type": "code",
   "execution_count": null,
   "id": "672a4ba1",
   "metadata": {},
   "outputs": [],
   "source": [
    "# slicing\n",
    "df.iloc[0:5, 0:3]"
   ]
  },
  {
   "cell_type": "code",
   "execution_count": null,
   "id": "827dbb2b",
   "metadata": {},
   "outputs": [],
   "source": [
    "# indexing and slicing\n",
    "df.iloc[[0,2,5], [0,2]]"
   ]
  },
  {
   "cell_type": "markdown",
   "id": "55283356",
   "metadata": {},
   "source": [
    "### 👉 Sorting Values"
   ]
  },
  {
   "cell_type": "code",
   "execution_count": null,
   "id": "f435692e",
   "metadata": {},
   "outputs": [],
   "source": [
    "# sorting numerical column\n"
   ]
  },
  {
   "cell_type": "code",
   "execution_count": null,
   "id": "7ec4588e",
   "metadata": {},
   "outputs": [],
   "source": [
    "# sorting in descending order\n"
   ]
  },
  {
   "cell_type": "markdown",
   "id": "c81b7f09",
   "metadata": {},
   "source": [
    "### 👉 Concatenating Dataframes"
   ]
  },
  {
   "cell_type": "code",
   "execution_count": null,
   "id": "935f2168",
   "metadata": {},
   "outputs": [],
   "source": [
    "df1 = df.loc[1:4, 'product':'brand']\n",
    "df1"
   ]
  },
  {
   "cell_type": "code",
   "execution_count": null,
   "id": "d1f0e934",
   "metadata": {},
   "outputs": [],
   "source": [
    "df2 = df.loc[1:4, 'product':'brand']\n",
    "df2"
   ]
  },
  {
   "cell_type": "code",
   "execution_count": null,
   "id": "f1773179",
   "metadata": {},
   "outputs": [],
   "source": [
    "# concatenate once below the other\n"
   ]
  },
  {
   "cell_type": "code",
   "execution_count": null,
   "id": "c3c12849",
   "metadata": {},
   "outputs": [],
   "source": [
    "# concat side by side"
   ]
  },
  {
   "cell_type": "markdown",
   "id": "b89f13fb",
   "metadata": {},
   "source": [
    "### 👉 Merging Dataframes"
   ]
  },
  {
   "cell_type": "code",
   "execution_count": null,
   "id": "dd74455d",
   "metadata": {},
   "outputs": [],
   "source": [
    "data1 = {\n",
    "  \"name\": [\"Sally\", \"Mary\", \"John\"],\n",
    "  \"age\": [50, 40, 30]\n",
    "}\n",
    "\n",
    "data2 = {\n",
    "  \"name\": [\"Sally\", \"Peter\", \"Micky\"],\n",
    "  \"age\": [77, 44, 22]\n",
    "}\n",
    "\n",
    "df1 = pd.DataFrame(data1)\n",
    "df2 = pd.DataFrame(data2)\n",
    "\n",
    "df1"
   ]
  },
  {
   "cell_type": "code",
   "execution_count": null,
   "id": "d351a617",
   "metadata": {},
   "outputs": [],
   "source": [
    "df2"
   ]
  },
  {
   "cell_type": "code",
   "execution_count": null,
   "id": "0d684188",
   "metadata": {},
   "outputs": [],
   "source": [
    "newdf = df1.merge(df2, how='right')\n",
    "newdf"
   ]
  },
  {
   "cell_type": "markdown",
   "id": "ddd65df5",
   "metadata": {},
   "source": [
    "### 👉 append()"
   ]
  },
  {
   "cell_type": "code",
   "execution_count": null,
   "id": "04f4ebfc",
   "metadata": {},
   "outputs": [],
   "source": [
    "df1 = df1.append(df2, ignore_index=True)"
   ]
  },
  {
   "cell_type": "code",
   "execution_count": null,
   "id": "e2ce3d88",
   "metadata": {},
   "outputs": [],
   "source": [
    "df1"
   ]
  },
  {
   "cell_type": "markdown",
   "id": "f2e19f30",
   "metadata": {},
   "source": [
    "### 👉 Drop duplicates"
   ]
  },
  {
   "cell_type": "code",
   "execution_count": null,
   "id": "044f3ef4",
   "metadata": {},
   "outputs": [],
   "source": [
    "df3 = df1.drop_duplicates(subset =\"name\", keep = 'last')\n",
    "df3"
   ]
  },
  {
   "cell_type": "code",
   "execution_count": null,
   "id": "592776ee",
   "metadata": {},
   "outputs": [],
   "source": []
  },
  {
   "cell_type": "code",
   "execution_count": null,
   "id": "3cab1997",
   "metadata": {},
   "outputs": [],
   "source": []
  },
  {
   "cell_type": "markdown",
   "id": "a57aa934",
   "metadata": {},
   "source": [
    "### 👉 groupby()\n",
    "Some common aggregate functions:\n",
    "1. mean()\n",
    "2. sum()\n",
    "3. max()\n",
    "4. min()\n",
    "5. median()\n",
    "6. count()\n",
    "7. std()"
   ]
  },
  {
   "cell_type": "code",
   "execution_count": null,
   "id": "0aca9886",
   "metadata": {},
   "outputs": [],
   "source": [
    "df = pd.DataFrame({'Gender': ['female', 'male', 'female', 'male', 'male', 'female'], 'Score': [45, 88, 95, 40, 60, 35]})\n",
    "df"
   ]
  },
  {
   "cell_type": "code",
   "execution_count": null,
   "id": "92959b50",
   "metadata": {},
   "outputs": [],
   "source": [
    "# get the mean of scores for each gender"
   ]
  },
  {
   "cell_type": "markdown",
   "id": "591c7ccf",
   "metadata": {},
   "source": [
    "### 👉 apply()"
   ]
  },
  {
   "cell_type": "code",
   "execution_count": null,
   "id": "6f30077f",
   "metadata": {},
   "outputs": [],
   "source": [
    "# use a function to extract another column: pass or fail\n"
   ]
  },
  {
   "cell_type": "markdown",
   "id": "7dd0bc37",
   "metadata": {},
   "source": [
    "### 💣 Mini Challenge\n",
    "Using apply replace the Gender column values with F or M"
   ]
  },
  {
   "cell_type": "code",
   "execution_count": null,
   "id": "7c555959",
   "metadata": {},
   "outputs": [],
   "source": []
  },
  {
   "cell_type": "markdown",
   "id": "bc28efb8",
   "metadata": {},
   "source": [
    "### 👉 pivot_table()"
   ]
  },
  {
   "cell_type": "code",
   "execution_count": null,
   "id": "7f532574",
   "metadata": {},
   "outputs": [],
   "source": [
    "pd.pivot_table(df, index='Gender', values='Score')"
   ]
  },
  {
   "cell_type": "markdown",
   "id": "4fe04e10",
   "metadata": {},
   "source": [
    "### 👉 Missing Values"
   ]
  },
  {
   "cell_type": "code",
   "execution_count": null,
   "id": "34ac3869",
   "metadata": {},
   "outputs": [],
   "source": [
    "dict = {'First Score':[100, 90, np.nan, 95],\n",
    "        'Second Score': [30, 45, 56, np.nan],\n",
    "        'Third Score':[np.nan, 40, 80, 98]}\n",
    " \n",
    "# creating a dataframe from list\n",
    "df = pd.DataFrame(dict)\n",
    "df"
   ]
  },
  {
   "cell_type": "code",
   "execution_count": null,
   "id": "77697d09",
   "metadata": {},
   "outputs": [],
   "source": [
    "# using isnull() function "
   ]
  },
  {
   "cell_type": "code",
   "execution_count": null,
   "id": "e93b78c0",
   "metadata": {},
   "outputs": [],
   "source": [
    "# using notnull() function"
   ]
  },
  {
   "cell_type": "code",
   "execution_count": null,
   "id": "a64e735f",
   "metadata": {},
   "outputs": [],
   "source": [
    "# filling missing value using fillna()"
   ]
  },
  {
   "cell_type": "code",
   "execution_count": null,
   "id": "7111f4e1",
   "metadata": {},
   "outputs": [],
   "source": [
    "# filling a missing value with the previous ones"
   ]
  },
  {
   "cell_type": "code",
   "execution_count": null,
   "id": "9f5d038d",
   "metadata": {},
   "outputs": [],
   "source": [
    "# filling null value using fillna() function"
   ]
  },
  {
   "cell_type": "code",
   "execution_count": null,
   "id": "24ebd891",
   "metadata": {},
   "outputs": [],
   "source": [
    "# will replace  Nan value in dataframe with value 999 "
   ]
  },
  {
   "cell_type": "code",
   "execution_count": null,
   "id": "345a6ff8",
   "metadata": {},
   "outputs": [],
   "source": [
    "# using dropna() function "
   ]
  },
  {
   "cell_type": "code",
   "execution_count": null,
   "id": "ef00b078",
   "metadata": {},
   "outputs": [],
   "source": [
    "# using dropna() function to delete rows with all nans "
   ]
  },
  {
   "cell_type": "code",
   "execution_count": null,
   "id": "432a69a1",
   "metadata": {},
   "outputs": [],
   "source": [
    "# using dropna() function to delete columns with atleast 1 missing value "
   ]
  },
  {
   "cell_type": "markdown",
   "id": "932e0e72",
   "metadata": {},
   "source": [
    "### 👉 Exporting and Saving Dataframes\n",
    "    - To export a Dataframe as a csv file, use to_csv() function\n",
    "    - If a file with the specified filename exists, it will be modified. Otherwise, a new file will be created\n",
    "    - If you don't want to store index column in the csv file, you can set index_label=False in to_csv() function"
   ]
  },
  {
   "cell_type": "code",
   "execution_count": null,
   "id": "1d87b20c",
   "metadata": {},
   "outputs": [],
   "source": []
  },
  {
   "cell_type": "markdown",
   "id": "55dd7af1",
   "metadata": {},
   "source": [
    "## 📚 Demonstration and Exercises\n",
    "### About the dataset\n",
    "\n",
    "BL is a small leather products business which has recently started selling its products on Amazon. Currently, it has around 40 SKUs registered in the Indian Marketplace. Over the past few months, it has incurred some loss due to return orders. Now, BL seeks help to predict the likelihood of a new order being rejected. This would help them to take necessary actions and subsequently reduce the loss.\n",
    "\n",
    "Download the dataset from [here](https://www.kaggle.com/datasets/pranalibose/amazon-seller-order-status-prediction)"
   ]
  },
  {
   "cell_type": "code",
   "execution_count": null,
   "id": "07ee1ba1",
   "metadata": {},
   "outputs": [],
   "source": [
    "# check whether the file is available in the pwd\n",
    "!ls"
   ]
  },
  {
   "cell_type": "markdown",
   "id": "0b268666",
   "metadata": {},
   "source": [
    "### ❓ Task 1\n",
    "1. Read the excel and store it in a dataset\n",
    "2. Extract list of columns in the dataframe"
   ]
  },
  {
   "cell_type": "code",
   "execution_count": null,
   "id": "049fbe0e",
   "metadata": {},
   "outputs": [],
   "source": []
  },
  {
   "cell_type": "markdown",
   "id": "e0420e2e",
   "metadata": {},
   "source": [
    "### ❓ Task 2\n",
    "1. Fetch the first 8 rows\n",
    "2. Check the number of rows and columns in the dataset\n",
    "3. Rename the column 'order_no' to 'order number'\n",
    "4. Fetch the statistical information\n",
    "5. Get the summary using info()"
   ]
  },
  {
   "cell_type": "code",
   "execution_count": null,
   "id": "3b2d02f8",
   "metadata": {},
   "outputs": [],
   "source": []
  },
  {
   "cell_type": "code",
   "execution_count": null,
   "id": "31f8fb7e",
   "metadata": {},
   "outputs": [],
   "source": []
  },
  {
   "cell_type": "code",
   "execution_count": null,
   "id": "c729523f",
   "metadata": {},
   "outputs": [],
   "source": []
  },
  {
   "cell_type": "code",
   "execution_count": null,
   "id": "0b675182",
   "metadata": {},
   "outputs": [],
   "source": []
  },
  {
   "cell_type": "code",
   "execution_count": null,
   "id": "4efc9823",
   "metadata": {},
   "outputs": [],
   "source": []
  },
  {
   "cell_type": "markdown",
   "id": "cbe71142",
   "metadata": {},
   "source": [
    "### ❓ Task 3\n",
    "1. Check the datatype of 'quantity' column\n",
    "2. Change the datatype of quantity column"
   ]
  },
  {
   "cell_type": "code",
   "execution_count": null,
   "id": "9287e2aa",
   "metadata": {},
   "outputs": [],
   "source": []
  },
  {
   "cell_type": "code",
   "execution_count": null,
   "id": "797ec542",
   "metadata": {},
   "outputs": [],
   "source": []
  },
  {
   "cell_type": "markdown",
   "id": "00f5f0de",
   "metadata": {},
   "source": [
    "### ❓ Task 4\n",
    "1. Loop through the column values and display the number of missing values in each\n",
    "2. Slice the dataset to fetch the first 5 rows and the last 3 columns\n",
    "3. Get all the unique values in ship_state column\n",
    "4. Display the number of unique values in order_status column\n",
    "5. Filter the dataset to get order numbers only from states maharashtra and west bengal having quantity more than 1\n",
    "6. Select orders with ship_state 'Maharashtra' and cod with missing value\n",
    "7. Remove the rupee symbol from item_total and convert the data type from string to float type (Hint: Handle the missing values first, replace it with '₹0.00')\n",
    "8. Get the total amount for orders of each state\n",
    "9. Fetch the mean quantity ordered by each state"
   ]
  },
  {
   "cell_type": "code",
   "execution_count": null,
   "id": "728bbb3f",
   "metadata": {},
   "outputs": [],
   "source": []
  },
  {
   "cell_type": "code",
   "execution_count": null,
   "id": "b6705985",
   "metadata": {},
   "outputs": [],
   "source": []
  },
  {
   "cell_type": "code",
   "execution_count": null,
   "id": "12404d84",
   "metadata": {},
   "outputs": [],
   "source": []
  },
  {
   "cell_type": "code",
   "execution_count": null,
   "id": "956c2777",
   "metadata": {},
   "outputs": [],
   "source": []
  },
  {
   "cell_type": "markdown",
   "id": "62f6ad0d",
   "metadata": {},
   "source": [
    "### ❓ Task 5\n",
    "1. Generate 2 new dataframes from orders dataframe\n",
    "    - First dataframe with the first 20 rows\n",
    "    - Second dataframe with the last 20 rows\n",
    "2. Concatenate the two dataframes to create a third dataframe\n",
    "3. Append a new row to the newly created dataframe\n",
    "4. Delete the last 4 rows from this dataframe\n",
    "5. Calculate the percentage of missing values in shipping_fee\n",
    "6. Replace all the missing values with 'empty'\n",
    "7. Save this dataframe as a csv file"
   ]
  },
  {
   "cell_type": "code",
   "execution_count": null,
   "id": "88ba8e36",
   "metadata": {},
   "outputs": [],
   "source": []
  },
  {
   "cell_type": "code",
   "execution_count": null,
   "id": "80419262",
   "metadata": {},
   "outputs": [],
   "source": []
  },
  {
   "cell_type": "code",
   "execution_count": null,
   "id": "41f11852",
   "metadata": {},
   "outputs": [],
   "source": []
  },
  {
   "cell_type": "code",
   "execution_count": null,
   "id": "2100c11e",
   "metadata": {},
   "outputs": [],
   "source": []
  },
  {
   "cell_type": "code",
   "execution_count": null,
   "id": "eb026d8d",
   "metadata": {},
   "outputs": [],
   "source": []
  },
  {
   "cell_type": "code",
   "execution_count": null,
   "id": "5ad7519e",
   "metadata": {},
   "outputs": [],
   "source": []
  },
  {
   "cell_type": "code",
   "execution_count": null,
   "id": "a10f28ad",
   "metadata": {},
   "outputs": [],
   "source": [
    "## Pandas Profiling"
   ]
  },
  {
   "cell_type": "markdown",
   "id": "8a9bf2e5",
   "metadata": {},
   "source": [
    "## 📚 Q/A Session"
   ]
  },
  {
   "cell_type": "markdown",
   "id": "dce6cac3",
   "metadata": {},
   "source": [
    "## 📚 Resources\n",
    "\n",
    "[pandas documentation](https://pandas.pydata.org/pandas-docs/stable/user_guide/basics.html#head-and-tail)\n",
    "\n",
    "[learndatasci](https://www.learndatasci.com/tutorials/python-pandas-tutorial-complete-introduction-for-beginners/)\n",
    "\n",
    "[datacamp](https://www.datacamp.com/tutorial/pandas)"
   ]
  }
 ],
 "metadata": {
  "kernelspec": {
   "display_name": "Python 3 (ipykernel)",
   "language": "python",
   "name": "python3"
  },
  "language_info": {
   "codemirror_mode": {
    "name": "ipython",
    "version": 3
   },
   "file_extension": ".py",
   "mimetype": "text/x-python",
   "name": "python",
   "nbconvert_exporter": "python",
   "pygments_lexer": "ipython3",
   "version": "3.9.7"
  }
 },
 "nbformat": 4,
 "nbformat_minor": 5
}
