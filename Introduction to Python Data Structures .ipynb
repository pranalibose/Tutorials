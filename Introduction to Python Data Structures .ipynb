{
 "cells": [
  {
   "cell_type": "markdown",
   "id": "eca2b13a",
   "metadata": {},
   "source": [
    "# 📍<u>Agenda</u>\n",
    "\n",
    "1. Data Structures:\n",
    "    - Linear\n",
    "    - Non-linear\n",
    "    - Python specific\n",
    "2. Examples\n",
    "3. Primitive and non-primitive data structures\n",
    "4. Lists\n",
    "5. Tuples\n",
    "6. Sets\n",
    "7. Dictionary\n",
    "8. Comparison\n",
    "9. Functions"
   ]
  },
  {
   "cell_type": "markdown",
   "id": "20702d57",
   "metadata": {},
   "source": [
    "### 📚 <u>List</u>"
   ]
  },
  {
   "cell_type": "markdown",
   "id": "502c12af",
   "metadata": {},
   "source": [
    "👉 <b>Creating a list</b>"
   ]
  },
  {
   "cell_type": "code",
   "execution_count": 11,
   "id": "2cb2ac43",
   "metadata": {},
   "outputs": [
    {
     "name": "stdout",
     "output_type": "stream",
     "text": [
      "['Tomato', 'Potato', 'Chilli', 'Onion']\n"
     ]
    }
   ],
   "source": [
    "# lists\n",
    "groceries = ['Tomato', 'Potato', 'Chilli', 'Onion']\n",
    "print(groceries)"
   ]
  },
  {
   "cell_type": "markdown",
   "id": "61079c9f",
   "metadata": {},
   "source": [
    "👉 **Accessing list items**"
   ]
  },
  {
   "cell_type": "code",
   "execution_count": 12,
   "id": "23687b8e",
   "metadata": {},
   "outputs": [
    {
     "name": "stdout",
     "output_type": "stream",
     "text": [
      "Potato\n"
     ]
    }
   ],
   "source": [
    "# accessing elements of list\n",
    "print(groceries[1])"
   ]
  },
  {
   "cell_type": "markdown",
   "id": "ef97fdaa",
   "metadata": {},
   "source": [
    "👉 **Adding items into a list**"
   ]
  },
  {
   "cell_type": "code",
   "execution_count": 13,
   "id": "ec41dba1",
   "metadata": {},
   "outputs": [
    {
     "name": "stdout",
     "output_type": "stream",
     "text": [
      "['Tomato', 'Potato', 'Chilli', 'Onion', 'Cabbage']\n"
     ]
    }
   ],
   "source": [
    "# adding into lists\n",
    "groceries.append('Cabbage')\n",
    "print(groceries)       "
   ]
  },
  {
   "cell_type": "markdown",
   "id": "f9c76a1a",
   "metadata": {},
   "source": [
    "👉 **Replacing list items**"
   ]
  },
  {
   "cell_type": "code",
   "execution_count": 14,
   "id": "a622bb0a",
   "metadata": {},
   "outputs": [
    {
     "name": "stdout",
     "output_type": "stream",
     "text": [
      "['Tomato', 'Potato', 'Garlic', 'Onion', 'Cabbage']\n"
     ]
    }
   ],
   "source": [
    "# replacing elements in lists\n",
    "groceries[2] = 'Garlic'\n",
    "print(groceries)"
   ]
  },
  {
   "cell_type": "markdown",
   "id": "19c2f2c4",
   "metadata": {},
   "source": [
    "👉 **Looping a list**"
   ]
  },
  {
   "cell_type": "code",
   "execution_count": 15,
   "id": "2d913232",
   "metadata": {},
   "outputs": [
    {
     "name": "stdout",
     "output_type": "stream",
     "text": [
      "Tomato\n",
      "Potato\n",
      "Garlic\n",
      "Onion\n",
      "Cabbage\n"
     ]
    }
   ],
   "source": [
    "# looping through lists\n",
    "for i in groceries:\n",
    "    print(i)"
   ]
  },
  {
   "cell_type": "markdown",
   "id": "07f1d409",
   "metadata": {},
   "source": [
    "👉 **List size**"
   ]
  },
  {
   "cell_type": "code",
   "execution_count": 16,
   "id": "38d4e245",
   "metadata": {},
   "outputs": [
    {
     "name": "stdout",
     "output_type": "stream",
     "text": [
      "5\n"
     ]
    }
   ],
   "source": [
    "# list size \n",
    "print(len(groceries))"
   ]
  },
  {
   "cell_type": "markdown",
   "id": "449b12d0",
   "metadata": {},
   "source": [
    "👉 **Adding a list elements to another list**"
   ]
  },
  {
   "cell_type": "code",
   "execution_count": 17,
   "id": "00844af8",
   "metadata": {},
   "outputs": [
    {
     "name": "stdout",
     "output_type": "stream",
     "text": [
      "['Tomato', 'Potato', 'Garlic', 'Onion', 'Cabbage', 'Apple', 'Grapes']\n"
     ]
    }
   ],
   "source": [
    "fruits = ['Apple', 'Grapes']\n",
    "\n",
    "# adding a sublist\n",
    "groceries.extend(fruits)  \n",
    "print(groceries)"
   ]
  },
  {
   "cell_type": "markdown",
   "id": "4439a2fe",
   "metadata": {},
   "source": [
    "👉 **Deleting list elements**"
   ]
  },
  {
   "cell_type": "code",
   "execution_count": 18,
   "id": "c9ece627",
   "metadata": {},
   "outputs": [
    {
     "data": {
      "text/plain": [
       "'Grapes'"
      ]
     },
     "execution_count": 18,
     "metadata": {},
     "output_type": "execute_result"
    }
   ],
   "source": [
    "groceries.pop()"
   ]
  },
  {
   "cell_type": "code",
   "execution_count": 19,
   "id": "9d5b9893",
   "metadata": {},
   "outputs": [
    {
     "name": "stdout",
     "output_type": "stream",
     "text": [
      "['Tomato', 'Potato', 'Garlic', 'Onion', 'Cabbage']\n"
     ]
    }
   ],
   "source": [
    "# delete the last element\n",
    "del groceries[-1]       \n",
    "print(groceries)"
   ]
  },
  {
   "cell_type": "markdown",
   "id": "5f415eaa",
   "metadata": {},
   "source": [
    "👉 **Deleting List**"
   ]
  },
  {
   "cell_type": "code",
   "execution_count": null,
   "id": "9eac444c",
   "metadata": {},
   "outputs": [],
   "source": [
    "# delete the list\n",
    "del groceries           \n",
    "print(groceries)"
   ]
  },
  {
   "cell_type": "markdown",
   "id": "7a5b349b",
   "metadata": {},
   "source": [
    "👉 **Creating lists using range()**"
   ]
  },
  {
   "cell_type": "code",
   "execution_count": 20,
   "id": "75997ede",
   "metadata": {},
   "outputs": [
    {
     "name": "stdout",
     "output_type": "stream",
     "text": [
      "[range(10, 20)]\n"
     ]
    }
   ],
   "source": [
    "My_list = [range(10, 20, 1)]\n",
    "  \n",
    "# Print the list\n",
    "print(My_list)"
   ]
  },
  {
   "cell_type": "markdown",
   "id": "29eb75e5",
   "metadata": {},
   "source": [
    "👉 **Copying one list to another**"
   ]
  },
  {
   "cell_type": "code",
   "execution_count": null,
   "id": "f7c2ba3a",
   "metadata": {},
   "outputs": [],
   "source": [
    "lis1 = [ 1, 2, 3, 4 ]\n",
    " \n",
    "# Using copy() to create a shallow copy\n",
    "lis2 = lis1.copy()\n",
    " \n",
    "# Printing new list\n",
    "print (\"The new list created is : \" + str(lis2))\n",
    " \n",
    "# Adding new element to new list\n",
    "lis2.append(5)\n",
    " \n",
    "# Printing lists after adding new element\n",
    "# No change in old list\n",
    "print (\"The new list after adding new element : \\\n",
    "\" + str(lis2))\n",
    "print (\"The old list after adding new element to new list  : \\\n",
    "\" + str(lis1))"
   ]
  },
  {
   "cell_type": "markdown",
   "id": "1c8a8924",
   "metadata": {},
   "source": [
    "### 💣 Challenge\n",
    "\n",
    "Write a program to remove empty lists from a list.\n",
    "\n",
    "Input: [5, 6, [], 3, [], [], 9]\n",
    "\n",
    "Output: [5, 6, 3, 9]"
   ]
  },
  {
   "cell_type": "code",
   "execution_count": 1,
   "id": "457adeae",
   "metadata": {},
   "outputs": [
    {
     "data": {
      "text/plain": [
       "[5, 6, 3, 9]"
      ]
     },
     "execution_count": 1,
     "metadata": {},
     "output_type": "execute_result"
    }
   ],
   "source": [
    "list1 = [5, 6, [], 3, [], [], 9]\n",
    "result = []\n",
    "for i in list1:\n",
    "    if i != []:\n",
    "        result.append(i)\n",
    "result"
   ]
  },
  {
   "cell_type": "markdown",
   "id": "9a5a3dbf",
   "metadata": {},
   "source": [
    "## 📚 <u>Tuple</u>"
   ]
  },
  {
   "cell_type": "markdown",
   "id": "b28cc8b7",
   "metadata": {},
   "source": [
    "👉 **Creating tuples**"
   ]
  },
  {
   "cell_type": "code",
   "execution_count": 21,
   "id": "1b428d1d",
   "metadata": {},
   "outputs": [
    {
     "name": "stdout",
     "output_type": "stream",
     "text": [
      "()\n",
      "('Jeff', 'Bill', 'Steve', 'Yash')\n",
      "(1, 2, 3, 4, 5)\n",
      "(1, 'Steve', True, 25, 12000)\n"
     ]
    }
   ],
   "source": [
    "tpl=() # empty tuple\n",
    "print(tpl)\n",
    "\n",
    "names = ('Jeff', 'Bill', 'Steve', 'Yash') # string tuple\n",
    "print(names)\n",
    "\n",
    "nums = (1, 2, 3, 4, 5) # int tuple\n",
    "print(nums)\n",
    "\n",
    "employee=(1, 'Steve', True, 25, 12000)  # heterogeneous data tuple\n",
    "print(employee)"
   ]
  },
  {
   "cell_type": "code",
   "execution_count": 22,
   "id": "19c6e44f",
   "metadata": {},
   "outputs": [
    {
     "name": "stdout",
     "output_type": "stream",
     "text": [
      "('Jeff', 'Bill', 'Steve', 'Yash')\n",
      "(1, 2, 3, 4, 5)\n",
      "(1, 'Steve', True, 25, 12000)\n"
     ]
    }
   ],
   "source": [
    "# without enclosing within brackets\n",
    "names = 'Jeff', 'Bill', 'Steve', 'Yash' # string tuple\n",
    "print(names)\n",
    "\n",
    "nums = 1, 2, 3, 4, 5 # int tuple\n",
    "print(nums)\n",
    "\n",
    "employee=1, 'Steve', True, 25, 12000  # heterogeneous data tuple\n",
    "print(employee)"
   ]
  },
  {
   "cell_type": "markdown",
   "id": "b4f91637",
   "metadata": {},
   "source": [
    "👉 **Access Tuple Elements**"
   ]
  },
  {
   "cell_type": "code",
   "execution_count": null,
   "id": "6ddcd76f",
   "metadata": {},
   "outputs": [],
   "source": [
    "names = ('Jeff', 'Bill', 'Steve', 'Yash') \n",
    "print(names[0])\n",
    "print(names[3]) \n",
    "\n",
    "nums = (1, 2, 3, 4, 5) \n",
    "print(nums[0])\n",
    "\n",
    "# negative index\n",
    "\n",
    "# index out of range error"
   ]
  },
  {
   "cell_type": "markdown",
   "id": "18d95ac3",
   "metadata": {},
   "source": [
    "👉 **Modify tuple elements**"
   ]
  },
  {
   "cell_type": "code",
   "execution_count": 23,
   "id": "62b48359",
   "metadata": {},
   "outputs": [
    {
     "ename": "TypeError",
     "evalue": "'tuple' object does not support item assignment",
     "output_type": "error",
     "traceback": [
      "\u001b[0;31m---------------------------------------------------------------------------\u001b[0m",
      "\u001b[0;31mTypeError\u001b[0m                                 Traceback (most recent call last)",
      "\u001b[0;32m/var/folders/9w/st742bzj6csgjv5gdxxzl1wc0000gn/T/ipykernel_79228/2694068123.py\u001b[0m in \u001b[0;36m<module>\u001b[0;34m\u001b[0m\n\u001b[1;32m      1\u001b[0m \u001b[0;31m# modifying tuple elements\u001b[0m\u001b[0;34m\u001b[0m\u001b[0;34m\u001b[0m\u001b[0m\n\u001b[1;32m      2\u001b[0m \u001b[0mnames\u001b[0m \u001b[0;34m=\u001b[0m \u001b[0;34m(\u001b[0m\u001b[0;34m'Jeff'\u001b[0m\u001b[0;34m,\u001b[0m \u001b[0;34m'Bill'\u001b[0m\u001b[0;34m,\u001b[0m \u001b[0;34m'Steve'\u001b[0m\u001b[0;34m,\u001b[0m \u001b[0;34m'Yash'\u001b[0m\u001b[0;34m)\u001b[0m\u001b[0;34m\u001b[0m\u001b[0;34m\u001b[0m\u001b[0m\n\u001b[0;32m----> 3\u001b[0;31m \u001b[0mnames\u001b[0m\u001b[0;34m[\u001b[0m\u001b[0;36m0\u001b[0m\u001b[0;34m]\u001b[0m \u001b[0;34m=\u001b[0m \u001b[0;34m'Swati'\u001b[0m\u001b[0;34m\u001b[0m\u001b[0;34m\u001b[0m\u001b[0m\n\u001b[0m",
      "\u001b[0;31mTypeError\u001b[0m: 'tuple' object does not support item assignment"
     ]
    }
   ],
   "source": [
    "# modifying tuple elements\n",
    "names = ('Jeff', 'Bill', 'Steve', 'Yash') \n",
    "names[0] = 'Swati'"
   ]
  },
  {
   "cell_type": "code",
   "execution_count": 24,
   "id": "4296aad4",
   "metadata": {},
   "outputs": [
    {
     "ename": "TypeError",
     "evalue": "'tuple' object doesn't support item deletion",
     "output_type": "error",
     "traceback": [
      "\u001b[0;31m---------------------------------------------------------------------------\u001b[0m",
      "\u001b[0;31mTypeError\u001b[0m                                 Traceback (most recent call last)",
      "\u001b[0;32m/var/folders/9w/st742bzj6csgjv5gdxxzl1wc0000gn/T/ipykernel_79228/809253104.py\u001b[0m in \u001b[0;36m<module>\u001b[0;34m\u001b[0m\n\u001b[0;32m----> 1\u001b[0;31m \u001b[0;32mdel\u001b[0m \u001b[0mnames\u001b[0m\u001b[0;34m[\u001b[0m\u001b[0;36m0\u001b[0m\u001b[0;34m]\u001b[0m\u001b[0;34m\u001b[0m\u001b[0;34m\u001b[0m\u001b[0m\n\u001b[0m",
      "\u001b[0;31mTypeError\u001b[0m: 'tuple' object doesn't support item deletion"
     ]
    }
   ],
   "source": [
    "del names[0]"
   ]
  },
  {
   "cell_type": "markdown",
   "id": "72b205f9",
   "metadata": {},
   "source": [
    "👉 **Lists within tuples**"
   ]
  },
  {
   "cell_type": "code",
   "execution_count": null,
   "id": "c6b10e33",
   "metadata": {},
   "outputs": [],
   "source": []
  },
  {
   "cell_type": "markdown",
   "id": "bdadade3",
   "metadata": {},
   "source": [
    "👉 **Typecast**"
   ]
  },
  {
   "cell_type": "code",
   "execution_count": 26,
   "id": "b0118440",
   "metadata": {},
   "outputs": [
    {
     "data": {
      "text/plain": [
       "['Jeff', 'Bill', 'Steve', 'Yash']"
      ]
     },
     "execution_count": 26,
     "metadata": {},
     "output_type": "execute_result"
    }
   ],
   "source": [
    "# typecast tuple to list\n",
    "list(names)"
   ]
  },
  {
   "cell_type": "code",
   "execution_count": null,
   "id": "700291c1",
   "metadata": {},
   "outputs": [],
   "source": []
  },
  {
   "cell_type": "markdown",
   "id": "f337736d",
   "metadata": {},
   "source": [
    "### 💣 Challenge\n",
    "\n",
    "Write a program to reverse a tuple\n",
    "\n",
    "Input: (10, 20, 30, 40, 50)\n",
    "\n",
    "Output: (50, 40, 30, 20, 10)"
   ]
  },
  {
   "cell_type": "code",
   "execution_count": 2,
   "id": "913bd0a3",
   "metadata": {},
   "outputs": [
    {
     "data": {
      "text/plain": [
       "(50, 40, 30, 20, 10)"
      ]
     },
     "execution_count": 2,
     "metadata": {},
     "output_type": "execute_result"
    }
   ],
   "source": [
    "tup = (10, 20, 30, 40, 50)\n",
    "def rev(tup):\n",
    "    tup = tup[::-1]\n",
    "    return tup\n",
    "\n",
    "result = rev(tup)\n",
    "result"
   ]
  },
  {
   "cell_type": "markdown",
   "id": "5568c745",
   "metadata": {},
   "source": [
    "## 📚 <u>Sets</u>"
   ]
  },
  {
   "cell_type": "markdown",
   "id": "26e84a06",
   "metadata": {},
   "source": [
    "**Creating a set**"
   ]
  },
  {
   "cell_type": "code",
   "execution_count": 28,
   "id": "cd37b2ac",
   "metadata": {},
   "outputs": [
    {
     "name": "stdout",
     "output_type": "stream",
     "text": [
      "{'Tuesday', 'Thursday', 'Monday', 'Friday', 'Sunday', 'Saturday', 'Wednesday'}\n",
      "<class 'set'>\n",
      "looping through the set elements ... \n",
      "Tuesday\n",
      "Thursday\n",
      "Monday\n",
      "Friday\n",
      "Sunday\n",
      "Saturday\n",
      "Wednesday\n"
     ]
    }
   ],
   "source": [
    "# using curly braces\n",
    "Days = {\"Monday\", \"Tuesday\", \"Wednesday\", \"Thursday\", \"Friday\", \"Saturday\", \"Sunday\"}    \n",
    "print(Days)    \n",
    "print(type(Days))    \n",
    "print(\"looping through the set elements ... \")    \n",
    "for i in Days:    \n",
    "    print(i)    "
   ]
  },
  {
   "cell_type": "code",
   "execution_count": 1,
   "id": "0b0a493a",
   "metadata": {},
   "outputs": [
    {
     "name": "stdout",
     "output_type": "stream",
     "text": [
      "{'Monday', 'Saturday', 'Friday', 'Sunday', 'Thursday', 'Wednesday', 'Tuesday'}\n",
      "<class 'set'>\n",
      "looping through the set elements ... \n",
      "Monday\n",
      "Saturday\n",
      "Friday\n",
      "Sunday\n",
      "Thursday\n",
      "Wednesday\n",
      "Tuesday\n"
     ]
    }
   ],
   "source": [
    "# using set() method\n",
    "Days = set([\"Monday\", \"Tuesday\", \"Wednesday\", \"Thursday\", \"Friday\", \"Saturday\", \"Sunday\"])    \n",
    "print(Days)    \n",
    "print(type(Days))    \n",
    "print(\"looping through the set elements ... \")    \n",
    "for i in Days:    \n",
    "    print(i)  "
   ]
  },
  {
   "cell_type": "markdown",
   "id": "08d54208",
   "metadata": {},
   "source": [
    "**Adding items to the set**"
   ]
  },
  {
   "cell_type": "code",
   "execution_count": null,
   "id": "e011c1bd",
   "metadata": {},
   "outputs": [],
   "source": [
    "# Using add() method\n",
    "Months = set([\"January\",\"February\", \"March\", \"April\", \"May\", \"June\"])\n",
    "print(months)\n",
    "Months.add(\"July\");    \n",
    "Months.add (\"August\");    \n",
    "print(\"\\nPrinting the modified set...\");    \n",
    "print(Months)    \n",
    "print(\"\\nlooping through the set elements ... \")    \n",
    "for i in Months:    \n",
    "    print(i)    "
   ]
  },
  {
   "cell_type": "code",
   "execution_count": null,
   "id": "47f7a38f",
   "metadata": {},
   "outputs": [],
   "source": [
    "# Using update() function\n",
    "Months = set([\"January\",\"February\", \"March\", \"April\", \"May\", \"June\"])    \n",
    "print(\"\\nprinting the original set ... \")    \n",
    "print(Months)    \n",
    "print(\"\\nupdating the original set ... \")    \n",
    "Months.update([\"July\",\"August\",\"September\",\"October\"]);    \n",
    "print(\"\\nprinting the modified set ... \")     \n",
    "print(Months);  "
   ]
  },
  {
   "cell_type": "markdown",
   "id": "4753cab9",
   "metadata": {},
   "source": [
    "**Removing items from the set**"
   ]
  },
  {
   "cell_type": "code",
   "execution_count": null,
   "id": "01f561f7",
   "metadata": {},
   "outputs": [],
   "source": [
    "# Using discard() method\n",
    "months = set([\"January\",\"February\", \"March\", \"April\", \"May\", \"June\"])    \n",
    "print(\"\\nprinting the original set ... \")    \n",
    "print(months)    \n",
    "print(\"\\nRemoving some months from the set...\");    \n",
    "months.discard(\"January\");    \n",
    "months.discard(\"May\");    \n",
    "print(\"\\nPrinting the modified set...\");    \n",
    "print(months)    \n",
    "print(\"\\nlooping through the set elements ... \")    \n",
    "for i in months:    \n",
    "    print(i)    "
   ]
  },
  {
   "cell_type": "code",
   "execution_count": null,
   "id": "0a460412",
   "metadata": {},
   "outputs": [],
   "source": [
    "# Using remove() function\n",
    "months = set([\"January\",\"February\", \"March\", \"April\", \"May\", \"June\"])    \n",
    "print(\"\\nprinting the original set ... \")    \n",
    "print(months)    \n",
    "print(\"\\nRemoving some months from the set...\");    \n",
    "months.remove(\"January\");    \n",
    "months.remove(\"May\");    \n",
    "print(\"\\nPrinting the modified set...\");    \n",
    "print(months) "
   ]
  },
  {
   "cell_type": "markdown",
   "id": "3ebf8afa",
   "metadata": {},
   "source": [
    "**Set Operations**"
   ]
  },
  {
   "cell_type": "code",
   "execution_count": 29,
   "id": "8c8dfd5f",
   "metadata": {},
   "outputs": [
    {
     "name": "stdout",
     "output_type": "stream",
     "text": [
      "{'Tuesday', 'Thursday', 'Monday', 'Sunday', 'Friday', 'Saturday', 'Wednesday'}\n"
     ]
    }
   ],
   "source": [
    "# Union of two Sets\n",
    "Days1 = {\"Monday\",\"Tuesday\",\"Wednesday\",\"Thursday\", \"Sunday\"}    \n",
    "Days2 = {\"Friday\",\"Saturday\",\"Sunday\"}    \n",
    "print(Days1|Days2)"
   ]
  },
  {
   "cell_type": "code",
   "execution_count": 30,
   "id": "b239c208",
   "metadata": {},
   "outputs": [
    {
     "name": "stdout",
     "output_type": "stream",
     "text": [
      "{'Tuesday', 'Monday'}\n"
     ]
    }
   ],
   "source": [
    "#Intersection of two sets\n",
    "Days1 = {\"Monday\",\"Tuesday\", \"Wednesday\", \"Thursday\"}    \n",
    "Days2 = {\"Monday\",\"Tuesday\",\"Sunday\", \"Friday\"}    \n",
    "print(Days1&Days2) "
   ]
  },
  {
   "cell_type": "code",
   "execution_count": null,
   "id": "f61ebfa4",
   "metadata": {},
   "outputs": [],
   "source": [
    "# Difference between the two sets\n",
    "Days1 = {\"Monday\",  \"Tuesday\", \"Wednesday\", \"Thursday\"}    \n",
    "Days2 = {\"Monday\", \"Tuesday\", \"Sunday\"}    \n",
    "print(Days1-Days2)"
   ]
  },
  {
   "cell_type": "markdown",
   "id": "e36902e7",
   "metadata": {},
   "source": [
    "### 💣 Challenge\n",
    "\n",
    "Check if two lists have at-least one element common\n",
    "\n",
    "Input : \n",
    "a = [1, 2, 3, 4, 5]\n",
    "\n",
    "b = [5, 6, 7, 8, 9]\n",
    "  \n",
    "Output : True\n",
    "\n",
    "Input : \n",
    "\n",
    "a=[1, 2, 3, 4, 5]\n",
    "\n",
    "b=[6, 7, 8, 9]\n",
    "\n",
    "Output : False"
   ]
  },
  {
   "cell_type": "code",
   "execution_count": 8,
   "id": "139169f2",
   "metadata": {},
   "outputs": [
    {
     "name": "stdout",
     "output_type": "stream",
     "text": [
      "True\n",
      "False\n"
     ]
    }
   ],
   "source": [
    "def common_member(a, b):\n",
    "    if (set(a) & set(b)):\n",
    "        return True \n",
    "    else:\n",
    "        return False\n",
    "          \n",
    "a = [1, 2, 3, 4, 5]\n",
    "b = [5, 6, 7, 8, 9]\n",
    "print(common_member(a, b))\n",
    "  \n",
    "a =[1, 2, 3, 4, 5]\n",
    "b =[6, 7, 8, 9]\n",
    "print(common_member(a, b))"
   ]
  },
  {
   "cell_type": "markdown",
   "id": "2c7c11e0",
   "metadata": {},
   "source": [
    "## 📚 <u>Dictionary</u>"
   ]
  },
  {
   "cell_type": "markdown",
   "id": "466cd095",
   "metadata": {},
   "source": [
    "👉 **Creating Dictionary**"
   ]
  },
  {
   "cell_type": "code",
   "execution_count": 4,
   "id": "c3575af3",
   "metadata": {},
   "outputs": [
    {
     "name": "stdout",
     "output_type": "stream",
     "text": [
      "{'Tomato': 5, 'Potato': 3, 'Chilli': 10, 'Onion': 7}\n"
     ]
    }
   ],
   "source": [
    "# dictionary\n",
    "groceries = {'Tomato': 5, 'Potato': 3, 'Chilli': 10, 'Onion': 7}\n",
    "print(groceries)"
   ]
  },
  {
   "cell_type": "markdown",
   "id": "759eac61",
   "metadata": {},
   "source": [
    "👉 **Accessing dictionary values**"
   ]
  },
  {
   "cell_type": "code",
   "execution_count": 5,
   "id": "35c2d616",
   "metadata": {},
   "outputs": [
    {
     "name": "stdout",
     "output_type": "stream",
     "text": [
      "5\n"
     ]
    }
   ],
   "source": [
    "# accessing values for specific keys\n",
    "print(groceries['Tomato'])"
   ]
  },
  {
   "cell_type": "markdown",
   "id": "42815d8b",
   "metadata": {},
   "source": [
    "👉 **Adding items to dictionary**"
   ]
  },
  {
   "cell_type": "code",
   "execution_count": 6,
   "id": "c423e8dc",
   "metadata": {},
   "outputs": [
    {
     "name": "stdout",
     "output_type": "stream",
     "text": [
      "{'Tomato': 5, 'Potato': 3, 'Chilli': 10, 'Onion': 7, 'Cabbage': 1}\n"
     ]
    }
   ],
   "source": [
    "# adding items into dictionary\n",
    "groceries['Cabbage'] = 1\n",
    "print(groceries)"
   ]
  },
  {
   "cell_type": "markdown",
   "id": "120ca8ed",
   "metadata": {},
   "source": [
    "👉 **Replacing dictionary values**"
   ]
  },
  {
   "cell_type": "code",
   "execution_count": 7,
   "id": "fb452a75",
   "metadata": {},
   "outputs": [
    {
     "name": "stdout",
     "output_type": "stream",
     "text": [
      "{'Tomato': 5, 'Potato': 2, 'Chilli': 10, 'Onion': 7, 'Cabbage': 1}\n"
     ]
    }
   ],
   "source": [
    "# replace value of a specific key\n",
    "groceries.update({'Potato': 2})\n",
    "print(groceries)"
   ]
  },
  {
   "cell_type": "markdown",
   "id": "7eaf51b1",
   "metadata": {},
   "source": [
    "👉 **Dictionary length**"
   ]
  },
  {
   "cell_type": "code",
   "execution_count": 8,
   "id": "81befa20",
   "metadata": {},
   "outputs": [
    {
     "name": "stdout",
     "output_type": "stream",
     "text": [
      "5\n"
     ]
    }
   ],
   "source": [
    "# count number of items in the dictionary\n",
    "print(len(groceries))"
   ]
  },
  {
   "cell_type": "markdown",
   "id": "d14818a8",
   "metadata": {},
   "source": [
    "👉 **Looping dictionary**"
   ]
  },
  {
   "cell_type": "code",
   "execution_count": 10,
   "id": "4677b9ff",
   "metadata": {},
   "outputs": [
    {
     "name": "stdout",
     "output_type": "stream",
     "text": [
      "Tomato 5\n",
      "Potato 2\n",
      "Chilli 10\n",
      "Onion 7\n",
      "Cabbage 1\n",
      "5\n",
      "2\n",
      "10\n",
      "7\n",
      "1\n",
      "Tomato\n",
      "Potato\n",
      "Chilli\n",
      "Onion\n",
      "Cabbage\n",
      "dict_items([('Tomato', 5), ('Potato', 2), ('Chilli', 10), ('Onion', 7), ('Cabbage', 1)])\n",
      "dict_keys(['Tomato', 'Potato', 'Chilli', 'Onion', 'Cabbage'])\n",
      "dict_values([5, 2, 10, 7, 1])\n"
     ]
    }
   ],
   "source": [
    "# looping through dictionary items\n",
    "for key, value in groceries.items():\n",
    "    print(key, value)\n",
    "    \n",
    "for val in groceries.values():\n",
    "    print(val)\n",
    "    \n",
    "for key in groceries.keys():\n",
    "    print(key)\n",
    "    \n",
    "# retrieve list of items, keys and values\n",
    "print(groceries.items())\n",
    "print(groceries.keys())\n",
    "print(groceries.values())"
   ]
  },
  {
   "cell_type": "markdown",
   "id": "7a22f5ea",
   "metadata": {},
   "source": [
    "### 💣 Challenge\n",
    "\n",
    "Write a program to find the sum of all items in a dictionary.\n",
    "\n",
    "Input : {‘a’: 100, ‘b’:200, ‘c’:300}\n",
    "\n",
    "Output : 600\n",
    "\n",
    "Input : {‘x’: 25, ‘y’:18, ‘z’:45}\n",
    "\n",
    "Output : 88"
   ]
  },
  {
   "cell_type": "markdown",
   "id": "b3cdd967",
   "metadata": {},
   "source": [
    "## 📚 <u>Functions<u>"
   ]
  },
  {
   "cell_type": "code",
   "execution_count": 31,
   "id": "48ae6ebf",
   "metadata": {},
   "outputs": [
    {
     "name": "stdout",
     "output_type": "stream",
     "text": [
      "Hello World\n",
      "None\n"
     ]
    }
   ],
   "source": [
    "# defining and calling functions\n",
    "def hello_world():\n",
    "    print('Hello World')\n",
    "    \n",
    "print(hello_world())"
   ]
  },
  {
   "cell_type": "markdown",
   "id": "d33e06f0",
   "metadata": {},
   "source": [
    "### Types of Arguments:\n",
    "1. Required arguments\n",
    "2. Variable-length arguments\n",
    "3. Keyword arguments\n",
    "4. Default arguments"
   ]
  },
  {
   "cell_type": "markdown",
   "id": "605d907b",
   "metadata": {},
   "source": [
    "***Required arguments***"
   ]
  },
  {
   "cell_type": "code",
   "execution_count": null,
   "id": "6926fb6f",
   "metadata": {},
   "outputs": [],
   "source": [
    "# Required arguments\n",
    "def hello(name, age, contact):\n",
    "    return 'Hello'\n",
    "\n",
    "greet = hello('John', 15, 8907)\n",
    "print(greet)"
   ]
  },
  {
   "cell_type": "code",
   "execution_count": null,
   "id": "8d6d16ab",
   "metadata": {},
   "outputs": [],
   "source": [
    "# Multiple required arguments\n",
    "def greet(time_of_day, name):\n",
    "    return f'Good {time_of_day}, {name}!'\n",
    "\n",
    "greeting = greet('Morning', 'John')\n",
    "print(greeting)"
   ]
  },
  {
   "cell_type": "markdown",
   "id": "cd8e942d",
   "metadata": {},
   "source": [
    "***Variable-length arguments***"
   ]
  },
  {
   "cell_type": "code",
   "execution_count": null,
   "id": "c07db086",
   "metadata": {},
   "outputs": [],
   "source": [
    "def hello(*names):\n",
    "    print(\"Hello\")\n",
    "    list1 = []\n",
    "    for name in names:\n",
    "        print(name)\n",
    "        return name\n",
    "    print('still inside the function')\n",
    "    \n",
    "hello(\"Anna\", \"Sara\", 'John')"
   ]
  },
  {
   "cell_type": "markdown",
   "id": "0abccc69",
   "metadata": {},
   "source": [
    "***Keyword arguments***"
   ]
  },
  {
   "cell_type": "code",
   "execution_count": null,
   "id": "df3b27d9",
   "metadata": {},
   "outputs": [],
   "source": [
    "# Keyword arguments\n",
    "def hello(**name):\n",
    "    print(\"Hello\", name['fname'], name['lname'])\n",
    "\n",
    "hello(fname=\"Anne\", lname=\"Sullivan\")\n",
    "hello(lname=\"Pichai\", fname=\"Sundar\")\n",
    "hello(fname=\"Narendra\", mname=\"Damodar\", lname=\"Modi\")\n",
    "#hello(fname=\"Bill\")"
   ]
  },
  {
   "cell_type": "markdown",
   "id": "7e6f8c49",
   "metadata": {},
   "source": [
    "***Default arguments***"
   ]
  },
  {
   "cell_type": "code",
   "execution_count": null,
   "id": "02646970",
   "metadata": {},
   "outputs": [],
   "source": [
    "def hello (name=\"John\"):\n",
    "    print(\"Hello\", name)\n",
    "hello()\n",
    "hello(\"Mary\")"
   ]
  },
  {
   "cell_type": "code",
   "execution_count": null,
   "id": "70fdb138",
   "metadata": {},
   "outputs": [],
   "source": []
  },
  {
   "cell_type": "markdown",
   "id": "4f1c4b71",
   "metadata": {},
   "source": [
    "### 💣 Challenge"
   ]
  },
  {
   "cell_type": "markdown",
   "id": "0578b20a",
   "metadata": {},
   "source": [
    "Take a integers of variable length and return their sum.\n",
    "\n",
    "input: 12, 24, 3, 5\n",
    "\n",
    "input: 3, 4"
   ]
  },
  {
   "cell_type": "code",
   "execution_count": null,
   "id": "828f969e",
   "metadata": {},
   "outputs": [],
   "source": []
  }
 ],
 "metadata": {
  "kernelspec": {
   "display_name": "Python 3 (ipykernel)",
   "language": "python",
   "name": "python3"
  },
  "language_info": {
   "codemirror_mode": {
    "name": "ipython",
    "version": 3
   },
   "file_extension": ".py",
   "mimetype": "text/x-python",
   "name": "python",
   "nbconvert_exporter": "python",
   "pygments_lexer": "ipython3",
   "version": "3.9.7"
  }
 },
 "nbformat": 4,
 "nbformat_minor": 5
}
