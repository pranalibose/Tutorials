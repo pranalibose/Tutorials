{
 "cells": [
  {
   "cell_type": "markdown",
   "id": "59c2ed45",
   "metadata": {},
   "source": [
    "# Basics of Python"
   ]
  },
  {
   "cell_type": "markdown",
   "id": "6bb7719c",
   "metadata": {},
   "source": [
    "## 1. <u>Fundamentals</u>\n",
    "   1. **Variables** – Storage units.\n",
    "   2. **Strings** – Texts or numbers or any other character enclosed within single or double quotes.\n",
    "   3. **Numbers** – Integers or floats and the basic operations.\n",
    "   4. **Booleans** – True or False values."
   ]
  },
  {
   "cell_type": "markdown",
   "id": "5a3727f0",
   "metadata": {},
   "source": [
    "**What is a variable in Python?**\n",
    "\n",
    "When you develop a program, you need to manage values, a lot of them. To store values, you use variables.\n",
    "<p>In Python, a variable is a label that you can assign a value to it. And a variable is always associated with a value.\n",
    "    \n",
    "Rules for Python variables:\n",
    "\n",
    "1. A variable name must start with a letter or the underscore character\n",
    "2. A variable name cannot start with a number\n",
    "3. A variable name can only contain alpha-numeric characters and underscores (A-z, 0-9, and _ )\n",
    "4. Variable names are case-sensitive (age, Age and AGE are three different variables)\n",
    "    \n",
    "    \n",
    "# Shift+Enter to execute the cell"
   ]
  },
  {
   "cell_type": "code",
   "execution_count": null,
   "id": "de4d785c",
   "metadata": {},
   "outputs": [],
   "source": [
    "# let's start with printing 'hello world!'\n",
    "message = 'Hello, World!'\n",
    "print(message)\n",
    "\n",
    "message = 'Good Bye!'\n",
    "print(message)\n",
    "\n",
    "novalue = 'some value'\n",
    "print(novalue)"
   ]
  },
  {
   "cell_type": "code",
   "execution_count": null,
   "id": "109cbe49",
   "metadata": {},
   "outputs": [],
   "source": [
    "# creating variables\n",
    "# variable_name = value\n",
    "\n",
    "counter = 1\n",
    "session_name = \"session on python\""
   ]
  },
  {
   "cell_type": "markdown",
   "id": "8049e627",
   "metadata": {},
   "source": [
    "**Strings**\n",
    "\n",
    "A string is a series of characters. In Python, anything inside quotes is a string. And you can use either single or double quotes."
   ]
  },
  {
   "cell_type": "code",
   "execution_count": null,
   "id": "d5c0aa7c",
   "metadata": {},
   "outputs": [],
   "source": [
    "# different ways of printing strings\n",
    "message = 'This is a string in Python'\n",
    "message = \"This is also a string\"\n",
    "\n",
    "message = \"It's a string\"\n",
    "print(message)\n",
    "\n",
    "message = '\"Beautiful is better than ugly.\". Said Tim Peters'\n",
    "\n",
    "message = 'It\\'s also a valid string'\n",
    "print(message)"
   ]
  },
  {
   "cell_type": "code",
   "execution_count": null,
   "id": "c99f5b3d",
   "metadata": {},
   "outputs": [],
   "source": [
    "# creating multiline string\n",
    "help_message = '''\n",
    "Usage: mysql command\n",
    "    -h hostname     \n",
    "    -d database name\n",
    "    -u username\n",
    "    -p password \n",
    "'''\n",
    "\n",
    "print(help_message)"
   ]
  },
  {
   "cell_type": "code",
   "execution_count": null,
   "id": "3fcb7e84",
   "metadata": {},
   "outputs": [],
   "source": [
    "# f-strings\n",
    "name = 'Tom'\n",
    "message = f'Hi {name}'\n",
    "print(message)\n",
    "\n",
    "today = 'Monday'\n",
    "tomorrow = 'Wednesday'\n",
    "\n",
    "print(f'Happy {today}, Tomorrow is {tomorrow}')"
   ]
  },
  {
   "cell_type": "markdown",
   "id": "9449c836",
   "metadata": {},
   "source": [
    "***Mini Challange:***\n",
    "Print today's date and current weather in the below format:\n",
    "\n",
    "'Today is {month} {day}, {year} and currently it is {temperature} Celcius'"
   ]
  },
  {
   "cell_type": "code",
   "execution_count": null,
   "id": "08ce0530",
   "metadata": {},
   "outputs": [],
   "source": [
    "# answer\n",
    "month='June'\n",
    "day='26'\n",
    "year='2022'\n",
    "temperature=23\n",
    "\n",
    "print(f'Today is {month} {day}, {year} and currently it is {temperature} Celcius')"
   ]
  },
  {
   "cell_type": "code",
   "execution_count": null,
   "id": "c956d9a7",
   "metadata": {},
   "outputs": [],
   "source": [
    "# concatenating strings\n",
    "\n",
    "greeting = 'Good ' 'Morning!'\n",
    "print(greeting)"
   ]
  },
  {
   "cell_type": "code",
   "execution_count": null,
   "id": "d95381dd",
   "metadata": {},
   "outputs": [],
   "source": [
    "greeting = 'Good '\n",
    "time = 'Afternoon'\n",
    "\n",
    "greeting = greeting + time + '!'\n",
    "print(greeting)\n",
    "\n",
    "number = 5\n",
    "string = 'I am'\n",
    "\n",
    "print(string + ' ' + str(number))\n",
    "\n",
    "print(type(number))"
   ]
  },
  {
   "cell_type": "markdown",
   "id": "8b913aa7",
   "metadata": {},
   "source": [
    "***Mini Challange:***\n",
    "\n",
    "Take two variables, first name and last name and concatenate them into another variable, full name. Print the below:\n",
    "\n",
    "'I am {full name}'"
   ]
  },
  {
   "cell_type": "code",
   "execution_count": null,
   "id": "166757c6",
   "metadata": {},
   "outputs": [],
   "source": []
  },
  {
   "cell_type": "code",
   "execution_count": null,
   "id": "d98ec028",
   "metadata": {},
   "outputs": [],
   "source": [
    "# accessing string elements\n",
    "string = \"Python String\"\n",
    "print(string[0])   #P\n",
    "print(string[1])   #y\n",
    "\n",
    "string = \"Python String\"\n",
    "print(string[-1])  #g\n",
    "print(string[-2])  #n\n",
    "\n",
    "# string slicing and index error\n",
    "x = \"hello world\"\n",
    "s = x[2:]\n",
    "print(s)\n",
    "s = x[:3]\n",
    "print(s)\n",
    "\n",
    "print(x[20])\n"
   ]
  },
  {
   "cell_type": "code",
   "execution_count": null,
   "id": "082aacdc",
   "metadata": {},
   "outputs": [],
   "source": [
    "# Reverse a string\n",
    "\n",
    "string = \"sunday\"\n",
    "reverse_string = string[::-1]\n",
    "\n",
    "print(string)\n",
    "print(reverse_string)"
   ]
  },
  {
   "cell_type": "code",
   "execution_count": null,
   "id": "c4b54b4c",
   "metadata": {},
   "outputs": [],
   "source": [
    "# getting length of string\n",
    "str = \"Python String\"\n",
    "str_len = len(str)\n",
    "print(str_len)"
   ]
  },
  {
   "cell_type": "code",
   "execution_count": null,
   "id": "9ce13e46",
   "metadata": {},
   "outputs": [],
   "source": [
    "# string slicing\n",
    "str = \"Python String\"\n",
    "print(str[0:2])"
   ]
  },
  {
   "cell_type": "markdown",
   "id": "502e6a7a",
   "metadata": {},
   "source": [
    "***Mini Challange:***\n",
    "\n",
    "Check whether the string 'madam' is a palindrome or not"
   ]
  },
  {
   "cell_type": "code",
   "execution_count": null,
   "id": "bcf528ac",
   "metadata": {},
   "outputs": [],
   "source": [
    "#1. define a variable and assign the value 'madam' to it\n",
    "#2. take another variable and store the reverse of the value 'madam'\n",
    "#3. check whether both the variables are equal or not\n",
    "\n",
    "string = 'madam'\n",
    "reverse_string = string[::-1]\n",
    "if string == reverse_string:\n",
    "    print('Pallindrome')\n",
    "else:\n",
    "    print('Not pallindrome')"
   ]
  },
  {
   "cell_type": "code",
   "execution_count": null,
   "id": "a79b76b0",
   "metadata": {},
   "outputs": [],
   "source": [
    "# python strings are immutable\n",
    "string = \"Python String\"\n",
    "string[0] = 'J'"
   ]
  },
  {
   "cell_type": "code",
   "execution_count": null,
   "id": "973813e7",
   "metadata": {},
   "outputs": [],
   "source": [
    "# create new string to modify an existing one\n",
    "string = \"Python String\"\n",
    "new_str = 'J' + string[1:]\n",
    "print(new_str)"
   ]
  },
  {
   "cell_type": "markdown",
   "id": "92f0fa42",
   "metadata": {},
   "source": [
    "### String Methods\n",
    "\n",
    "| ***Method***            ||   ***Description***|\n",
    "| :---:            ||   :---:|\n",
    "| **capitalize()** ||\tConverts the first character to upper case |\n",
    "| **count()**      ||\tReturns the number of times a specified value occurs in a string |\n",
    "| **index()**      ||\tSearches the string for a specified value and returns the position of where it was found |\n",
    "| **join()**       ||\tJoins the elements of an iterable to the end of the string | \n",
    "| **lower()**      ||\tConverts a string into lower case |\n",
    "| **lstrip()**     ||\tReturns a left trim version of the string |\n",
    "| **replace()**    ||\tReturns a string where a specified value is replaced with a specified value |\n",
    "| **rstrip()**     ||\tReturns a right trim version of the string |\n",
    "| **split()**      ||\tSplits the string at the specified separator, and returns a list |\n",
    "| **upper()**      ||\tConverts a string into upper case |"
   ]
  },
  {
   "cell_type": "code",
   "execution_count": null,
   "id": "b9018762",
   "metadata": {},
   "outputs": [],
   "source": [
    "# capitalize\n",
    "txt = \"hello, and welcome to my world.\"\n",
    "\n",
    "x = txt.capitalize()\n",
    "\n",
    "print (x)"
   ]
  },
  {
   "cell_type": "markdown",
   "id": "13725f18",
   "metadata": {},
   "source": [
    "***Mini Challange :***\n",
    "\n",
    "Find a method to convert first letter of each word in a string to capital letter"
   ]
  },
  {
   "cell_type": "code",
   "execution_count": null,
   "id": "5ada965a",
   "metadata": {},
   "outputs": [],
   "source": []
  },
  {
   "cell_type": "code",
   "execution_count": null,
   "id": "9f3be9d2",
   "metadata": {},
   "outputs": [],
   "source": [
    "# count\n",
    "txt = \"I love apples, apples are my favorite fruit\"\n",
    "\n",
    "x = txt.count(\"I \")\n",
    "\n",
    "print(x)"
   ]
  },
  {
   "cell_type": "code",
   "execution_count": null,
   "id": "0ab49a2c",
   "metadata": {},
   "outputs": [],
   "source": [
    "# index\n",
    "txt = \"Hello, welcome to my world.\"\n",
    "\n",
    "x = txt.index(\"Hello\")\n",
    "\n",
    "print(x)"
   ]
  },
  {
   "cell_type": "code",
   "execution_count": null,
   "id": "a74edd9f",
   "metadata": {},
   "outputs": [],
   "source": [
    "# join\n",
    "myTuple = (\"John\", \"Peter\", \"Vicky\")\n",
    "\n",
    "#'separator.join(myTuple)'\n",
    "x = ''.join(myTuple)\n",
    "\n",
    "print(x)\n",
    "print(type(x))"
   ]
  },
  {
   "cell_type": "code",
   "execution_count": null,
   "id": "8bebd478",
   "metadata": {},
   "outputs": [],
   "source": [
    "# upper and lower\n",
    "txt = \"Hello my FRIENDS\"\n",
    "\n",
    "x = txt.lower()\n",
    "y = txt.upper()\n",
    "\n",
    "print(x)\n",
    "print(y)"
   ]
  },
  {
   "cell_type": "code",
   "execution_count": null,
   "id": "7cd5690f",
   "metadata": {},
   "outputs": [],
   "source": [
    "# lstrip and rstrip\n",
    "txt = \"     banana     \"\n",
    "\n",
    "x = txt.lstrip()\n",
    "y = txt.rstrip()\n",
    "\n",
    "print(\"of all fruits\", x, \"is my favorite\")\n",
    "print(\"of all fruits\", y, \"is my favorite\")\n",
    "\n",
    "txt = \",,,,,ssaaww.....banana\"\n",
    "\n",
    "x = txt.lstrip(\",s\")\n",
    "\n",
    "print(x)"
   ]
  },
  {
   "cell_type": "code",
   "execution_count": null,
   "id": "67c1ea59",
   "metadata": {},
   "outputs": [],
   "source": [
    "# replace\n",
    "txt = \"I like bananas\"\n",
    "\n",
    "print(txt)\n",
    "\n",
    "x = txt.replace(\"bananas\", \"apples\")\n",
    "\n",
    "print(x)"
   ]
  },
  {
   "cell_type": "code",
   "execution_count": null,
   "id": "0e5e2201",
   "metadata": {},
   "outputs": [],
   "source": [
    "# split\n",
    "txt = \"hello, my name is Peter, I am 26 years old\"\n",
    "\n",
    "x = txt.split(\", \")\n",
    "\n",
    "print(x)"
   ]
  },
  {
   "cell_type": "markdown",
   "id": "b28e2418",
   "metadata": {},
   "source": [
    "***Mini Challenge:***\n",
    "\n",
    "Take a string: 'Hello, today, is, my, birthday     '\n",
    "\n",
    "Perform the below\n",
    "1. Split the string on ',' and print it.\n",
    "2. Remove trailing spaces\n",
    "3. Change the first letter of each word into capital letter"
   ]
  },
  {
   "cell_type": "code",
   "execution_count": null,
   "id": "1123b8cd",
   "metadata": {},
   "outputs": [],
   "source": []
  },
  {
   "cell_type": "markdown",
   "id": "f1c982b3",
   "metadata": {},
   "source": [
    "**Numbers**\n",
    "\n",
    "Python supports integers, floats, and complex numbers. Here, we will discusses only integers and floats."
   ]
  },
  {
   "cell_type": "code",
   "execution_count": null,
   "id": "5fb20738",
   "metadata": {},
   "outputs": [],
   "source": [
    "# integers\n",
    "print(20 + 10)\n",
    "print(20 - 10)\n",
    "print(20 * 10)\n",
    "print(20 // 10)\n",
    "\n",
    "print(3**3)\n",
    "\n",
    "print(20 / (10 + 10))"
   ]
  },
  {
   "cell_type": "code",
   "execution_count": null,
   "id": "e1f19080",
   "metadata": {},
   "outputs": [],
   "source": [
    "# float\n",
    "print(2.5 + 0.4)\n",
    "print(2.5 - 0.4)\n",
    "print(2.5 * 0.4)\n",
    "print(2.5 / 0.4)\n",
    "\n",
    "print(2.5 ** 2)"
   ]
  },
  {
   "cell_type": "markdown",
   "id": "5978b976",
   "metadata": {},
   "source": [
    "***Mini Challenge:***\n",
    "\n",
    "Check whether 38 is an even number."
   ]
  },
  {
   "cell_type": "code",
   "execution_count": null,
   "id": "66cce587",
   "metadata": {},
   "outputs": [],
   "source": []
  },
  {
   "cell_type": "markdown",
   "id": "47047fab",
   "metadata": {},
   "source": [
    "**Boolean**\n",
    "\n",
    "In programming, you often want to check if a condition is true or not and perform some actions based on the result.\n",
    "\n",
    "To represent true and false, Python provides you with the boolean data type. The boolean value has a technical name as bool.\n",
    "\n",
    "The boolean data type has two values: True and False.\n",
    "\n",
    "Note: The boolean values True and False start with the capital letters (T) and (F)."
   ]
  },
  {
   "cell_type": "code",
   "execution_count": null,
   "id": "21903302",
   "metadata": {},
   "outputs": [],
   "source": [
    "is_active = True\n",
    "is_admin = False\n",
    "\n",
    "print(type(is_active))"
   ]
  },
  {
   "cell_type": "code",
   "execution_count": null,
   "id": "985f1cff",
   "metadata": {},
   "outputs": [],
   "source": [
    "print(is_active or is_admin)"
   ]
  },
  {
   "cell_type": "code",
   "execution_count": null,
   "id": "065ece1f",
   "metadata": {},
   "outputs": [],
   "source": [
    "num1 = 24\n",
    "num2 = 24\n",
    "print(num1 == num2)\n",
    "if num1 == num2:\n",
    "    print('Is Active!')"
   ]
  },
  {
   "cell_type": "markdown",
   "id": "29ed3144",
   "metadata": {},
   "source": [
    "## 2. <u>Control flow</u>\n",
    "   1. **if…else statement** – learn how to execute a code block based on a condition.\n",
    "   3. **for loop** – show you how to execute a code block for a fixed number of times by using the for loop with range() function."
   ]
  },
  {
   "cell_type": "code",
   "execution_count": null,
   "id": "e2828520",
   "metadata": {},
   "outputs": [],
   "source": [
    "# if else \n",
    "age = input('Enter your age:')\n",
    "if int(age) >= 18 and int(age)<=60:\n",
    "    print(\"You're eligible to vote.\")\n",
    "elif int(age)>60:\n",
    "    print(\"Senior citizens not allowed.\")\n",
    "else:\n",
    "    print('You are not eligible to vote.')"
   ]
  },
  {
   "cell_type": "code",
   "execution_count": null,
   "id": "47326f8d",
   "metadata": {},
   "outputs": [],
   "source": [
    "number = input('Enter you number: ')\n",
    "num = int(number)\n",
    "print(type(number))\n",
    "print(type(num))"
   ]
  },
  {
   "cell_type": "markdown",
   "id": "9a1ccc47",
   "metadata": {},
   "source": [
    "***Mini Challenge:***\n",
    "\n",
    "Take user input of marks and print whether the student passed or failed.\n",
    "If marks less than 40, student fails."
   ]
  },
  {
   "cell_type": "code",
   "execution_count": null,
   "id": "1ab9cc61",
   "metadata": {},
   "outputs": [],
   "source": [
    "marks = int(input(\"Enter marks: \"))\n",
    "if marks>=40:\n",
    "    print(\"Pass\")\n",
    "else:\n",
    "    print(\"Fail\")"
   ]
  },
  {
   "cell_type": "code",
   "execution_count": null,
   "id": "696dad1f",
   "metadata": {},
   "outputs": [],
   "source": [
    "# for loops\n",
    "for number in range(10, 21, 3):\n",
    "    print(number)"
   ]
  },
  {
   "cell_type": "markdown",
   "id": "02551199",
   "metadata": {},
   "source": [
    "## 3. <u>Other important concepts (in brief):</u>\n",
    "\n",
    "1. Random Numbers\n",
    "2. Lists\n",
    "3. Dictionaries\n",
    "4. User Inputs"
   ]
  },
  {
   "cell_type": "code",
   "execution_count": null,
   "id": "cbb1258b",
   "metadata": {},
   "outputs": [],
   "source": [
    "# Random Numbers\n",
    "import random\n",
    "\n",
    "a = random.randint(2, 6)\n",
    "\n",
    "print(a)"
   ]
  },
  {
   "cell_type": "code",
   "execution_count": null,
   "id": "9b4e0796",
   "metadata": {},
   "outputs": [],
   "source": []
  },
  {
   "cell_type": "code",
   "execution_count": null,
   "id": "92aa5e00",
   "metadata": {
    "scrolled": false
   },
   "outputs": [],
   "source": [
    "# lists\n",
    "groceries = ['Tomato', 'Potato', 'Chilli', 'Onion']\n",
    "print(groceries)\n",
    "\n",
    "# accessing elements of list\n",
    "print(groceries[1])     \n",
    "\n",
    "# adding into lists\n",
    "groceries.append('Cabbage')\n",
    "print(groceries)       \n",
    "\n",
    "# replacing elements in lists\n",
    "groceries[2] = 'Garlic'\n",
    "print(groceries)       \n",
    "\n",
    "# looping through lists\n",
    "for i in groceries:\n",
    "    print(i)        \n",
    "    \n",
    "# list size \n",
    "print(len(groceries))  \n",
    "\n",
    "fruits = ['Apple', 'Grapes']\n",
    "\n",
    "# adding a sublist\n",
    "groceries.extend(fruits)  \n",
    "print(groceries)\n",
    "\n",
    "# delete the last element\n",
    "del groceries[-1]       \n",
    "print(groceries)\n",
    "\n",
    "# delete the list\n",
    "del groceries           \n",
    "print(groceries)"
   ]
  },
  {
   "cell_type": "code",
   "execution_count": null,
   "id": "e276c7c6",
   "metadata": {},
   "outputs": [],
   "source": []
  },
  {
   "cell_type": "code",
   "execution_count": null,
   "id": "cae61f81",
   "metadata": {},
   "outputs": [],
   "source": [
    "# dictionary\n",
    "groceries = {'Tomato': 5, 'Potato': 3, 'Chilli': 10, 'Onion': 7}\n",
    "print(groceries)\n",
    "\n",
    "# accessing values for specific keys\n",
    "print(groceries['Tomato'])\n",
    "\n",
    "# adding items into dictionary\n",
    "groceries['Cabbage'] = 1\n",
    "\n",
    "# replace value of a specific key\n",
    "groceries.update({'Potato': 2})\n",
    "print(groceries)\n",
    "\n",
    "# count number of items in the dictionary\n",
    "print(len(groceries))\n",
    "\n",
    "# looping through dictionary items\n",
    "for key, value in groceries.items():\n",
    "    print(key, value)\n",
    "    \n",
    "# retrieve list of items, keys and values\n",
    "print(groceries.items())\n",
    "print(groceries.keys())\n",
    "print(groceries.values())"
   ]
  },
  {
   "cell_type": "code",
   "execution_count": null,
   "id": "61db7e42",
   "metadata": {},
   "outputs": [],
   "source": [
    "# User inputs\n",
    "name = input()\n",
    "print(name)\n",
    "type(name)"
   ]
  },
  {
   "cell_type": "markdown",
   "id": "0b8062c7",
   "metadata": {},
   "source": [
    "# <u>Hands-on Practice Questions</u>"
   ]
  },
  {
   "cell_type": "markdown",
   "id": "37802693",
   "metadata": {},
   "source": [
    "### 1. 'I Am Out' Game\n",
    "\n",
    "Write a program that takes user input in a variable (***limit***) and converts it into an integer. Display all the numbers from 1-***limit*** with the below conditions:\n",
    "\n",
    "Replace the even numbers with the text: \"I am ***number*** and I am out!\"\n",
    "\n",
    "Also, check the user input. If the user input is not between 1-20, print \"Not a valid value!\"\n",
    "\n",
    "For example, user enters 6:\n",
    "\n",
    "Output:\n",
    "\n",
    "1\n",
    "I am 2 and I am out!\n",
    "3\n",
    "I am 4 and I am out!\n",
    "5\n",
    "I am 6 and I am out!\n",
    "\n",
    "Concepts to use:\n",
    "1. Strings\n",
    "2. Numbers\n",
    "3. if..else\n",
    "4. for loop\n",
    "5. User input"
   ]
  },
  {
   "cell_type": "code",
   "execution_count": null,
   "id": "bf0b021b",
   "metadata": {},
   "outputs": [],
   "source": []
  },
  {
   "cell_type": "markdown",
   "id": "e86ed9fc",
   "metadata": {},
   "source": [
    "### 2. Fun Days\n",
    "\n",
    "Create a list of weekdays (***days***) from Monday-Sunday and loop through the list. \n",
    "\n",
    "For each day, display the below text:\n",
    "\"***day*** (all capital) is fun!\"\n",
    "\n",
    "For example,\n",
    "\n",
    "MONDAY is fun!\n",
    "\n",
    "Concepts used:\n",
    "1. strings\n",
    "2. loops\n",
    "3. lists"
   ]
  },
  {
   "cell_type": "code",
   "execution_count": null,
   "id": "668041dc",
   "metadata": {},
   "outputs": [],
   "source": []
  },
  {
   "cell_type": "markdown",
   "id": "e5458a1f",
   "metadata": {},
   "source": [
    "### 3. Fortune Number Generator\n",
    "\n",
    "Write a program to randomly generate a number (***lucky_number***) between 1-50 and display it to user based on another randomly generated number (***fortune_teller***) between 1-3. Consider the below conditions:\n",
    "1. if ***fortune_teller*** is 1 display:\n",
    "    \"Today is an amazing day! Your lucky number is ***lucky_number***.\"\n",
    "    \n",
    "2. if ***fortune_teller*** is 2 display:\n",
    "    \"Today is going to be a tough day! Your lucky number is ***lucky_number***.\"\n",
    "    \n",
    "3. if ***fortune_teller*** is 3 display:\n",
    "    \"Voila! Some good news is awaiting in ***current_month***! Your lucky number is ***lucky_number***.\"\n",
    "    \n",
    "Use the concepts lerant so far:\n",
    "1. Strings\n",
    "2. if..else\n",
    "3. Random numbers\n",
    "4. Modules"
   ]
  },
  {
   "cell_type": "code",
   "execution_count": null,
   "id": "35939d93",
   "metadata": {},
   "outputs": [],
   "source": []
  },
  {
   "cell_type": "markdown",
   "id": "30256433",
   "metadata": {},
   "source": [
    "### 4. Paragraph Analyzer\n",
    "\n",
    "Write a program to count number of occurrances of each word in the multi line string.\n",
    "\n",
    "Example String: \n",
    "\n",
    "Our environment is nature’s most precious and vital gift, which needs to be handled with utmost care. It is the natural ecological system where we live, depending on each other for survival. The environment is divided into physical and biological components. The atmosphere, lithosphere and hydrosphere constitute the physical category, and the biological category comprises human beings and other living beings. In simple terms, the environment is defined as the combination and interrelation between all biotic and abiotic components. The ecosystem of our environment needs to be maintained in a proper balance, and if any part of it is disturbed, the whole ecosystem gets affected.\n",
    "\n",
    "Concepts to be used:\n",
    "1. Strings\n",
    "2. Dictionaries\n",
    "3. Loops"
   ]
  },
  {
   "cell_type": "code",
   "execution_count": null,
   "id": "aef2f016",
   "metadata": {},
   "outputs": [],
   "source": []
  },
  {
   "cell_type": "markdown",
   "id": "d00d19bd",
   "metadata": {},
   "source": [
    "### 5. Trip Planner\n",
    "\n",
    "Consider the below dictionary of names and the respective ages of the travellers.\n",
    "\n",
    "{23: 'Male', 12: 'Male', 15: 'Female', 6: 'Female, 45: 'Male', 39: 'Female'}\n",
    "\n",
    "Calculate the travel cost of each of the travellers and store it in a list. There are two fares to consider - ***shopping*** and ***airfare***.\n",
    "\n",
    "1. shopping cost of the females are double their age whereas for the males it is 10 more than their age.\n",
    "2. air fare depends on the below condition:\n",
    "    - for females: \n",
    "        - if age is less than or equal to 10 and shopping cost is less than 20, air fare is 100 times the shopping cost\n",
    "        - if age is more than 10 but less than 30 and shopping cost is less than 30, air fare is 200 times the shopping cost\n",
    "        - if age is more than 30, air fare is 500 times the shopping cost\n",
    "    - for males: \n",
    "        - if age is less than or equal to 10 and shopping cost is less than 20, air fare is 50 times the shopping cost\n",
    "        - if age is more than 10 but less than 30 and shopping cost is less than 30, air fare is 100 times the shopping cost\n",
    "        - if age is more than 30, air fare is 200 times the shopping cost\n",
    "\n",
    "Concepts covered:\n",
    "1. Numbers \n",
    "2. Operations\n",
    "3. Dictionaries\n",
    "4. Lists\n",
    "5. if..else\n",
    "6. for loop"
   ]
  },
  {
   "cell_type": "code",
   "execution_count": null,
   "id": "1712665b",
   "metadata": {},
   "outputs": [],
   "source": []
  },
  {
   "cell_type": "markdown",
   "id": "54b9e152",
   "metadata": {},
   "source": [
    "### 6. Print Pi\n",
    "\n",
    "Write a python program to print the value of pi based on the below infinite series (consider upto 15 terms):\n",
    "\n",
    "pi = 3 + 4/(2x3x4) - 4/(4x5x6) + 4/(6x7x8) - 4/(8x9x10) + ....\n",
    "\n",
    "Concepts covered:\n",
    "1. Numbers\n",
    "2. Operations\n",
    "3. if..else\n",
    "4. loops"
   ]
  },
  {
   "cell_type": "code",
   "execution_count": null,
   "id": "50a45bae",
   "metadata": {},
   "outputs": [],
   "source": []
  },
  {
   "cell_type": "markdown",
   "id": "a3502f04",
   "metadata": {},
   "source": [
    "## <u>Jupyter Notebook Themes</u>\n",
    "\n",
    "1. Install the jupyter themes package\n",
    "***pip install jupyterthemes***\n",
    "\n",
    "2. To see all the available themes\n",
    "***jt -l***\n",
    "\n",
    "3. To change to a particular theme\n",
    "***jt -t theme-name***\n",
    "\n",
    "Restart your notebook to see the changes.\n",
    "\n",
    "4. To revert the changes,\n",
    "***jt -r***"
   ]
  },
  {
   "cell_type": "code",
   "execution_count": null,
   "id": "3e0d25c2",
   "metadata": {},
   "outputs": [],
   "source": [
    "pip install jupyterthemes"
   ]
  },
  {
   "cell_type": "code",
   "execution_count": null,
   "id": "6d4b59e0",
   "metadata": {},
   "outputs": [],
   "source": [
    "!jt -l"
   ]
  },
  {
   "cell_type": "code",
   "execution_count": null,
   "id": "028b407b",
   "metadata": {},
   "outputs": [],
   "source": [
    "!jt -t chesterish"
   ]
  },
  {
   "cell_type": "code",
   "execution_count": null,
   "id": "9abc2f9b",
   "metadata": {},
   "outputs": [],
   "source": [
    "!jt -r"
   ]
  },
  {
   "cell_type": "code",
   "execution_count": null,
   "id": "989761ef",
   "metadata": {},
   "outputs": [],
   "source": []
  }
 ],
 "metadata": {
  "kernelspec": {
   "display_name": "Python 3 (ipykernel)",
   "language": "python",
   "name": "python3"
  },
  "language_info": {
   "codemirror_mode": {
    "name": "ipython",
    "version": 3
   },
   "file_extension": ".py",
   "mimetype": "text/x-python",
   "name": "python",
   "nbconvert_exporter": "python",
   "pygments_lexer": "ipython3",
   "version": "3.9.7"
  }
 },
 "nbformat": 4,
 "nbformat_minor": 5
}
