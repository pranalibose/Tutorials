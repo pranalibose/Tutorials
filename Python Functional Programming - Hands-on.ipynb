{
 "cells": [
  {
   "cell_type": "markdown",
   "id": "d76550fd",
   "metadata": {},
   "source": [
    "# Agenda\n",
    "\n",
    "1. Recap of important topics\n",
    "2. MCQs\n",
    "3. Exercises\n",
    "4. Doubts clearing session"
   ]
  },
  {
   "cell_type": "code",
   "execution_count": 1,
   "id": "5aa7ec0f",
   "metadata": {},
   "outputs": [
    {
     "name": "stdout",
     "output_type": "stream",
     "text": [
      "{1, 2, 3, 4, 5, 6, 7, 8, 9}\n",
      "<class 'set'>\n"
     ]
    }
   ],
   "source": [
    "# set comprehension\n",
    "new_set = {i for i in range(1, 10)}\n",
    "print(new_set)\n",
    "print(type(new_set))"
   ]
  },
  {
   "cell_type": "code",
   "execution_count": 4,
   "id": "cde42221",
   "metadata": {},
   "outputs": [
    {
     "name": "stdout",
     "output_type": "stream",
     "text": [
      "<class 'tuple'>\n",
      "(1, 2, 3, 4, 5, 6, 7, 8, 9)\n"
     ]
    }
   ],
   "source": [
    "# tuple comprehension\n",
    "tup = tuple(i for i in range(1, 10))\n",
    "print(type(tup))\n",
    "print(tup)"
   ]
  },
  {
   "cell_type": "code",
   "execution_count": null,
   "id": "8477dc33",
   "metadata": {},
   "outputs": [],
   "source": [
    "# github link to materials\n",
    "https://github.com/pranalibose/Tutorials"
   ]
  },
  {
   "cell_type": "code",
   "execution_count": null,
   "id": "a0794078",
   "metadata": {},
   "outputs": [],
   "source": []
  },
  {
   "cell_type": "code",
   "execution_count": null,
   "id": "7ca19f3a",
   "metadata": {},
   "outputs": [],
   "source": []
  },
  {
   "cell_type": "markdown",
   "id": "082bc1c4",
   "metadata": {},
   "source": [
    "## <u>MCQs</u>"
   ]
  },
  {
   "cell_type": "markdown",
   "id": "99a74dd7",
   "metadata": {},
   "source": [
    "### 📍 What will be the output of the following Python code?   3️⃣           \n",
    "\n",
    "<code>import functools</code><p>\n",
    "<code>l=[1,2,3,4]</code><p>\n",
    "<code>print(functools.reduce(lambda x,y:x*y,l))</code>\n",
    "    \n",
    "a) Error\n",
    "    \n",
    "b) 10\n",
    "    \n",
    "c) 24\n",
    "    \n",
    "d) No output"
   ]
  },
  {
   "cell_type": "code",
   "execution_count": 85,
   "id": "5667d364",
   "metadata": {},
   "outputs": [],
   "source": [
    "# c: 24"
   ]
  },
  {
   "cell_type": "markdown",
   "id": "da07104f",
   "metadata": {},
   "source": [
    "### 📍 What will be the output of  3️⃣\n",
    "<code>print([i+j for i in \"abc\" for j in \"def\"])</code>\n",
    "\n",
    "a) [‘da’, ‘ea’, ‘fa’, ‘db’, ‘eb’, ‘fb’, ‘dc’, ‘ec’, ‘fc’]\n",
    "\n",
    "b) [[‘ad’, ‘bd’, ‘cd’], [‘ae’, ‘be’, ‘ce’], [‘af’, ‘bf’, ‘cf’]]\n",
    "\n",
    "c) [[‘da’, ‘db’, ‘dc’], [‘ea’, ‘eb’, ‘ec’], [‘fa’, ‘fb’, ‘fc’]]\n",
    "\n",
    "d) [‘ad’, ‘ae’, ‘af’, ‘bd’, ‘be’, ‘bf’, ‘cd’, ‘ce’, ‘cf’]"
   ]
  },
  {
   "cell_type": "code",
   "execution_count": null,
   "id": "acca8de0",
   "metadata": {},
   "outputs": [],
   "source": [
    "# d: [‘ad’, ‘ae’, ‘af’, ‘bd’, ‘be’, ‘bf’, ‘cd’, ‘ce’, ‘cf’]"
   ]
  },
  {
   "cell_type": "markdown",
   "id": "637aa266",
   "metadata": {},
   "source": [
    "### 📍 What will be the output of 3️⃣\n",
    "<code>print([[i+j for i in \"abc\"] for j in \"def\"])</code>\n",
    "\n",
    "a) [‘da’, ‘ea’, ‘fa’, ‘db’, ‘eb’, ‘fb’, ‘dc’, ‘ec’, ‘fc’]\n",
    "\n",
    "b) [[‘ad’, ‘bd’, ‘cd’], [‘ae’, ‘be’, ‘ce’], [‘af’, ‘bf’, ‘cf’]]\n",
    "\n",
    "c) [[‘da’, ‘db’, ‘dc’], [‘ea’, ‘eb’, ‘ec’], [‘fa’, ‘fb’, ‘fc’]]\n",
    "\n",
    "d) [‘ad’, ‘ae’, ‘af’, ‘bd’, ‘be’, ‘bf’, ‘cd’, ‘ce’, ‘cf’]"
   ]
  },
  {
   "cell_type": "code",
   "execution_count": 86,
   "id": "cfef1c90",
   "metadata": {},
   "outputs": [],
   "source": [
    "# b: [[‘ad’, ‘bd’, ‘cd’], [‘ae’, ‘be’, ‘ce’], [‘af’, ‘bf’, ‘cf’]]"
   ]
  },
  {
   "cell_type": "markdown",
   "id": "7637aad3",
   "metadata": {},
   "source": [
    "### 📍 Which of the following is the same as   3️⃣\n",
    "<code>list(map(lambda x: x**-1, [1, 2, 3]))?</code>\n",
    "\n",
    "a) [x**-1 for x in [(1, 2, 3)]]\n",
    "\n",
    "b) [1/x for x in [(1, 2, 3)]]\n",
    "\n",
    "c) [1/x for x in (1, 2, 3)]\n",
    "\n",
    "d) error"
   ]
  },
  {
   "cell_type": "code",
   "execution_count": 87,
   "id": "646eaffe",
   "metadata": {},
   "outputs": [],
   "source": [
    "# c: [1/x for x in (1, 2, 3)]"
   ]
  },
  {
   "cell_type": "markdown",
   "id": "b0de69dc",
   "metadata": {},
   "source": [
    "### 📍 What will be the output  3️⃣\n",
    "<code>f=lambda x:bool(x%2)</code>\n",
    "\n",
    "<code>print(f(20), f(21))</code>\n",
    "\n",
    "a) False True\n",
    "\n",
    "b) False False\n",
    "\n",
    "c) True True\n",
    "\n",
    "d) True False"
   ]
  },
  {
   "cell_type": "code",
   "execution_count": 88,
   "id": "ef7f75b7",
   "metadata": {},
   "outputs": [],
   "source": [
    "# a: False True"
   ]
  },
  {
   "cell_type": "markdown",
   "id": "39f94ebc",
   "metadata": {},
   "source": [
    "# <u>Exercises</u>"
   ]
  },
  {
   "cell_type": "markdown",
   "id": "8f5bb32a",
   "metadata": {},
   "source": [
    "### ❓ Write a function that counts vowels and consonants in a word 5️⃣\n",
    "word = physics\n",
    "\n",
    "output:\n",
    "\n",
    "vowels: 1\n",
    "\n",
    "consonents: 6"
   ]
  },
  {
   "cell_type": "code",
   "execution_count": 27,
   "id": "c3c877ce",
   "metadata": {},
   "outputs": [
    {
     "name": "stdout",
     "output_type": "stream",
     "text": [
      "Enter a word: maths\n",
      "No. of vowels:  1\n",
      "No. of consonents:  4\n"
     ]
    }
   ],
   "source": [
    "variable = input('Enter a word: ')\n",
    "def count(word):\n",
    "    vowels = 0\n",
    "    consonents = 0\n",
    "#     list_vowels = ['a', 'e', 'i', 'o', 'u']\n",
    "    for i in word:\n",
    "        if i.lower() in 'aeiou':\n",
    "            vowels += 1\n",
    "        else:\n",
    "            consonents += 1\n",
    "    return vowels, consonents\n",
    "\n",
    "\n",
    "v, c = count(variable)\n",
    "print('No. of vowels: ', v)\n",
    "print('No. of consonents: ', c)"
   ]
  },
  {
   "cell_type": "markdown",
   "id": "4e6a1e97",
   "metadata": {},
   "source": [
    "### ❓ Using the filter function, find the values that are common to the two lists below 5️⃣\n",
    "\n",
    "a = [11,23,13,15,79,97]\n",
    "b = [23,13,15,6,97,81]"
   ]
  },
  {
   "cell_type": "code",
   "execution_count": 28,
   "id": "b4ea7928",
   "metadata": {},
   "outputs": [
    {
     "data": {
      "text/plain": [
       "[23, 13, 15, 97]"
      ]
     },
     "execution_count": 28,
     "metadata": {},
     "output_type": "execute_result"
    }
   ],
   "source": [
    "a = [11,23,13,15,79,97] \n",
    "b = [23,13,15,6,97,81]\n",
    "\n",
    "result = list(filter(lambda x: x in a, b))\n",
    "result"
   ]
  },
  {
   "cell_type": "markdown",
   "id": "348a960d",
   "metadata": {},
   "source": [
    "### ❓ Create a function named calculate_product that receives an arbitary argument list and returns the product of all the arguments, Call the function with the arguments 10, 20 and 30 and then with the arguments 5, 15, 20, 8, 50  5️⃣"
   ]
  },
  {
   "cell_type": "code",
   "execution_count": 31,
   "id": "da03f918",
   "metadata": {},
   "outputs": [
    {
     "data": {
      "text/plain": [
       "0"
      ]
     },
     "execution_count": 31,
     "metadata": {},
     "output_type": "execute_result"
    }
   ],
   "source": [
    "def calculate_product(*args):\n",
    "    prdt = 1\n",
    "    for i in args:\n",
    "        prdt *= i\n",
    "    return prdt\n",
    "\n",
    "calculate_product(10, 20, 30, 5, 0)"
   ]
  },
  {
   "cell_type": "markdown",
   "id": "43bc2fa2",
   "metadata": {},
   "source": [
    "### ❓ Create a list of 3 elements and calculate the third potency of each element using a list comprehension  5️⃣\n",
    "\n",
    "numbers = [2, 8, 5]\n",
    "\n",
    "output = [8, 512, 125]"
   ]
  },
  {
   "cell_type": "code",
   "execution_count": 32,
   "id": "0a081480",
   "metadata": {},
   "outputs": [
    {
     "data": {
      "text/plain": [
       "[8, 512, 125]"
      ]
     },
     "execution_count": 32,
     "metadata": {},
     "output_type": "execute_result"
    }
   ],
   "source": [
    "numbers = [2, 8, 5]\n",
    "result = [i**3 for i in numbers]\n",
    "result"
   ]
  },
  {
   "cell_type": "markdown",
   "id": "645e732c",
   "metadata": {},
   "source": [
    "### ❓ Write a program to generate the below result, using the map () function 5️⃣\n",
    "words = 'Data Science Academy offers the best data analysis courses in Brazil'\n",
    "\n",
    "output:\n",
    "\n",
    "['DATA', 'data', 4]\n",
    "\n",
    "['SCIENCE', 'science', 7]\n",
    "\n",
    "['ACADEMY', 'academy', 7]\n",
    "\n",
    "['OFFERS', 'offers', 6]\n",
    "\n",
    "['THE', 'the', 3]\n",
    "\n",
    "['BEST', 'best', 4]\n",
    "\n",
    "['DATA', 'data', 4]\n",
    "\n",
    "['ANALYSIS', 'analysis', 8]\n",
    "\n",
    "['COURSES', 'courses', 7]\n",
    "\n",
    "['IN', 'in', 2]\n",
    "\n",
    "['BRAZIL', 'brazil', 6]"
   ]
  },
  {
   "cell_type": "code",
   "execution_count": 36,
   "id": "22c47659",
   "metadata": {},
   "outputs": [
    {
     "name": "stdout",
     "output_type": "stream",
     "text": [
      "['DATA', 'data', 4]\n",
      "['SCIENCE', 'science', 7]\n",
      "['ACADEMY', 'academy', 7]\n",
      "['OFFERS', 'offers', 6]\n",
      "['THE', 'the', 3]\n",
      "['BEST', 'best', 4]\n",
      "['DATA', 'data', 4]\n",
      "['ANALYSIS', 'analysis', 8]\n",
      "['COURSES', 'courses', 7]\n",
      "['IN', 'in', 2]\n",
      "['BRAZIL', 'brazil', 6]\n"
     ]
    }
   ],
   "source": [
    "sentence = 'Data Science Academy offers the best data analysis courses in Brazil'\n",
    "def func(word):\n",
    "    return [word.upper(), word.lower(), len(word)]\n",
    "    \n",
    "result = map(func, sentence.split())\n",
    "\n",
    "for i in result:\n",
    "    print(i)"
   ]
  },
  {
   "cell_type": "markdown",
   "id": "7aa8b586",
   "metadata": {},
   "source": [
    "### ❓ Use a dictionary comprehension to count the length of each word in a sentence  5️⃣\n",
    "string = \"Practice Problems to Drill List Comprehension in Your Head\"\n",
    "\n",
    "Output:\n",
    "{\n",
    "'Practice': 8,\n",
    "'Problems': 8,\n",
    "'to': 2,\n",
    "'Drill': 5,\n",
    "'List': 4,\n",
    "'Comprehension': 13\n",
    "'in': 2,\n",
    "'Your': 4,\n",
    "'Head': 4\n",
    "}"
   ]
  },
  {
   "cell_type": "code",
   "execution_count": 41,
   "id": "82b192b0",
   "metadata": {},
   "outputs": [
    {
     "data": {
      "text/plain": [
       "{'Practice': 8,\n",
       " 'Problems': 8,\n",
       " 'to': 2,\n",
       " 'Drill': 5,\n",
       " 'List': 4,\n",
       " 'Comprehension': 13,\n",
       " 'in': 2,\n",
       " 'Your': 4,\n",
       " 'Head': 4}"
      ]
     },
     "execution_count": 41,
     "metadata": {},
     "output_type": "execute_result"
    }
   ],
   "source": [
    "string = \"Practice Problems to Drill List Comprehension in Your Head\"\n",
    "result = {k: len(k) for k in string.split()}\n",
    "result"
   ]
  },
  {
   "cell_type": "markdown",
   "id": "1d014c72",
   "metadata": {},
   "source": [
    "### ❓ Use a nested list comprehension to find all of the numbers from 1–100 that are divisible by any single digit besides 1 i.e. (2–9)  5️⃣"
   ]
  },
  {
   "cell_type": "code",
   "execution_count": 91,
   "id": "a60ea9fe",
   "metadata": {},
   "outputs": [
    {
     "data": {
      "text/plain": [
       "78"
      ]
     },
     "execution_count": 91,
     "metadata": {},
     "output_type": "execute_result"
    }
   ],
   "source": [
    "L1={i for j in range(2,10) for i in range(1,101) if i%j==0}\n",
    "len(list(L1))"
   ]
  },
  {
   "cell_type": "markdown",
   "id": "824ae171",
   "metadata": {},
   "source": [
    "### ❓ Print the prime numbers within a range, say 10-100 5️⃣\n",
    "1. With normal function\n",
    "2. Using list comprehension"
   ]
  },
  {
   "cell_type": "code",
   "execution_count": 92,
   "id": "b1de5d38",
   "metadata": {},
   "outputs": [
    {
     "data": {
      "text/plain": [
       "[11,\n",
       " 13,\n",
       " 17,\n",
       " 19,\n",
       " 23,\n",
       " 29,\n",
       " 31,\n",
       " 37,\n",
       " 41,\n",
       " 43,\n",
       " 47,\n",
       " 53,\n",
       " 59,\n",
       " 61,\n",
       " 67,\n",
       " 71,\n",
       " 73,\n",
       " 79,\n",
       " 83,\n",
       " 89,\n",
       " 97,\n",
       " 101]"
      ]
     },
     "execution_count": 92,
     "metadata": {},
     "output_type": "execute_result"
    }
   ],
   "source": [
    "def primes(start, stop):\n",
    "    result = []\n",
    "    for i in range(start, stop+1):\n",
    "        flag = 0\n",
    "        for j in range(2, int(i/2)+1):\n",
    "            if i%j == 0:\n",
    "                flag = 1\n",
    "                break\n",
    "        if flag != 1:\n",
    "            result.append(i)\n",
    "    return result\n",
    "    \n",
    "primes(10, 101)"
   ]
  },
  {
   "cell_type": "code",
   "execution_count": 94,
   "id": "659a9816",
   "metadata": {},
   "outputs": [
    {
     "data": {
      "text/plain": [
       "[11,\n",
       " 13,\n",
       " 17,\n",
       " 19,\n",
       " 23,\n",
       " 29,\n",
       " 31,\n",
       " 37,\n",
       " 41,\n",
       " 43,\n",
       " 47,\n",
       " 53,\n",
       " 59,\n",
       " 61,\n",
       " 67,\n",
       " 71,\n",
       " 73,\n",
       " 79,\n",
       " 83,\n",
       " 89,\n",
       " 97]"
      ]
     },
     "execution_count": 94,
     "metadata": {},
     "output_type": "execute_result"
    }
   ],
   "source": [
    "result = [num for num in range(10, 101) if 0 not in [num%divisor for divisor in range(2, int(num/2)+1)]]\n",
    "result"
   ]
  },
  {
   "cell_type": "markdown",
   "id": "8fd65db1",
   "metadata": {},
   "source": [
    "### ❓ From the list of employee dictionaries, perform the below tasks: 🔟\n",
    "\n",
    "1. Separate the developers from the non-developers using filter()\n",
    "2. Transfer the above resultant list to get just the employer's salaries\n",
    "3. Calculate average of values of developer salaries using reduce()\n",
    "\n",
    "Perform the above tasks:\n",
    "1. with normal functions\n",
    "2. Using lambda functions"
   ]
  },
  {
   "cell_type": "code",
   "execution_count": 68,
   "id": "334e4c7e",
   "metadata": {},
   "outputs": [],
   "source": [
    "employees = [{\n",
    "    'name': 'Jane',\n",
    "    'salary': 9000,\n",
    "    'job_title': 'developer'\n",
    "    },\n",
    "    {\n",
    "    'name': 'Bill',\n",
    "    'salary': 6000,\n",
    "    'job_title': 'writer'\n",
    "    },\n",
    "    {\n",
    "    'name': 'Anna',\n",
    "    'salary': 10000,\n",
    "    'job_title': 'executive'\n",
    "    },\n",
    "    {\n",
    "    'name': 'Jack',\n",
    "    'salary': 8000,\n",
    "    'job_title': 'developer'\n",
    "    },\n",
    "    {\n",
    "    'name': 'Danny',\n",
    "    'salary': 11000,\n",
    "    'job_title': 'developer'\n",
    "    },\n",
    "    {\n",
    "    'name': 'Mary',\n",
    "    'salary': 7000,\n",
    "    'job_title': 'marketing specialist'\n",
    "    }\n",
    "]"
   ]
  },
  {
   "cell_type": "code",
   "execution_count": 84,
   "id": "36219c64",
   "metadata": {},
   "outputs": [
    {
     "data": {
      "text/plain": [
       "'Jane'"
      ]
     },
     "execution_count": 84,
     "metadata": {},
     "output_type": "execute_result"
    }
   ],
   "source": [
    "employees[0]['name']"
   ]
  },
  {
   "cell_type": "code",
   "execution_count": 69,
   "id": "1b75d07c",
   "metadata": {},
   "outputs": [
    {
     "data": {
      "text/plain": [
       "[{'name': 'Jane', 'salary': 9000, 'job_title': 'developer'},\n",
       " {'name': 'Jack', 'salary': 8000, 'job_title': 'developer'},\n",
       " {'name': 'Danny', 'salary': 11000, 'job_title': 'developer'}]"
      ]
     },
     "execution_count": 69,
     "metadata": {},
     "output_type": "execute_result"
    }
   ],
   "source": [
    "# separate developers from non-developers\n",
    "def is_developer(employee):\n",
    "    return employee['job_title'] == 'developer'\n",
    "\n",
    "developers = list(filter(is_developer, employees))\n",
    "developers"
   ]
  },
  {
   "cell_type": "code",
   "execution_count": 71,
   "id": "14ee3a68",
   "metadata": {},
   "outputs": [
    {
     "data": {
      "text/plain": [
       "[{'name': 'Jane', 'salary': 9000, 'job_title': 'developer'},\n",
       " {'name': 'Jack', 'salary': 8000, 'job_title': 'developer'},\n",
       " {'name': 'Danny', 'salary': 11000, 'job_title': 'developer'}]"
      ]
     },
     "execution_count": 71,
     "metadata": {},
     "output_type": "execute_result"
    }
   ],
   "source": [
    "# list comprehension\n",
    "developers = list(filter(lambda employee: employee['job_title']=='developer', employees))\n",
    "developers"
   ]
  },
  {
   "cell_type": "code",
   "execution_count": 76,
   "id": "b9baf71d",
   "metadata": {},
   "outputs": [
    {
     "data": {
      "text/plain": [
       "[9000, 8000, 11000]"
      ]
     },
     "execution_count": 76,
     "metadata": {},
     "output_type": "execute_result"
    }
   ],
   "source": [
    "# using lambda\n",
    "def get_salary(employee):\n",
    "    return employee['salary']\n",
    "\n",
    "dev_salaries = list(map(get_salary, developers))\n",
    "dev_salaries"
   ]
  },
  {
   "cell_type": "code",
   "execution_count": 77,
   "id": "c2428e02",
   "metadata": {},
   "outputs": [
    {
     "data": {
      "text/plain": [
       "[9000, 8000, 11000]"
      ]
     },
     "execution_count": 77,
     "metadata": {},
     "output_type": "execute_result"
    }
   ],
   "source": [
    "# using lambda\n",
    "dev_salaries = list(map(lambda employee: employee['salary'], developers))\n",
    "dev_salaries"
   ]
  },
  {
   "cell_type": "code",
   "execution_count": 82,
   "id": "dceffb5c",
   "metadata": {},
   "outputs": [
    {
     "data": {
      "text/plain": [
       "9333.333333333334"
      ]
     },
     "execution_count": 82,
     "metadata": {},
     "output_type": "execute_result"
    }
   ],
   "source": [
    "# calculate avergare salary of the developers\n",
    "from functools import reduce\n",
    "\n",
    "def add(a,b):\n",
    "    return a+b\n",
    "\n",
    "total = reduce(add, dev_salaries)\n",
    "average = total/len(dev_salaries)\n",
    "average"
   ]
  },
  {
   "cell_type": "code",
   "execution_count": 83,
   "id": "2608a907",
   "metadata": {},
   "outputs": [
    {
     "data": {
      "text/plain": [
       "9333.333333333334"
      ]
     },
     "execution_count": 83,
     "metadata": {},
     "output_type": "execute_result"
    }
   ],
   "source": [
    "# using lambda\n",
    "total = reduce(lambda a,b: a+b, dev_salaries)\n",
    "total/len(dev_salaries)"
   ]
  },
  {
   "cell_type": "code",
   "execution_count": null,
   "id": "a7ac5abc",
   "metadata": {},
   "outputs": [],
   "source": []
  },
  {
   "cell_type": "code",
   "execution_count": null,
   "id": "bb1db973",
   "metadata": {},
   "outputs": [],
   "source": []
  },
  {
   "cell_type": "markdown",
   "id": "bc8b1c68",
   "metadata": {},
   "source": [
    "### 📚 Perform the above steps for non-developers using list comprehension"
   ]
  },
  {
   "cell_type": "code",
   "execution_count": null,
   "id": "a04b8d3e",
   "metadata": {},
   "outputs": [],
   "source": []
  },
  {
   "cell_type": "markdown",
   "id": "33f299ee",
   "metadata": {},
   "source": [
    "### 📚 Create two functions, one to elevate a number to square and the second to elevate to cube. Run both functions to the elements at the same time.\n",
    "\n",
    "input: numbers = [0, 1, 2, 3, 4]\n",
    "\n",
    "output: [[0, 0], [1, 1], [4, 8], [9, 27], [16, 64]]"
   ]
  },
  {
   "cell_type": "code",
   "execution_count": null,
   "id": "7ae56e03",
   "metadata": {},
   "outputs": [],
   "source": []
  },
  {
   "cell_type": "code",
   "execution_count": null,
   "id": "de546e75",
   "metadata": {},
   "outputs": [],
   "source": []
  }
 ],
 "metadata": {
  "kernelspec": {
   "display_name": "Python 3 (ipykernel)",
   "language": "python",
   "name": "python3"
  },
  "language_info": {
   "codemirror_mode": {
    "name": "ipython",
    "version": 3
   },
   "file_extension": ".py",
   "mimetype": "text/x-python",
   "name": "python",
   "nbconvert_exporter": "python",
   "pygments_lexer": "ipython3",
   "version": "3.9.7"
  }
 },
 "nbformat": 4,
 "nbformat_minor": 5
}
